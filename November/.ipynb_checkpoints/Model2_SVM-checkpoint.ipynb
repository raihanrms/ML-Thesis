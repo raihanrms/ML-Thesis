{
 "cells": [
  {
   "cell_type": "code",
   "execution_count": 1,
   "metadata": {
    "id": "ueX_9asGyghM"
   },
   "outputs": [],
   "source": [
    "import pandas as pd\n",
    "import numpy as np\n",
    "from matplotlib import pyplot as plt\n",
    "from sklearn.model_selection import train_test_split\n",
    "from sklearn.metrics import confusion_matrix\n",
    "from sklearn.svm import SVC\n",
    "from sklearn import metrics\n",
    "from sklearn import preprocessing\n",
    "from sklearn import svm"
   ]
  },
  {
   "cell_type": "code",
   "execution_count": 2,
   "metadata": {
    "colab": {
     "base_uri": "https://localhost:8080/"
    },
    "id": "hGuD1G2_ywL7",
    "outputId": "20e63986-799a-44f0-c350-d563a3e433e3"
   },
   "outputs": [
    {
     "data": {
      "text/plain": [
       "'D:\\\\12\\\\ML Thesis\\\\November'"
      ]
     },
     "execution_count": 2,
     "metadata": {},
     "output_type": "execute_result"
    }
   ],
   "source": [
    "pwd"
   ]
  },
  {
   "cell_type": "code",
   "execution_count": 3,
   "metadata": {
    "colab": {
     "base_uri": "https://localhost:8080/",
     "height": 414
    },
    "id": "P4CWHuiYy5Rw",
    "outputId": "a2749c8f-36f6-4e48-b14c-51eb685999f4"
   },
   "outputs": [
    {
     "data": {
      "text/html": [
       "<div>\n",
       "<style scoped>\n",
       "    .dataframe tbody tr th:only-of-type {\n",
       "        vertical-align: middle;\n",
       "    }\n",
       "\n",
       "    .dataframe tbody tr th {\n",
       "        vertical-align: top;\n",
       "    }\n",
       "\n",
       "    .dataframe thead th {\n",
       "        text-align: right;\n",
       "    }\n",
       "</style>\n",
       "<table border=\"1\" class=\"dataframe\">\n",
       "  <thead>\n",
       "    <tr style=\"text-align: right;\">\n",
       "      <th></th>\n",
       "      <th>Area</th>\n",
       "      <th>Year</th>\n",
       "      <th>Item</th>\n",
       "      <th>Area Harvested</th>\n",
       "      <th>Production</th>\n",
       "      <th>Yield</th>\n",
       "    </tr>\n",
       "  </thead>\n",
       "  <tbody>\n",
       "    <tr>\n",
       "      <th>0</th>\n",
       "      <td>Bangladesh</td>\n",
       "      <td>1961</td>\n",
       "      <td>Areca nuts</td>\n",
       "      <td>82600</td>\n",
       "      <td>62995</td>\n",
       "      <td>7627</td>\n",
       "    </tr>\n",
       "    <tr>\n",
       "      <th>1</th>\n",
       "      <td>Bangladesh</td>\n",
       "      <td>1961</td>\n",
       "      <td>Bananas</td>\n",
       "      <td>33600</td>\n",
       "      <td>446000</td>\n",
       "      <td>132738</td>\n",
       "    </tr>\n",
       "    <tr>\n",
       "      <th>2</th>\n",
       "      <td>Bangladesh</td>\n",
       "      <td>1961</td>\n",
       "      <td>Barley</td>\n",
       "      <td>29947</td>\n",
       "      <td>17272</td>\n",
       "      <td>5768</td>\n",
       "    </tr>\n",
       "    <tr>\n",
       "      <th>3</th>\n",
       "      <td>Bangladesh</td>\n",
       "      <td>1961</td>\n",
       "      <td>Bastfibres, others</td>\n",
       "      <td>30900</td>\n",
       "      <td>34350</td>\n",
       "      <td>11117</td>\n",
       "    </tr>\n",
       "    <tr>\n",
       "      <th>4</th>\n",
       "      <td>Bangladesh</td>\n",
       "      <td>1961</td>\n",
       "      <td>Beans, dry</td>\n",
       "      <td>68798</td>\n",
       "      <td>49784</td>\n",
       "      <td>7236</td>\n",
       "    </tr>\n",
       "    <tr>\n",
       "      <th>...</th>\n",
       "      <td>...</td>\n",
       "      <td>...</td>\n",
       "      <td>...</td>\n",
       "      <td>...</td>\n",
       "      <td>...</td>\n",
       "      <td>...</td>\n",
       "    </tr>\n",
       "    <tr>\n",
       "      <th>3180</th>\n",
       "      <td>Bangladesh</td>\n",
       "      <td>2019</td>\n",
       "      <td>Tomatoes</td>\n",
       "      <td>28205</td>\n",
       "      <td>387653</td>\n",
       "      <td>137441</td>\n",
       "    </tr>\n",
       "    <tr>\n",
       "      <th>3181</th>\n",
       "      <td>Bangladesh</td>\n",
       "      <td>2019</td>\n",
       "      <td>Vegetables, fresh nes</td>\n",
       "      <td>227884</td>\n",
       "      <td>2034364</td>\n",
       "      <td>89272</td>\n",
       "    </tr>\n",
       "    <tr>\n",
       "      <th>3182</th>\n",
       "      <td>Bangladesh</td>\n",
       "      <td>2019</td>\n",
       "      <td>Wheat</td>\n",
       "      <td>330348</td>\n",
       "      <td>30780</td>\n",
       "      <td>1016811</td>\n",
       "    </tr>\n",
       "    <tr>\n",
       "      <th>3183</th>\n",
       "      <td>Bangladesh</td>\n",
       "      <td>2019</td>\n",
       "      <td>Roots and Tubers</td>\n",
       "      <td>491409</td>\n",
       "      <td>9890963</td>\n",
       "      <td>201278</td>\n",
       "    </tr>\n",
       "    <tr>\n",
       "      <th>3184</th>\n",
       "      <td>Bangladesh</td>\n",
       "      <td>2019</td>\n",
       "      <td>Vegetables Primary</td>\n",
       "      <td>651132</td>\n",
       "      <td>6300864</td>\n",
       "      <td>96768</td>\n",
       "    </tr>\n",
       "  </tbody>\n",
       "</table>\n",
       "<p>3185 rows × 6 columns</p>\n",
       "</div>"
      ],
      "text/plain": [
       "            Area  Year                   Item  Area Harvested  Production  \\\n",
       "0     Bangladesh  1961             Areca nuts           82600       62995   \n",
       "1     Bangladesh  1961                Bananas           33600      446000   \n",
       "2     Bangladesh  1961                 Barley           29947       17272   \n",
       "3     Bangladesh  1961     Bastfibres, others           30900       34350   \n",
       "4     Bangladesh  1961             Beans, dry           68798       49784   \n",
       "...          ...   ...                    ...             ...         ...   \n",
       "3180  Bangladesh  2019               Tomatoes           28205      387653   \n",
       "3181  Bangladesh  2019  Vegetables, fresh nes          227884     2034364   \n",
       "3182  Bangladesh  2019                  Wheat          330348       30780   \n",
       "3183  Bangladesh  2019       Roots and Tubers          491409     9890963   \n",
       "3184  Bangladesh  2019     Vegetables Primary          651132     6300864   \n",
       "\n",
       "        Yield  \n",
       "0        7627  \n",
       "1      132738  \n",
       "2        5768  \n",
       "3       11117  \n",
       "4        7236  \n",
       "...       ...  \n",
       "3180   137441  \n",
       "3181    89272  \n",
       "3182  1016811  \n",
       "3183   201278  \n",
       "3184    96768  \n",
       "\n",
       "[3185 rows x 6 columns]"
      ]
     },
     "execution_count": 3,
     "metadata": {},
     "output_type": "execute_result"
    }
   ],
   "source": [
    "crop_df = pd.read_csv(\"D:\\\\12\\\\ML Thesis\\\\November\\\\Dataset_N.csv\")\n",
    "crop_df"
   ]
  },
  {
   "cell_type": "code",
   "execution_count": 4,
   "metadata": {
    "colab": {
     "base_uri": "https://localhost:8080/",
     "height": 414
    },
    "id": "lciUGRQazTeV",
    "outputId": "a449ec70-7f05-470a-b31d-6fcab50ecaf3"
   },
   "outputs": [
    {
     "data": {
      "text/html": [
       "<div>\n",
       "<style scoped>\n",
       "    .dataframe tbody tr th:only-of-type {\n",
       "        vertical-align: middle;\n",
       "    }\n",
       "\n",
       "    .dataframe tbody tr th {\n",
       "        vertical-align: top;\n",
       "    }\n",
       "\n",
       "    .dataframe thead th {\n",
       "        text-align: right;\n",
       "    }\n",
       "</style>\n",
       "<table border=\"1\" class=\"dataframe\">\n",
       "  <thead>\n",
       "    <tr style=\"text-align: right;\">\n",
       "      <th></th>\n",
       "      <th>Area Harvested</th>\n",
       "      <th>Production</th>\n",
       "      <th>Yield</th>\n",
       "    </tr>\n",
       "  </thead>\n",
       "  <tbody>\n",
       "    <tr>\n",
       "      <th>0</th>\n",
       "      <td>82600</td>\n",
       "      <td>62995</td>\n",
       "      <td>7627</td>\n",
       "    </tr>\n",
       "    <tr>\n",
       "      <th>1</th>\n",
       "      <td>33600</td>\n",
       "      <td>446000</td>\n",
       "      <td>132738</td>\n",
       "    </tr>\n",
       "    <tr>\n",
       "      <th>2</th>\n",
       "      <td>29947</td>\n",
       "      <td>17272</td>\n",
       "      <td>5768</td>\n",
       "    </tr>\n",
       "    <tr>\n",
       "      <th>3</th>\n",
       "      <td>30900</td>\n",
       "      <td>34350</td>\n",
       "      <td>11117</td>\n",
       "    </tr>\n",
       "    <tr>\n",
       "      <th>4</th>\n",
       "      <td>68798</td>\n",
       "      <td>49784</td>\n",
       "      <td>7236</td>\n",
       "    </tr>\n",
       "    <tr>\n",
       "      <th>...</th>\n",
       "      <td>...</td>\n",
       "      <td>...</td>\n",
       "      <td>...</td>\n",
       "    </tr>\n",
       "    <tr>\n",
       "      <th>3180</th>\n",
       "      <td>28205</td>\n",
       "      <td>387653</td>\n",
       "      <td>137441</td>\n",
       "    </tr>\n",
       "    <tr>\n",
       "      <th>3181</th>\n",
       "      <td>227884</td>\n",
       "      <td>2034364</td>\n",
       "      <td>89272</td>\n",
       "    </tr>\n",
       "    <tr>\n",
       "      <th>3182</th>\n",
       "      <td>330348</td>\n",
       "      <td>30780</td>\n",
       "      <td>1016811</td>\n",
       "    </tr>\n",
       "    <tr>\n",
       "      <th>3183</th>\n",
       "      <td>491409</td>\n",
       "      <td>9890963</td>\n",
       "      <td>201278</td>\n",
       "    </tr>\n",
       "    <tr>\n",
       "      <th>3184</th>\n",
       "      <td>651132</td>\n",
       "      <td>6300864</td>\n",
       "      <td>96768</td>\n",
       "    </tr>\n",
       "  </tbody>\n",
       "</table>\n",
       "<p>3185 rows × 3 columns</p>\n",
       "</div>"
      ],
      "text/plain": [
       "      Area Harvested  Production    Yield\n",
       "0              82600       62995     7627\n",
       "1              33600      446000   132738\n",
       "2              29947       17272     5768\n",
       "3              30900       34350    11117\n",
       "4              68798       49784     7236\n",
       "...              ...         ...      ...\n",
       "3180           28205      387653   137441\n",
       "3181          227884     2034364    89272\n",
       "3182          330348       30780  1016811\n",
       "3183          491409     9890963   201278\n",
       "3184          651132     6300864    96768\n",
       "\n",
       "[3185 rows x 3 columns]"
      ]
     },
     "execution_count": 4,
     "metadata": {},
     "output_type": "execute_result"
    }
   ],
   "source": [
    "crop_df=crop_df.drop('Area', axis=1)\n",
    "crop_df=crop_df.drop('Year', axis=1)\n",
    "crop_df=crop_df.drop('Item', axis=1)\n",
    "\n",
    "crop_df"
   ]
  },
  {
   "cell_type": "code",
   "execution_count": 5,
   "metadata": {
    "colab": {
     "base_uri": "https://localhost:8080/"
    },
    "id": "IX-Vcncn0DNP",
    "outputId": "cd21d9ed-772b-4e71-ae29-298c52403881"
   },
   "outputs": [
    {
     "data": {
      "text/plain": [
       "Index(['Area Harvested', 'Production', 'Yield'], dtype='object')"
      ]
     },
     "execution_count": 5,
     "metadata": {},
     "output_type": "execute_result"
    }
   ],
   "source": [
    "crop_df.keys()"
   ]
  },
  {
   "cell_type": "code",
   "execution_count": 6,
   "metadata": {
    "id": "SRbTROhh0Hmh"
   },
   "outputs": [],
   "source": [
    "crop_df['Area Harvested'] = pd.to_numeric(crop_df['Area Harvested'],errors = 'coerce')\n",
    "crop_df['Production'] = pd.to_numeric(crop_df['Production'],errors = 'coerce')\n",
    "crop_df['Yield'] = pd.to_numeric(crop_df['Yield'],errors = 'coerce')"
   ]
  },
  {
   "cell_type": "code",
   "execution_count": 7,
   "metadata": {
    "colab": {
     "base_uri": "https://localhost:8080/"
    },
    "id": "vSIYaL3C07WF",
    "outputId": "98be7f59-2d66-4864-80b3-fa1256d8a00a"
   },
   "outputs": [
    {
     "data": {
      "text/plain": [
       "Area Harvested    int64\n",
       "Production        int64\n",
       "Yield             int64\n",
       "dtype: object"
      ]
     },
     "execution_count": 7,
     "metadata": {},
     "output_type": "execute_result"
    }
   ],
   "source": [
    "crop_df.dtypes"
   ]
  },
  {
   "cell_type": "code",
   "execution_count": 8,
   "metadata": {
    "colab": {
     "base_uri": "https://localhost:8080/",
     "height": 202
    },
    "id": "HGQJKuwP1CCI",
    "outputId": "2af5c36a-2884-458d-c3f9-91ae8fe03fa1"
   },
   "outputs": [
    {
     "data": {
      "text/html": [
       "<div>\n",
       "<style scoped>\n",
       "    .dataframe tbody tr th:only-of-type {\n",
       "        vertical-align: middle;\n",
       "    }\n",
       "\n",
       "    .dataframe tbody tr th {\n",
       "        vertical-align: top;\n",
       "    }\n",
       "\n",
       "    .dataframe thead th {\n",
       "        text-align: right;\n",
       "    }\n",
       "</style>\n",
       "<table border=\"1\" class=\"dataframe\">\n",
       "  <thead>\n",
       "    <tr style=\"text-align: right;\">\n",
       "      <th></th>\n",
       "      <th>Area Harvested</th>\n",
       "      <th>Production</th>\n",
       "      <th>Yield</th>\n",
       "    </tr>\n",
       "  </thead>\n",
       "  <tbody>\n",
       "    <tr>\n",
       "      <th>0</th>\n",
       "      <td>82600</td>\n",
       "      <td>62995</td>\n",
       "      <td>7627</td>\n",
       "    </tr>\n",
       "    <tr>\n",
       "      <th>1</th>\n",
       "      <td>33600</td>\n",
       "      <td>446000</td>\n",
       "      <td>132738</td>\n",
       "    </tr>\n",
       "    <tr>\n",
       "      <th>2</th>\n",
       "      <td>29947</td>\n",
       "      <td>17272</td>\n",
       "      <td>5768</td>\n",
       "    </tr>\n",
       "    <tr>\n",
       "      <th>3</th>\n",
       "      <td>30900</td>\n",
       "      <td>34350</td>\n",
       "      <td>11117</td>\n",
       "    </tr>\n",
       "    <tr>\n",
       "      <th>4</th>\n",
       "      <td>68798</td>\n",
       "      <td>49784</td>\n",
       "      <td>7236</td>\n",
       "    </tr>\n",
       "  </tbody>\n",
       "</table>\n",
       "</div>"
      ],
      "text/plain": [
       "   Area Harvested  Production   Yield\n",
       "0           82600       62995    7627\n",
       "1           33600      446000  132738\n",
       "2           29947       17272    5768\n",
       "3           30900       34350   11117\n",
       "4           68798       49784    7236"
      ]
     },
     "execution_count": 8,
     "metadata": {},
     "output_type": "execute_result"
    }
   ],
   "source": [
    "crop_df.head()"
   ]
  },
  {
   "cell_type": "code",
   "execution_count": 9,
   "metadata": {
    "colab": {
     "base_uri": "https://localhost:8080/"
    },
    "id": "xx6U4-vQ1ILr",
    "outputId": "f1420868-f355-414f-c2ea-ae45e986b454"
   },
   "outputs": [
    {
     "data": {
      "text/plain": [
       "(3185, 3)"
      ]
     },
     "execution_count": 9,
     "metadata": {},
     "output_type": "execute_result"
    }
   ],
   "source": [
    "crop_df.shape"
   ]
  },
  {
   "cell_type": "code",
   "execution_count": 10,
   "metadata": {
    "id": "_NaXtYBw1kyc"
   },
   "outputs": [],
   "source": [
    "X = crop_df.iloc[:, 0:-1].values\n",
    "y = crop_df.iloc[:, -1].values"
   ]
  },
  {
   "cell_type": "code",
   "execution_count": 11,
   "metadata": {
    "colab": {
     "base_uri": "https://localhost:8080/"
    },
    "id": "GxDimwEP1q2e",
    "outputId": "6c85bfd2-bc15-45a4-f273-b736aa9fec5e"
   },
   "outputs": [
    {
     "name": "stdout",
     "output_type": "stream",
     "text": [
      "Shape of X train =  (2229, 2)\n",
      "Shape of y train =  (2229,)\n",
      "Shape of X test =  (956, 2)\n",
      "Shape of y test =  (956,)\n"
     ]
    }
   ],
   "source": [
    "from sklearn.model_selection import train_test_split\n",
    "X_train,X_test,y_train,y_test = train_test_split(X,y, test_size=0.3, random_state=42)\n",
    "\n",
    "print('Shape of X train = ', X_train.shape)\n",
    "print('Shape of y train = ', y_train.shape)\n",
    "print('Shape of X test = ', X_test.shape)\n",
    "print('Shape of y test = ', y_test.shape)"
   ]
  },
  {
   "cell_type": "code",
   "execution_count": null,
   "metadata": {
    "id": "s891KBfE1san"
   },
   "outputs": [],
   "source": [
    "from sklearn import svm\n",
    "classifier = svm.SVC(kernel='poly',gamma='auto',C=2)\n",
    "classifier.fit(X_train,y_train)\n",
    "\n",
    "y_predict = classifier.predict(X_test)"
   ]
  },
  {
   "cell_type": "code",
   "execution_count": null,
   "metadata": {
    "id": "BzbVt_Xg3htt"
   },
   "outputs": [],
   "source": [
    "from sklearn.metrics import classification_report\n",
    "print(classification_report(y_test,y_predict))"
   ]
  },
  {
   "cell_type": "code",
   "execution_count": null,
   "metadata": {},
   "outputs": [],
   "source": []
  }
 ],
 "metadata": {
  "colab": {
   "name": "Model2_SVM.ipynb",
   "provenance": []
  },
  "kernelspec": {
   "display_name": "Python 3 (ipykernel)",
   "language": "python",
   "name": "python3"
  },
  "language_info": {
   "codemirror_mode": {
    "name": "ipython",
    "version": 3
   },
   "file_extension": ".py",
   "mimetype": "text/x-python",
   "name": "python",
   "nbconvert_exporter": "python",
   "pygments_lexer": "ipython3",
   "version": "3.10.0"
  }
 },
 "nbformat": 4,
 "nbformat_minor": 1
}
