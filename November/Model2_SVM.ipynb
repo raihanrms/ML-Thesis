{
  "nbformat": 4,
  "nbformat_minor": 0,
  "metadata": {
    "colab": {
      "name": "Model2_SVM.ipynb",
      "provenance": []
    },
    "kernelspec": {
      "name": "python3",
      "display_name": "Python 3"
    },
    "language_info": {
      "name": "python"
    }
  },
  "cells": [
    {
      "cell_type": "code",
      "metadata": {
        "id": "ueX_9asGyghM"
      },
      "source": [
        "import pandas as pd\n",
        "import numpy as np\n",
        "from matplotlib import pyplot as plt\n",
        "from sklearn.model_selection import train_test_split\n",
        "from sklearn.metrics import confusion_matrix\n",
        "from sklearn.svm import SVC\n",
        "from sklearn import metrics\n",
        "from sklearn import preprocessing\n",
        "from sklearn import svm"
      ],
      "execution_count": null,
      "outputs": []
    },
    {
      "cell_type": "code",
      "metadata": {
        "colab": {
          "base_uri": "https://localhost:8080/"
        },
        "id": "hGuD1G2_ywL7",
        "outputId": "20e63986-799a-44f0-c350-d563a3e433e3"
      },
      "source": [
        "from google.colab import drive\n",
        "drive.mount('/content/drive')"
      ],
      "execution_count": null,
      "outputs": [
        {
          "output_type": "stream",
          "name": "stdout",
          "text": [
            "Mounted at /content/drive\n"
          ]
        }
      ]
    },
    {
      "cell_type": "code",
      "metadata": {
        "colab": {
          "base_uri": "https://localhost:8080/",
          "height": 414
        },
        "id": "P4CWHuiYy5Rw",
        "outputId": "a2749c8f-36f6-4e48-b14c-51eb685999f4"
      },
      "source": [
        "crop_df = pd.read_csv(\"/content/drive/MyDrive/Thesis/November_Work/Dataset_N.csv\")\n",
        "crop_df"
      ],
      "execution_count": null,
      "outputs": [
        {
          "output_type": "execute_result",
          "data": {
            "text/html": [
              "<div>\n",
              "<style scoped>\n",
              "    .dataframe tbody tr th:only-of-type {\n",
              "        vertical-align: middle;\n",
              "    }\n",
              "\n",
              "    .dataframe tbody tr th {\n",
              "        vertical-align: top;\n",
              "    }\n",
              "\n",
              "    .dataframe thead th {\n",
              "        text-align: right;\n",
              "    }\n",
              "</style>\n",
              "<table border=\"1\" class=\"dataframe\">\n",
              "  <thead>\n",
              "    <tr style=\"text-align: right;\">\n",
              "      <th></th>\n",
              "      <th>Area</th>\n",
              "      <th>Year</th>\n",
              "      <th>Item</th>\n",
              "      <th>Area Harvested</th>\n",
              "      <th>Production</th>\n",
              "      <th>Yield</th>\n",
              "    </tr>\n",
              "  </thead>\n",
              "  <tbody>\n",
              "    <tr>\n",
              "      <th>0</th>\n",
              "      <td>Bangladesh</td>\n",
              "      <td>1961</td>\n",
              "      <td>Areca nuts</td>\n",
              "      <td>82600</td>\n",
              "      <td>62995</td>\n",
              "      <td>7627</td>\n",
              "    </tr>\n",
              "    <tr>\n",
              "      <th>1</th>\n",
              "      <td>Bangladesh</td>\n",
              "      <td>1961</td>\n",
              "      <td>Bananas</td>\n",
              "      <td>33600</td>\n",
              "      <td>446000</td>\n",
              "      <td>132738</td>\n",
              "    </tr>\n",
              "    <tr>\n",
              "      <th>2</th>\n",
              "      <td>Bangladesh</td>\n",
              "      <td>1961</td>\n",
              "      <td>Barley</td>\n",
              "      <td>29947</td>\n",
              "      <td>17272</td>\n",
              "      <td>5768</td>\n",
              "    </tr>\n",
              "    <tr>\n",
              "      <th>3</th>\n",
              "      <td>Bangladesh</td>\n",
              "      <td>1961</td>\n",
              "      <td>Bastfibres, others</td>\n",
              "      <td>30900</td>\n",
              "      <td>34350</td>\n",
              "      <td>11117</td>\n",
              "    </tr>\n",
              "    <tr>\n",
              "      <th>4</th>\n",
              "      <td>Bangladesh</td>\n",
              "      <td>1961</td>\n",
              "      <td>Beans, dry</td>\n",
              "      <td>68798</td>\n",
              "      <td>49784</td>\n",
              "      <td>7236</td>\n",
              "    </tr>\n",
              "    <tr>\n",
              "      <th>...</th>\n",
              "      <td>...</td>\n",
              "      <td>...</td>\n",
              "      <td>...</td>\n",
              "      <td>...</td>\n",
              "      <td>...</td>\n",
              "      <td>...</td>\n",
              "    </tr>\n",
              "    <tr>\n",
              "      <th>3180</th>\n",
              "      <td>Bangladesh</td>\n",
              "      <td>2019</td>\n",
              "      <td>Tomatoes</td>\n",
              "      <td>28205</td>\n",
              "      <td>387653</td>\n",
              "      <td>137441</td>\n",
              "    </tr>\n",
              "    <tr>\n",
              "      <th>3181</th>\n",
              "      <td>Bangladesh</td>\n",
              "      <td>2019</td>\n",
              "      <td>Vegetables, fresh nes</td>\n",
              "      <td>227884</td>\n",
              "      <td>2034364</td>\n",
              "      <td>89272</td>\n",
              "    </tr>\n",
              "    <tr>\n",
              "      <th>3182</th>\n",
              "      <td>Bangladesh</td>\n",
              "      <td>2019</td>\n",
              "      <td>Wheat</td>\n",
              "      <td>330348</td>\n",
              "      <td>30780</td>\n",
              "      <td>1016811</td>\n",
              "    </tr>\n",
              "    <tr>\n",
              "      <th>3183</th>\n",
              "      <td>Bangladesh</td>\n",
              "      <td>2019</td>\n",
              "      <td>Roots and Tubers</td>\n",
              "      <td>491409</td>\n",
              "      <td>9890963</td>\n",
              "      <td>201278</td>\n",
              "    </tr>\n",
              "    <tr>\n",
              "      <th>3184</th>\n",
              "      <td>Bangladesh</td>\n",
              "      <td>2019</td>\n",
              "      <td>Vegetables Primary</td>\n",
              "      <td>651132</td>\n",
              "      <td>6300864</td>\n",
              "      <td>96768</td>\n",
              "    </tr>\n",
              "  </tbody>\n",
              "</table>\n",
              "<p>3185 rows × 6 columns</p>\n",
              "</div>"
            ],
            "text/plain": [
              "            Area  Year  ... Production    Yield\n",
              "0     Bangladesh  1961  ...      62995     7627\n",
              "1     Bangladesh  1961  ...     446000   132738\n",
              "2     Bangladesh  1961  ...      17272     5768\n",
              "3     Bangladesh  1961  ...      34350    11117\n",
              "4     Bangladesh  1961  ...      49784     7236\n",
              "...          ...   ...  ...        ...      ...\n",
              "3180  Bangladesh  2019  ...     387653   137441\n",
              "3181  Bangladesh  2019  ...    2034364    89272\n",
              "3182  Bangladesh  2019  ...      30780  1016811\n",
              "3183  Bangladesh  2019  ...    9890963   201278\n",
              "3184  Bangladesh  2019  ...    6300864    96768\n",
              "\n",
              "[3185 rows x 6 columns]"
            ]
          },
          "metadata": {},
          "execution_count": 26
        }
      ]
    },
    {
      "cell_type": "code",
      "metadata": {
        "colab": {
          "base_uri": "https://localhost:8080/",
          "height": 414
        },
        "id": "lciUGRQazTeV",
        "outputId": "a449ec70-7f05-470a-b31d-6fcab50ecaf3"
      },
      "source": [
        "crop_df=crop_df.drop('Area', axis=1)\n",
        "crop_df=crop_df.drop('Year', axis=1)\n",
        "crop_df=crop_df.drop('Item', axis=1)\n",
        "\n",
        "crop_df"
      ],
      "execution_count": null,
      "outputs": [
        {
          "output_type": "execute_result",
          "data": {
            "text/html": [
              "<div>\n",
              "<style scoped>\n",
              "    .dataframe tbody tr th:only-of-type {\n",
              "        vertical-align: middle;\n",
              "    }\n",
              "\n",
              "    .dataframe tbody tr th {\n",
              "        vertical-align: top;\n",
              "    }\n",
              "\n",
              "    .dataframe thead th {\n",
              "        text-align: right;\n",
              "    }\n",
              "</style>\n",
              "<table border=\"1\" class=\"dataframe\">\n",
              "  <thead>\n",
              "    <tr style=\"text-align: right;\">\n",
              "      <th></th>\n",
              "      <th>Area Harvested</th>\n",
              "      <th>Production</th>\n",
              "      <th>Yield</th>\n",
              "    </tr>\n",
              "  </thead>\n",
              "  <tbody>\n",
              "    <tr>\n",
              "      <th>0</th>\n",
              "      <td>82600</td>\n",
              "      <td>62995</td>\n",
              "      <td>7627</td>\n",
              "    </tr>\n",
              "    <tr>\n",
              "      <th>1</th>\n",
              "      <td>33600</td>\n",
              "      <td>446000</td>\n",
              "      <td>132738</td>\n",
              "    </tr>\n",
              "    <tr>\n",
              "      <th>2</th>\n",
              "      <td>29947</td>\n",
              "      <td>17272</td>\n",
              "      <td>5768</td>\n",
              "    </tr>\n",
              "    <tr>\n",
              "      <th>3</th>\n",
              "      <td>30900</td>\n",
              "      <td>34350</td>\n",
              "      <td>11117</td>\n",
              "    </tr>\n",
              "    <tr>\n",
              "      <th>4</th>\n",
              "      <td>68798</td>\n",
              "      <td>49784</td>\n",
              "      <td>7236</td>\n",
              "    </tr>\n",
              "    <tr>\n",
              "      <th>...</th>\n",
              "      <td>...</td>\n",
              "      <td>...</td>\n",
              "      <td>...</td>\n",
              "    </tr>\n",
              "    <tr>\n",
              "      <th>3180</th>\n",
              "      <td>28205</td>\n",
              "      <td>387653</td>\n",
              "      <td>137441</td>\n",
              "    </tr>\n",
              "    <tr>\n",
              "      <th>3181</th>\n",
              "      <td>227884</td>\n",
              "      <td>2034364</td>\n",
              "      <td>89272</td>\n",
              "    </tr>\n",
              "    <tr>\n",
              "      <th>3182</th>\n",
              "      <td>330348</td>\n",
              "      <td>30780</td>\n",
              "      <td>1016811</td>\n",
              "    </tr>\n",
              "    <tr>\n",
              "      <th>3183</th>\n",
              "      <td>491409</td>\n",
              "      <td>9890963</td>\n",
              "      <td>201278</td>\n",
              "    </tr>\n",
              "    <tr>\n",
              "      <th>3184</th>\n",
              "      <td>651132</td>\n",
              "      <td>6300864</td>\n",
              "      <td>96768</td>\n",
              "    </tr>\n",
              "  </tbody>\n",
              "</table>\n",
              "<p>3185 rows × 3 columns</p>\n",
              "</div>"
            ],
            "text/plain": [
              "      Area Harvested  Production    Yield\n",
              "0              82600       62995     7627\n",
              "1              33600      446000   132738\n",
              "2              29947       17272     5768\n",
              "3              30900       34350    11117\n",
              "4              68798       49784     7236\n",
              "...              ...         ...      ...\n",
              "3180           28205      387653   137441\n",
              "3181          227884     2034364    89272\n",
              "3182          330348       30780  1016811\n",
              "3183          491409     9890963   201278\n",
              "3184          651132     6300864    96768\n",
              "\n",
              "[3185 rows x 3 columns]"
            ]
          },
          "metadata": {},
          "execution_count": 27
        }
      ]
    },
    {
      "cell_type": "code",
      "metadata": {
        "colab": {
          "base_uri": "https://localhost:8080/"
        },
        "id": "IX-Vcncn0DNP",
        "outputId": "cd21d9ed-772b-4e71-ae29-298c52403881"
      },
      "source": [
        "crop_df.keys()"
      ],
      "execution_count": null,
      "outputs": [
        {
          "output_type": "execute_result",
          "data": {
            "text/plain": [
              "Index(['Area Harvested', 'Production', 'Yield'], dtype='object')"
            ]
          },
          "metadata": {},
          "execution_count": 28
        }
      ]
    },
    {
      "cell_type": "code",
      "metadata": {
        "id": "SRbTROhh0Hmh"
      },
      "source": [
        "crop_df['Area Harvested'] = pd.to_numeric(crop_df['Area Harvested'],errors = 'coerce')\n",
        "crop_df['Production'] = pd.to_numeric(crop_df['Production'],errors = 'coerce')\n",
        "crop_df['Yield'] = pd.to_numeric(crop_df['Yield'],errors = 'coerce')"
      ],
      "execution_count": null,
      "outputs": []
    },
    {
      "cell_type": "code",
      "metadata": {
        "colab": {
          "base_uri": "https://localhost:8080/"
        },
        "id": "vSIYaL3C07WF",
        "outputId": "98be7f59-2d66-4864-80b3-fa1256d8a00a"
      },
      "source": [
        "crop_df.dtypes"
      ],
      "execution_count": null,
      "outputs": [
        {
          "output_type": "execute_result",
          "data": {
            "text/plain": [
              "Area Harvested    int64\n",
              "Production        int64\n",
              "Yield             int64\n",
              "dtype: object"
            ]
          },
          "metadata": {},
          "execution_count": 30
        }
      ]
    },
    {
      "cell_type": "code",
      "metadata": {
        "colab": {
          "base_uri": "https://localhost:8080/",
          "height": 202
        },
        "id": "HGQJKuwP1CCI",
        "outputId": "2af5c36a-2884-458d-c3f9-91ae8fe03fa1"
      },
      "source": [
        "crop_df.head()"
      ],
      "execution_count": null,
      "outputs": [
        {
          "output_type": "execute_result",
          "data": {
            "text/html": [
              "<div>\n",
              "<style scoped>\n",
              "    .dataframe tbody tr th:only-of-type {\n",
              "        vertical-align: middle;\n",
              "    }\n",
              "\n",
              "    .dataframe tbody tr th {\n",
              "        vertical-align: top;\n",
              "    }\n",
              "\n",
              "    .dataframe thead th {\n",
              "        text-align: right;\n",
              "    }\n",
              "</style>\n",
              "<table border=\"1\" class=\"dataframe\">\n",
              "  <thead>\n",
              "    <tr style=\"text-align: right;\">\n",
              "      <th></th>\n",
              "      <th>Area Harvested</th>\n",
              "      <th>Production</th>\n",
              "      <th>Yield</th>\n",
              "    </tr>\n",
              "  </thead>\n",
              "  <tbody>\n",
              "    <tr>\n",
              "      <th>0</th>\n",
              "      <td>82600</td>\n",
              "      <td>62995</td>\n",
              "      <td>7627</td>\n",
              "    </tr>\n",
              "    <tr>\n",
              "      <th>1</th>\n",
              "      <td>33600</td>\n",
              "      <td>446000</td>\n",
              "      <td>132738</td>\n",
              "    </tr>\n",
              "    <tr>\n",
              "      <th>2</th>\n",
              "      <td>29947</td>\n",
              "      <td>17272</td>\n",
              "      <td>5768</td>\n",
              "    </tr>\n",
              "    <tr>\n",
              "      <th>3</th>\n",
              "      <td>30900</td>\n",
              "      <td>34350</td>\n",
              "      <td>11117</td>\n",
              "    </tr>\n",
              "    <tr>\n",
              "      <th>4</th>\n",
              "      <td>68798</td>\n",
              "      <td>49784</td>\n",
              "      <td>7236</td>\n",
              "    </tr>\n",
              "  </tbody>\n",
              "</table>\n",
              "</div>"
            ],
            "text/plain": [
              "   Area Harvested  Production   Yield\n",
              "0           82600       62995    7627\n",
              "1           33600      446000  132738\n",
              "2           29947       17272    5768\n",
              "3           30900       34350   11117\n",
              "4           68798       49784    7236"
            ]
          },
          "metadata": {},
          "execution_count": 31
        }
      ]
    },
    {
      "cell_type": "code",
      "metadata": {
        "colab": {
          "base_uri": "https://localhost:8080/"
        },
        "id": "xx6U4-vQ1ILr",
        "outputId": "f1420868-f355-414f-c2ea-ae45e986b454"
      },
      "source": [
        "crop_df.shape"
      ],
      "execution_count": null,
      "outputs": [
        {
          "output_type": "execute_result",
          "data": {
            "text/plain": [
              "(3185, 3)"
            ]
          },
          "metadata": {},
          "execution_count": 32
        }
      ]
    },
    {
      "cell_type": "code",
      "metadata": {
        "id": "_NaXtYBw1kyc"
      },
      "source": [
        "X = crop_df.iloc[:, 0:-1].values\n",
        "y = crop_df.iloc[:, -1].values"
      ],
      "execution_count": null,
      "outputs": []
    },
    {
      "cell_type": "code",
      "metadata": {
        "colab": {
          "base_uri": "https://localhost:8080/"
        },
        "id": "GxDimwEP1q2e",
        "outputId": "6c85bfd2-bc15-45a4-f273-b736aa9fec5e"
      },
      "source": [
        "from sklearn.model_selection import train_test_split\n",
        "X_train,X_test,y_train,y_test = train_test_split(X,y, test_size=0.3, random_state=42)\n",
        "\n",
        "print('Shape of X train = ', X_train.shape)\n",
        "print('Shape of y train = ', y_train.shape)\n",
        "print('Shape of X test = ', X_test.shape)\n",
        "print('Shape of y test = ', y_test.shape)"
      ],
      "execution_count": null,
      "outputs": [
        {
          "output_type": "stream",
          "name": "stdout",
          "text": [
            "Shape of X train =  (3182, 2)\n",
            "Shape of y train =  (3182,)\n",
            "Shape of X test =  (3, 2)\n",
            "Shape of y test =  (3,)\n"
          ]
        }
      ]
    },
    {
      "cell_type": "code",
      "metadata": {
        "id": "s891KBfE1san"
      },
      "source": [
        "from sklearn import svm\n",
        "classifier = svm.SVC(kernel='poly',gamma='auto',C=2)\n",
        "classifier.fit(X_train,y_train)\n",
        "\n",
        "y_predict = classifier.predict(X_test)"
      ],
      "execution_count": null,
      "outputs": []
    },
    {
      "cell_type": "code",
      "metadata": {
        "id": "BzbVt_Xg3htt"
      },
      "source": [
        "from sklearn.metrics import classification_report\n",
        "print(classification_report(y_test,y_predict))"
      ],
      "execution_count": null,
      "outputs": []
    }
  ]
}