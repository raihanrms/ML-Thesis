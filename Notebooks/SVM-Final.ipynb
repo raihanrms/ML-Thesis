{
 "cells": [
  {
   "cell_type": "code",
   "execution_count": 1,
   "id": "10612c9a",
   "metadata": {},
   "outputs": [],
   "source": [
    "import numpy as np\n",
    "import pandas as pd"
   ]
  },
  {
   "cell_type": "code",
   "execution_count": 2,
   "id": "f750fb4f",
   "metadata": {},
   "outputs": [],
   "source": [
    "df = pd.read_csv('Dataset_Jan.csv')"
   ]
  },
  {
   "cell_type": "code",
   "execution_count": 3,
   "id": "5b3e2d41",
   "metadata": {},
   "outputs": [
    {
     "data": {
      "text/html": [
       "<div>\n",
       "<style scoped>\n",
       "    .dataframe tbody tr th:only-of-type {\n",
       "        vertical-align: middle;\n",
       "    }\n",
       "\n",
       "    .dataframe tbody tr th {\n",
       "        vertical-align: top;\n",
       "    }\n",
       "\n",
       "    .dataframe thead th {\n",
       "        text-align: right;\n",
       "    }\n",
       "</style>\n",
       "<table border=\"1\" class=\"dataframe\">\n",
       "  <thead>\n",
       "    <tr style=\"text-align: right;\">\n",
       "      <th></th>\n",
       "      <th>Area</th>\n",
       "      <th>Year</th>\n",
       "      <th>Item</th>\n",
       "      <th>Area Harvested</th>\n",
       "      <th>Yield</th>\n",
       "      <th>Humidity</th>\n",
       "      <th>Wind Speed</th>\n",
       "      <th>Temperature</th>\n",
       "      <th>Production</th>\n",
       "    </tr>\n",
       "  </thead>\n",
       "  <tbody>\n",
       "    <tr>\n",
       "      <th>0</th>\n",
       "      <td>Bangladesh</td>\n",
       "      <td>1961</td>\n",
       "      <td>Areca nuts</td>\n",
       "      <td>82600</td>\n",
       "      <td>7627</td>\n",
       "      <td>NaN</td>\n",
       "      <td>NaN</td>\n",
       "      <td>NaN</td>\n",
       "      <td>62995</td>\n",
       "    </tr>\n",
       "    <tr>\n",
       "      <th>1</th>\n",
       "      <td>Bangladesh</td>\n",
       "      <td>1961</td>\n",
       "      <td>Bananas</td>\n",
       "      <td>33600</td>\n",
       "      <td>132738</td>\n",
       "      <td>NaN</td>\n",
       "      <td>NaN</td>\n",
       "      <td>NaN</td>\n",
       "      <td>446000</td>\n",
       "    </tr>\n",
       "    <tr>\n",
       "      <th>2</th>\n",
       "      <td>Bangladesh</td>\n",
       "      <td>1961</td>\n",
       "      <td>Barley</td>\n",
       "      <td>29947</td>\n",
       "      <td>5768</td>\n",
       "      <td>NaN</td>\n",
       "      <td>NaN</td>\n",
       "      <td>NaN</td>\n",
       "      <td>17272</td>\n",
       "    </tr>\n",
       "    <tr>\n",
       "      <th>3</th>\n",
       "      <td>Bangladesh</td>\n",
       "      <td>1961</td>\n",
       "      <td>Bastfibres, others</td>\n",
       "      <td>30900</td>\n",
       "      <td>11117</td>\n",
       "      <td>NaN</td>\n",
       "      <td>NaN</td>\n",
       "      <td>NaN</td>\n",
       "      <td>34350</td>\n",
       "    </tr>\n",
       "    <tr>\n",
       "      <th>4</th>\n",
       "      <td>Bangladesh</td>\n",
       "      <td>1961</td>\n",
       "      <td>Beans, dry</td>\n",
       "      <td>68798</td>\n",
       "      <td>7236</td>\n",
       "      <td>NaN</td>\n",
       "      <td>NaN</td>\n",
       "      <td>NaN</td>\n",
       "      <td>49784</td>\n",
       "    </tr>\n",
       "  </tbody>\n",
       "</table>\n",
       "</div>"
      ],
      "text/plain": [
       "         Area  Year                Item  Area Harvested   Yield  Humidity  \\\n",
       "0  Bangladesh  1961          Areca nuts           82600    7627       NaN   \n",
       "1  Bangladesh  1961             Bananas           33600  132738       NaN   \n",
       "2  Bangladesh  1961              Barley           29947    5768       NaN   \n",
       "3  Bangladesh  1961  Bastfibres, others           30900   11117       NaN   \n",
       "4  Bangladesh  1961          Beans, dry           68798    7236       NaN   \n",
       "\n",
       "   Wind Speed  Temperature  Production  \n",
       "0         NaN          NaN       62995  \n",
       "1         NaN          NaN      446000  \n",
       "2         NaN          NaN       17272  \n",
       "3         NaN          NaN       34350  \n",
       "4         NaN          NaN       49784  "
      ]
     },
     "execution_count": 3,
     "metadata": {},
     "output_type": "execute_result"
    }
   ],
   "source": [
    "df.head()"
   ]
  },
  {
   "cell_type": "code",
   "execution_count": 4,
   "id": "71d599b0",
   "metadata": {},
   "outputs": [
    {
     "data": {
      "text/html": [
       "<div>\n",
       "<style scoped>\n",
       "    .dataframe tbody tr th:only-of-type {\n",
       "        vertical-align: middle;\n",
       "    }\n",
       "\n",
       "    .dataframe tbody tr th {\n",
       "        vertical-align: top;\n",
       "    }\n",
       "\n",
       "    .dataframe thead th {\n",
       "        text-align: right;\n",
       "    }\n",
       "</style>\n",
       "<table border=\"1\" class=\"dataframe\">\n",
       "  <thead>\n",
       "    <tr style=\"text-align: right;\">\n",
       "      <th></th>\n",
       "      <th>Area</th>\n",
       "      <th>Year</th>\n",
       "      <th>Item</th>\n",
       "      <th>Area Harvested</th>\n",
       "      <th>Yield</th>\n",
       "      <th>Humidity</th>\n",
       "      <th>Wind Speed</th>\n",
       "      <th>Temperature</th>\n",
       "      <th>Production</th>\n",
       "    </tr>\n",
       "  </thead>\n",
       "  <tbody>\n",
       "    <tr>\n",
       "      <th>3180</th>\n",
       "      <td>Bangladesh</td>\n",
       "      <td>2019</td>\n",
       "      <td>Tomatoes</td>\n",
       "      <td>28205</td>\n",
       "      <td>137441</td>\n",
       "      <td>15.81</td>\n",
       "      <td>153.56</td>\n",
       "      <td>25.9</td>\n",
       "      <td>387653</td>\n",
       "    </tr>\n",
       "    <tr>\n",
       "      <th>3181</th>\n",
       "      <td>Bangladesh</td>\n",
       "      <td>2019</td>\n",
       "      <td>Vegetables, fresh nes</td>\n",
       "      <td>227884</td>\n",
       "      <td>89272</td>\n",
       "      <td>15.81</td>\n",
       "      <td>153.56</td>\n",
       "      <td>25.9</td>\n",
       "      <td>2034364</td>\n",
       "    </tr>\n",
       "    <tr>\n",
       "      <th>3182</th>\n",
       "      <td>Bangladesh</td>\n",
       "      <td>2019</td>\n",
       "      <td>Wheat</td>\n",
       "      <td>330348</td>\n",
       "      <td>1016811</td>\n",
       "      <td>15.81</td>\n",
       "      <td>153.56</td>\n",
       "      <td>25.9</td>\n",
       "      <td>30780</td>\n",
       "    </tr>\n",
       "    <tr>\n",
       "      <th>3183</th>\n",
       "      <td>Bangladesh</td>\n",
       "      <td>2019</td>\n",
       "      <td>Roots and Tubers</td>\n",
       "      <td>491409</td>\n",
       "      <td>201278</td>\n",
       "      <td>15.81</td>\n",
       "      <td>153.56</td>\n",
       "      <td>25.9</td>\n",
       "      <td>9890963</td>\n",
       "    </tr>\n",
       "    <tr>\n",
       "      <th>3184</th>\n",
       "      <td>Bangladesh</td>\n",
       "      <td>2019</td>\n",
       "      <td>Vegetables Primary</td>\n",
       "      <td>651132</td>\n",
       "      <td>96768</td>\n",
       "      <td>15.81</td>\n",
       "      <td>153.56</td>\n",
       "      <td>25.9</td>\n",
       "      <td>6300864</td>\n",
       "    </tr>\n",
       "  </tbody>\n",
       "</table>\n",
       "</div>"
      ],
      "text/plain": [
       "            Area  Year                   Item  Area Harvested    Yield  \\\n",
       "3180  Bangladesh  2019               Tomatoes           28205   137441   \n",
       "3181  Bangladesh  2019  Vegetables, fresh nes          227884    89272   \n",
       "3182  Bangladesh  2019                  Wheat          330348  1016811   \n",
       "3183  Bangladesh  2019       Roots and Tubers          491409   201278   \n",
       "3184  Bangladesh  2019     Vegetables Primary          651132    96768   \n",
       "\n",
       "      Humidity  Wind Speed  Temperature  Production  \n",
       "3180     15.81      153.56         25.9      387653  \n",
       "3181     15.81      153.56         25.9     2034364  \n",
       "3182     15.81      153.56         25.9       30780  \n",
       "3183     15.81      153.56         25.9     9890963  \n",
       "3184     15.81      153.56         25.9     6300864  "
      ]
     },
     "execution_count": 4,
     "metadata": {},
     "output_type": "execute_result"
    }
   ],
   "source": [
    "df.tail()"
   ]
  },
  {
   "cell_type": "code",
   "execution_count": 7,
   "id": "9de421bb",
   "metadata": {},
   "outputs": [
    {
     "data": {
      "text/plain": [
       "54"
      ]
     },
     "execution_count": 7,
     "metadata": {},
     "output_type": "execute_result"
    }
   ],
   "source": [
    "# df['Item'].value_counts()\n",
    "df['Item'].nunique()"
   ]
  },
  {
   "cell_type": "code",
   "execution_count": 8,
   "id": "67c95da5",
   "metadata": {},
   "outputs": [
    {
     "data": {
      "text/plain": [
       "(3185, 9)"
      ]
     },
     "execution_count": 8,
     "metadata": {},
     "output_type": "execute_result"
    }
   ],
   "source": [
    "df.shape"
   ]
  },
  {
   "cell_type": "code",
   "execution_count": 9,
   "id": "8851f890",
   "metadata": {},
   "outputs": [
    {
     "name": "stdout",
     "output_type": "stream",
     "text": [
      "<class 'pandas.core.frame.DataFrame'>\n",
      "RangeIndex: 3185 entries, 0 to 3184\n",
      "Data columns (total 9 columns):\n",
      " #   Column          Non-Null Count  Dtype  \n",
      "---  ------          --------------  -----  \n",
      " 0   Area            3185 non-null   object \n",
      " 1   Year            3185 non-null   int64  \n",
      " 2   Item            3185 non-null   object \n",
      " 3   Area Harvested  3185 non-null   int64  \n",
      " 4   Yield           3185 non-null   int64  \n",
      " 5   Humidity        2105 non-null   float64\n",
      " 6   Wind Speed      2105 non-null   float64\n",
      " 7   Temperature     2105 non-null   float64\n",
      " 8   Production      3185 non-null   int64  \n",
      "dtypes: float64(3), int64(4), object(2)\n",
      "memory usage: 224.1+ KB\n"
     ]
    }
   ],
   "source": [
    "df.info()"
   ]
  },
  {
   "cell_type": "code",
   "execution_count": 10,
   "id": "2bd43847",
   "metadata": {},
   "outputs": [],
   "source": [
    "mean_temp=df['Temperature'].mean()\n",
    "mean_hum=df['Humidity'].mean()\n",
    "mean_wind=df['Wind Speed'].mean()\n",
    "df['Temperature'].fillna(value=mean_temp, inplace=True)\n",
    "df['Humidity'].fillna(value=mean_hum, inplace=True)\n",
    "df['Wind Speed'].fillna(value=mean_wind, inplace=True)"
   ]
  },
  {
   "cell_type": "code",
   "execution_count": 11,
   "id": "e77aef29",
   "metadata": {},
   "outputs": [
    {
     "data": {
      "text/html": [
       "<div>\n",
       "<style scoped>\n",
       "    .dataframe tbody tr th:only-of-type {\n",
       "        vertical-align: middle;\n",
       "    }\n",
       "\n",
       "    .dataframe tbody tr th {\n",
       "        vertical-align: top;\n",
       "    }\n",
       "\n",
       "    .dataframe thead th {\n",
       "        text-align: right;\n",
       "    }\n",
       "</style>\n",
       "<table border=\"1\" class=\"dataframe\">\n",
       "  <thead>\n",
       "    <tr style=\"text-align: right;\">\n",
       "      <th></th>\n",
       "      <th>Area</th>\n",
       "      <th>Year</th>\n",
       "      <th>Item</th>\n",
       "      <th>Area Harvested</th>\n",
       "      <th>Yield</th>\n",
       "      <th>Humidity</th>\n",
       "      <th>Wind Speed</th>\n",
       "      <th>Temperature</th>\n",
       "      <th>Production</th>\n",
       "    </tr>\n",
       "  </thead>\n",
       "  <tbody>\n",
       "    <tr>\n",
       "      <th>0</th>\n",
       "      <td>Bangladesh</td>\n",
       "      <td>1961</td>\n",
       "      <td>Areca nuts</td>\n",
       "      <td>82600</td>\n",
       "      <td>7627</td>\n",
       "      <td>14.404385</td>\n",
       "      <td>162.94838</td>\n",
       "      <td>26.311311</td>\n",
       "      <td>62995</td>\n",
       "    </tr>\n",
       "    <tr>\n",
       "      <th>1</th>\n",
       "      <td>Bangladesh</td>\n",
       "      <td>1961</td>\n",
       "      <td>Bananas</td>\n",
       "      <td>33600</td>\n",
       "      <td>132738</td>\n",
       "      <td>14.404385</td>\n",
       "      <td>162.94838</td>\n",
       "      <td>26.311311</td>\n",
       "      <td>446000</td>\n",
       "    </tr>\n",
       "    <tr>\n",
       "      <th>2</th>\n",
       "      <td>Bangladesh</td>\n",
       "      <td>1961</td>\n",
       "      <td>Barley</td>\n",
       "      <td>29947</td>\n",
       "      <td>5768</td>\n",
       "      <td>14.404385</td>\n",
       "      <td>162.94838</td>\n",
       "      <td>26.311311</td>\n",
       "      <td>17272</td>\n",
       "    </tr>\n",
       "    <tr>\n",
       "      <th>3</th>\n",
       "      <td>Bangladesh</td>\n",
       "      <td>1961</td>\n",
       "      <td>Bastfibres, others</td>\n",
       "      <td>30900</td>\n",
       "      <td>11117</td>\n",
       "      <td>14.404385</td>\n",
       "      <td>162.94838</td>\n",
       "      <td>26.311311</td>\n",
       "      <td>34350</td>\n",
       "    </tr>\n",
       "    <tr>\n",
       "      <th>4</th>\n",
       "      <td>Bangladesh</td>\n",
       "      <td>1961</td>\n",
       "      <td>Beans, dry</td>\n",
       "      <td>68798</td>\n",
       "      <td>7236</td>\n",
       "      <td>14.404385</td>\n",
       "      <td>162.94838</td>\n",
       "      <td>26.311311</td>\n",
       "      <td>49784</td>\n",
       "    </tr>\n",
       "  </tbody>\n",
       "</table>\n",
       "</div>"
      ],
      "text/plain": [
       "         Area  Year                Item  Area Harvested   Yield   Humidity  \\\n",
       "0  Bangladesh  1961          Areca nuts           82600    7627  14.404385   \n",
       "1  Bangladesh  1961             Bananas           33600  132738  14.404385   \n",
       "2  Bangladesh  1961              Barley           29947    5768  14.404385   \n",
       "3  Bangladesh  1961  Bastfibres, others           30900   11117  14.404385   \n",
       "4  Bangladesh  1961          Beans, dry           68798    7236  14.404385   \n",
       "\n",
       "   Wind Speed  Temperature  Production  \n",
       "0   162.94838    26.311311       62995  \n",
       "1   162.94838    26.311311      446000  \n",
       "2   162.94838    26.311311       17272  \n",
       "3   162.94838    26.311311       34350  \n",
       "4   162.94838    26.311311       49784  "
      ]
     },
     "execution_count": 11,
     "metadata": {},
     "output_type": "execute_result"
    }
   ],
   "source": [
    "df.head()"
   ]
  },
  {
   "cell_type": "markdown",
   "id": "ca98f2a8",
   "metadata": {},
   "source": [
    "## OneHotEncoding using sklearn"
   ]
  },
  {
   "cell_type": "code",
   "execution_count": 12,
   "id": "8df1ff6e",
   "metadata": {},
   "outputs": [],
   "source": [
    "from sklearn.model_selection import train_test_split\n",
    "# first 8 cols as train as input, last col as output\n",
    "X_train,X_test,y_train,y_test = train_test_split(df.iloc[:,0:8],df.iloc[:,-1],test_size=0.2,random_state=2)"
   ]
  },
  {
   "cell_type": "code",
   "execution_count": 14,
   "id": "d93c8546",
   "metadata": {},
   "outputs": [
    {
     "data": {
      "text/html": [
       "<div>\n",
       "<style scoped>\n",
       "    .dataframe tbody tr th:only-of-type {\n",
       "        vertical-align: middle;\n",
       "    }\n",
       "\n",
       "    .dataframe tbody tr th {\n",
       "        vertical-align: top;\n",
       "    }\n",
       "\n",
       "    .dataframe thead th {\n",
       "        text-align: right;\n",
       "    }\n",
       "</style>\n",
       "<table border=\"1\" class=\"dataframe\">\n",
       "  <thead>\n",
       "    <tr style=\"text-align: right;\">\n",
       "      <th></th>\n",
       "      <th>Area</th>\n",
       "      <th>Year</th>\n",
       "      <th>Item</th>\n",
       "      <th>Area Harvested</th>\n",
       "      <th>Yield</th>\n",
       "      <th>Humidity</th>\n",
       "      <th>Wind Speed</th>\n",
       "      <th>Temperature</th>\n",
       "    </tr>\n",
       "  </thead>\n",
       "  <tbody>\n",
       "    <tr>\n",
       "      <th>2560</th>\n",
       "      <td>Bangladesh</td>\n",
       "      <td>2008</td>\n",
       "      <td>Lentils</td>\n",
       "      <td>72581</td>\n",
       "      <td>9856</td>\n",
       "      <td>15.080000</td>\n",
       "      <td>151.06000</td>\n",
       "      <td>25.570000</td>\n",
       "    </tr>\n",
       "    <tr>\n",
       "      <th>2720</th>\n",
       "      <td>Bangladesh</td>\n",
       "      <td>2011</td>\n",
       "      <td>Jute</td>\n",
       "      <td>708723</td>\n",
       "      <td>21494</td>\n",
       "      <td>15.010000</td>\n",
       "      <td>143.19000</td>\n",
       "      <td>25.600000</td>\n",
       "    </tr>\n",
       "    <tr>\n",
       "      <th>1346</th>\n",
       "      <td>Bangladesh</td>\n",
       "      <td>1985</td>\n",
       "      <td>Vegetables, fresh nes</td>\n",
       "      <td>77023</td>\n",
       "      <td>62181</td>\n",
       "      <td>13.120000</td>\n",
       "      <td>157.88000</td>\n",
       "      <td>27.690000</td>\n",
       "    </tr>\n",
       "    <tr>\n",
       "      <th>148</th>\n",
       "      <td>Bangladesh</td>\n",
       "      <td>1963</td>\n",
       "      <td>Sorghum</td>\n",
       "      <td>809</td>\n",
       "      <td>12559</td>\n",
       "      <td>14.404385</td>\n",
       "      <td>162.94838</td>\n",
       "      <td>26.311311</td>\n",
       "    </tr>\n",
       "    <tr>\n",
       "      <th>2473</th>\n",
       "      <td>Bangladesh</td>\n",
       "      <td>2006</td>\n",
       "      <td>Sugar crops nes</td>\n",
       "      <td>20234</td>\n",
       "      <td>191756</td>\n",
       "      <td>15.080000</td>\n",
       "      <td>131.94000</td>\n",
       "      <td>25.570000</td>\n",
       "    </tr>\n",
       "  </tbody>\n",
       "</table>\n",
       "</div>"
      ],
      "text/plain": [
       "            Area  Year                   Item  Area Harvested   Yield  \\\n",
       "2560  Bangladesh  2008                Lentils           72581    9856   \n",
       "2720  Bangladesh  2011                   Jute          708723   21494   \n",
       "1346  Bangladesh  1985  Vegetables, fresh nes           77023   62181   \n",
       "148   Bangladesh  1963                Sorghum             809   12559   \n",
       "2473  Bangladesh  2006        Sugar crops nes           20234  191756   \n",
       "\n",
       "       Humidity  Wind Speed  Temperature  \n",
       "2560  15.080000   151.06000    25.570000  \n",
       "2720  15.010000   143.19000    25.600000  \n",
       "1346  13.120000   157.88000    27.690000  \n",
       "148   14.404385   162.94838    26.311311  \n",
       "2473  15.080000   131.94000    25.570000  "
      ]
     },
     "execution_count": 14,
     "metadata": {},
     "output_type": "execute_result"
    }
   ],
   "source": [
    "X_train.head()"
   ]
  },
  {
   "cell_type": "code",
   "execution_count": 15,
   "id": "d1c39908",
   "metadata": {},
   "outputs": [],
   "source": [
    "from sklearn.preprocessing import OneHotEncoder"
   ]
  },
  {
   "cell_type": "code",
   "execution_count": 16,
   "id": "8c6ce87b",
   "metadata": {},
   "outputs": [],
   "source": [
    "# object\n",
    "# multicollinearity removal\n",
    "# removing the catagories from the columns with drop first\n",
    "ohe = OneHotEncoder(drop='first',sparse=False,dtype=np.int32)"
   ]
  },
  {
   "cell_type": "code",
   "execution_count": 17,
   "id": "a497d213",
   "metadata": {},
   "outputs": [
    {
     "data": {
      "text/plain": [
       "array([[0, 0, 0, ..., 0, 0, 0],\n",
       "       [0, 0, 0, ..., 0, 0, 0],\n",
       "       [0, 0, 0, ..., 0, 1, 0],\n",
       "       ...,\n",
       "       [0, 0, 0, ..., 0, 0, 0],\n",
       "       [0, 0, 0, ..., 0, 0, 0],\n",
       "       [0, 0, 0, ..., 0, 0, 0]])"
      ]
     },
     "execution_count": 17,
     "metadata": {},
     "output_type": "execute_result"
    }
   ],
   "source": [
    "X_train_new = ohe.fit_transform(X_train[['Item']])\n",
    "# we get the no. of cols depending on the categories\n",
    "X_train_new"
   ]
  },
  {
   "cell_type": "code",
   "execution_count": 18,
   "id": "c35e8425",
   "metadata": {},
   "outputs": [],
   "source": [
    "X_test_new = ohe.transform(X_test[['Item']])"
   ]
  },
  {
   "cell_type": "code",
   "execution_count": 19,
   "id": "f9ef2cfa",
   "metadata": {},
   "outputs": [
    {
     "data": {
      "text/plain": [
       "array([[0, 0, 0, ..., 0, 0, 0],\n",
       "       [0, 0, 0, ..., 0, 0, 0],\n",
       "       [0, 0, 0, ..., 0, 0, 0],\n",
       "       ...,\n",
       "       [0, 0, 0, ..., 0, 0, 0],\n",
       "       [0, 0, 0, ..., 0, 0, 0],\n",
       "       [0, 0, 1, ..., 0, 0, 0]])"
      ]
     },
     "execution_count": 19,
     "metadata": {},
     "output_type": "execute_result"
    }
   ],
   "source": [
    "X_test_new"
   ]
  },
  {
   "cell_type": "code",
   "execution_count": 20,
   "id": "7a58c9ce",
   "metadata": {},
   "outputs": [
    {
     "data": {
      "text/plain": [
       "array([[2.008000e+03, 7.258100e+04, 9.856000e+03, ..., 0.000000e+00,\n",
       "        0.000000e+00, 0.000000e+00],\n",
       "       [2.011000e+03, 7.087230e+05, 2.149400e+04, ..., 0.000000e+00,\n",
       "        0.000000e+00, 0.000000e+00],\n",
       "       [1.985000e+03, 7.702300e+04, 6.218100e+04, ..., 0.000000e+00,\n",
       "        1.000000e+00, 0.000000e+00],\n",
       "       ...,\n",
       "       [1.990000e+03, 4.014000e+03, 4.527900e+04, ..., 0.000000e+00,\n",
       "        0.000000e+00, 0.000000e+00],\n",
       "       [2.008000e+03, 4.648200e+04, 8.547000e+03, ..., 0.000000e+00,\n",
       "        0.000000e+00, 0.000000e+00],\n",
       "       [2.008000e+03, 1.127915e+07, 4.144100e+04, ..., 0.000000e+00,\n",
       "        0.000000e+00, 0.000000e+00]])"
      ]
     },
     "execution_count": 20,
     "metadata": {},
     "output_type": "execute_result"
    }
   ],
   "source": [
    "# now to append everything together\n",
    "data = np.hstack((X_train[['Year','Area Harvested','Yield','Humidity','Wind Speed','Temperature']].values,X_train_new))\n",
    "data"
   ]
  },
  {
   "cell_type": "markdown",
   "id": "9fe52006",
   "metadata": {},
   "source": [
    "## SVM"
   ]
  },
  {
   "cell_type": "code",
   "execution_count": 21,
   "id": "eb50f50b",
   "metadata": {},
   "outputs": [],
   "source": [
    "from sklearn.metrics import accuracy_score\n",
    "from sklearn.svm import SVC"
   ]
  },
  {
   "cell_type": "code",
   "execution_count": 22,
   "id": "05b1aa22",
   "metadata": {},
   "outputs": [],
   "source": [
    "x = data[:,0:8]\n",
    "y = data[:,-1]\n",
    "X_train_new, X_test_new, y_train, y_test = train_test_split(x,y,test_size=0.2)"
   ]
  },
  {
   "cell_type": "code",
   "execution_count": 23,
   "id": "17b0f087",
   "metadata": {},
   "outputs": [
    {
     "data": {
      "text/plain": [
       "array([[2.008000e+03, 7.258100e+04, 9.856000e+03, ..., 2.557000e+01,\n",
       "        0.000000e+00, 0.000000e+00],\n",
       "       [2.011000e+03, 7.087230e+05, 2.149400e+04, ..., 2.560000e+01,\n",
       "        0.000000e+00, 0.000000e+00],\n",
       "       [1.985000e+03, 7.702300e+04, 6.218100e+04, ..., 2.769000e+01,\n",
       "        0.000000e+00, 0.000000e+00],\n",
       "       ...,\n",
       "       [1.990000e+03, 4.014000e+03, 4.527900e+04, ..., 2.733000e+01,\n",
       "        0.000000e+00, 0.000000e+00],\n",
       "       [2.008000e+03, 4.648200e+04, 8.547000e+03, ..., 2.557000e+01,\n",
       "        0.000000e+00, 0.000000e+00],\n",
       "       [2.008000e+03, 1.127915e+07, 4.144100e+04, ..., 2.557000e+01,\n",
       "        0.000000e+00, 0.000000e+00]])"
      ]
     },
     "execution_count": 23,
     "metadata": {},
     "output_type": "execute_result"
    }
   ],
   "source": [
    "x"
   ]
  },
  {
   "cell_type": "code",
   "execution_count": 116,
   "id": "f97068ae",
   "metadata": {},
   "outputs": [
    {
     "name": "stdout",
     "output_type": "stream",
     "text": [
      "Accuracy:  0.9803921568627451\n"
     ]
    }
   ],
   "source": [
    "model = SVC()\n",
    "model.fit(X_train_new,y_train)\n",
    "predict_production = model.predict(X_test_new)\n",
    "print(\"Accuracy: \",accuracy_score(y_test, predict_production))"
   ]
  },
  {
   "cell_type": "markdown",
   "id": "95f9519a",
   "metadata": {},
   "source": [
    "## Evaluation of the model"
   ]
  },
  {
   "cell_type": "markdown",
   "id": "d1da5763",
   "metadata": {},
   "source": [
    "#### R-Squared"
   ]
  },
  {
   "cell_type": "code",
   "execution_count": 117,
   "id": "dee2f64b",
   "metadata": {},
   "outputs": [
    {
     "name": "stdout",
     "output_type": "stream",
     "text": [
      "0.3914807302231236\n"
     ]
    }
   ],
   "source": [
    "from sklearn.metrics import r2_score\n",
    "r2 = r2_score(y_test, predict_production)\n",
    "print(r2)"
   ]
  },
  {
   "cell_type": "markdown",
   "id": "1de9e58e",
   "metadata": {},
   "source": [
    "#### Mean Absolute Error (MAE)"
   ]
  },
  {
   "cell_type": "code",
   "execution_count": 118,
   "id": "24501b8a",
   "metadata": {},
   "outputs": [
    {
     "data": {
      "text/plain": [
       "0.0196078431372549"
      ]
     },
     "execution_count": 118,
     "metadata": {},
     "output_type": "execute_result"
    }
   ],
   "source": [
    "from sklearn.metrics import mean_absolute_error\n",
    "mean_absolute_error(y_test, predict_production)"
   ]
  },
  {
   "cell_type": "markdown",
   "id": "f1fe1a93",
   "metadata": {},
   "source": [
    "#### Mean squared error"
   ]
  },
  {
   "cell_type": "code",
   "execution_count": 119,
   "id": "decd254f",
   "metadata": {},
   "outputs": [
    {
     "data": {
      "text/plain": [
       "0.0196078431372549"
      ]
     },
     "execution_count": 119,
     "metadata": {},
     "output_type": "execute_result"
    }
   ],
   "source": [
    "from sklearn.metrics import mean_squared_error\n",
    "mean_squared_error(y_test, predict_production)"
   ]
  },
  {
   "cell_type": "markdown",
   "id": "98f6220c",
   "metadata": {},
   "source": [
    "#### AUC-ROC Curve"
   ]
  },
  {
   "cell_type": "code",
   "execution_count": 120,
   "id": "a2451540",
   "metadata": {},
   "outputs": [
    {
     "data": {
      "text/plain": [
       "0.7058823529411764"
      ]
     },
     "execution_count": 120,
     "metadata": {},
     "output_type": "execute_result"
    }
   ],
   "source": [
    "from sklearn.metrics import roc_auc_score\n",
    "roc_auc_score(y_test, predict_production)"
   ]
  },
  {
   "cell_type": "markdown",
   "id": "5ccf2edf",
   "metadata": {},
   "source": [
    "#### Confusion Matrix and related Metrics"
   ]
  },
  {
   "cell_type": "code",
   "execution_count": 121,
   "id": "8282d244",
   "metadata": {},
   "outputs": [],
   "source": [
    "from sklearn.metrics import confusion_matrix, accuracy_score, recall_score, precision_score, f1_score, classification_report\n",
    "cm = confusion_matrix(y_test, predict_production)\n",
    "ac = accuracy_score(y_test, predict_production)\n",
    "rs = recall_score(y_test, predict_production)\n",
    "pr = precision_score(y_test, predict_production)\n",
    "f1 = f1_score(y_test, predict_production, average=None)"
   ]
  },
  {
   "cell_type": "code",
   "execution_count": 122,
   "id": "ebb24f04",
   "metadata": {},
   "outputs": [
    {
     "name": "stdout",
     "output_type": "stream",
     "text": [
      "[[493   0]\n",
      " [ 10   7]]\n"
     ]
    }
   ],
   "source": [
    "# Confusion Matrix\n",
    "print (cm)"
   ]
  },
  {
   "cell_type": "code",
   "execution_count": 123,
   "id": "b94afc3c",
   "metadata": {},
   "outputs": [
    {
     "name": "stdout",
     "output_type": "stream",
     "text": [
      "0.9803921568627451\n"
     ]
    }
   ],
   "source": [
    "# Accuracy Score\n",
    "print (ac)"
   ]
  },
  {
   "cell_type": "code",
   "execution_count": 124,
   "id": "648c9016",
   "metadata": {},
   "outputs": [
    {
     "name": "stdout",
     "output_type": "stream",
     "text": [
      "0.4117647058823529\n"
     ]
    }
   ],
   "source": [
    "# Recall Score\n",
    "print (rs)"
   ]
  },
  {
   "cell_type": "code",
   "execution_count": 125,
   "id": "93bc1201",
   "metadata": {},
   "outputs": [
    {
     "name": "stdout",
     "output_type": "stream",
     "text": [
      "1.0\n"
     ]
    }
   ],
   "source": [
    "# Precision Score\n",
    "print (pr)"
   ]
  },
  {
   "cell_type": "code",
   "execution_count": 126,
   "id": "7780c371",
   "metadata": {},
   "outputs": [
    {
     "name": "stdout",
     "output_type": "stream",
     "text": [
      "[0.98995984 0.58333333]\n"
     ]
    }
   ],
   "source": [
    "# F1 Score\n",
    "print (f1)"
   ]
  },
  {
   "cell_type": "markdown",
   "id": "bc363c76",
   "metadata": {},
   "source": [
    "#### Classification Report"
   ]
  },
  {
   "cell_type": "code",
   "execution_count": 127,
   "id": "0f7f4db2",
   "metadata": {},
   "outputs": [
    {
     "name": "stdout",
     "output_type": "stream",
     "text": [
      "              precision    recall  f1-score   support\n",
      "\n",
      "         0.0       0.98      1.00      0.99       493\n",
      "         1.0       1.00      0.41      0.58        17\n",
      "\n",
      "    accuracy                           0.98       510\n",
      "   macro avg       0.99      0.71      0.79       510\n",
      "weighted avg       0.98      0.98      0.98       510\n",
      "\n"
     ]
    }
   ],
   "source": [
    "# report\n",
    "print(classification_report(y_test, predict_production, target_names=None))"
   ]
  },
  {
   "cell_type": "code",
   "execution_count": null,
   "id": "23c4d1ed",
   "metadata": {},
   "outputs": [],
   "source": []
  }
 ],
 "metadata": {
  "kernelspec": {
   "display_name": "Python 3 (ipykernel)",
   "language": "python",
   "name": "python3"
  },
  "language_info": {
   "codemirror_mode": {
    "name": "ipython",
    "version": 3
   },
   "file_extension": ".py",
   "mimetype": "text/x-python",
   "name": "python",
   "nbconvert_exporter": "python",
   "pygments_lexer": "ipython3",
   "version": "3.10.0"
  }
 },
 "nbformat": 4,
 "nbformat_minor": 5
}
