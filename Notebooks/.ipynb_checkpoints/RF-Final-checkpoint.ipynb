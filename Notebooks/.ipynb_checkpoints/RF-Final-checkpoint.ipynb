{
 "cells": [
  {
   "cell_type": "code",
   "execution_count": 32,
   "id": "10612c9a",
   "metadata": {},
   "outputs": [],
   "source": [
    "import numpy as np\n",
    "import pandas as pd\n",
    "from numpy import math\n",
    "\n",
    "from sklearn.preprocessing import MinMaxScaler\n",
    "from sklearn.model_selection import train_test_split\n",
    "from sklearn.ensemble import RandomForestClassifier\n",
    "from sklearn.metrics import r2_score\n",
    "from sklearn.metrics import mean_squared_error\n",
    "\n",
    "import matplotlib.pyplot as plt"
   ]
  },
  {
   "cell_type": "code",
   "execution_count": 33,
   "id": "f750fb4f",
   "metadata": {},
   "outputs": [],
   "source": [
    "df = pd.read_csv('Dataset_Jan.csv')"
   ]
  },
  {
   "cell_type": "code",
   "execution_count": 34,
   "id": "5b3e2d41",
   "metadata": {},
   "outputs": [
    {
     "data": {
      "text/html": [
       "<div>\n",
       "<style scoped>\n",
       "    .dataframe tbody tr th:only-of-type {\n",
       "        vertical-align: middle;\n",
       "    }\n",
       "\n",
       "    .dataframe tbody tr th {\n",
       "        vertical-align: top;\n",
       "    }\n",
       "\n",
       "    .dataframe thead th {\n",
       "        text-align: right;\n",
       "    }\n",
       "</style>\n",
       "<table border=\"1\" class=\"dataframe\">\n",
       "  <thead>\n",
       "    <tr style=\"text-align: right;\">\n",
       "      <th></th>\n",
       "      <th>Area</th>\n",
       "      <th>Year</th>\n",
       "      <th>Item</th>\n",
       "      <th>Area Harvested</th>\n",
       "      <th>Yield</th>\n",
       "      <th>Humidity</th>\n",
       "      <th>Wind Speed</th>\n",
       "      <th>Temperature</th>\n",
       "      <th>Production</th>\n",
       "    </tr>\n",
       "  </thead>\n",
       "  <tbody>\n",
       "    <tr>\n",
       "      <th>0</th>\n",
       "      <td>Bangladesh</td>\n",
       "      <td>1961</td>\n",
       "      <td>Areca nuts</td>\n",
       "      <td>82600</td>\n",
       "      <td>7627</td>\n",
       "      <td>NaN</td>\n",
       "      <td>NaN</td>\n",
       "      <td>NaN</td>\n",
       "      <td>62995</td>\n",
       "    </tr>\n",
       "    <tr>\n",
       "      <th>1</th>\n",
       "      <td>Bangladesh</td>\n",
       "      <td>1961</td>\n",
       "      <td>Bananas</td>\n",
       "      <td>33600</td>\n",
       "      <td>132738</td>\n",
       "      <td>NaN</td>\n",
       "      <td>NaN</td>\n",
       "      <td>NaN</td>\n",
       "      <td>446000</td>\n",
       "    </tr>\n",
       "    <tr>\n",
       "      <th>2</th>\n",
       "      <td>Bangladesh</td>\n",
       "      <td>1961</td>\n",
       "      <td>Barley</td>\n",
       "      <td>29947</td>\n",
       "      <td>5768</td>\n",
       "      <td>NaN</td>\n",
       "      <td>NaN</td>\n",
       "      <td>NaN</td>\n",
       "      <td>17272</td>\n",
       "    </tr>\n",
       "    <tr>\n",
       "      <th>3</th>\n",
       "      <td>Bangladesh</td>\n",
       "      <td>1961</td>\n",
       "      <td>Bastfibres, others</td>\n",
       "      <td>30900</td>\n",
       "      <td>11117</td>\n",
       "      <td>NaN</td>\n",
       "      <td>NaN</td>\n",
       "      <td>NaN</td>\n",
       "      <td>34350</td>\n",
       "    </tr>\n",
       "    <tr>\n",
       "      <th>4</th>\n",
       "      <td>Bangladesh</td>\n",
       "      <td>1961</td>\n",
       "      <td>Beans, dry</td>\n",
       "      <td>68798</td>\n",
       "      <td>7236</td>\n",
       "      <td>NaN</td>\n",
       "      <td>NaN</td>\n",
       "      <td>NaN</td>\n",
       "      <td>49784</td>\n",
       "    </tr>\n",
       "  </tbody>\n",
       "</table>\n",
       "</div>"
      ],
      "text/plain": [
       "         Area  Year                Item  Area Harvested   Yield  Humidity  \\\n",
       "0  Bangladesh  1961          Areca nuts           82600    7627       NaN   \n",
       "1  Bangladesh  1961             Bananas           33600  132738       NaN   \n",
       "2  Bangladesh  1961              Barley           29947    5768       NaN   \n",
       "3  Bangladesh  1961  Bastfibres, others           30900   11117       NaN   \n",
       "4  Bangladesh  1961          Beans, dry           68798    7236       NaN   \n",
       "\n",
       "   Wind Speed  Temperature  Production  \n",
       "0         NaN          NaN       62995  \n",
       "1         NaN          NaN      446000  \n",
       "2         NaN          NaN       17272  \n",
       "3         NaN          NaN       34350  \n",
       "4         NaN          NaN       49784  "
      ]
     },
     "execution_count": 34,
     "metadata": {},
     "output_type": "execute_result"
    }
   ],
   "source": [
    "df.head()"
   ]
  },
  {
   "cell_type": "code",
   "execution_count": 35,
   "id": "9de421bb",
   "metadata": {},
   "outputs": [
    {
     "data": {
      "text/plain": [
       "54"
      ]
     },
     "execution_count": 35,
     "metadata": {},
     "output_type": "execute_result"
    }
   ],
   "source": [
    "# df['Item'].value_counts()\n",
    "df['Item'].nunique()"
   ]
  },
  {
   "cell_type": "code",
   "execution_count": 36,
   "id": "67c95da5",
   "metadata": {},
   "outputs": [
    {
     "data": {
      "text/plain": [
       "(3185, 9)"
      ]
     },
     "execution_count": 36,
     "metadata": {},
     "output_type": "execute_result"
    }
   ],
   "source": [
    "df.shape"
   ]
  },
  {
   "cell_type": "code",
   "execution_count": 37,
   "id": "8851f890",
   "metadata": {},
   "outputs": [
    {
     "name": "stdout",
     "output_type": "stream",
     "text": [
      "<class 'pandas.core.frame.DataFrame'>\n",
      "RangeIndex: 3185 entries, 0 to 3184\n",
      "Data columns (total 9 columns):\n",
      " #   Column          Non-Null Count  Dtype  \n",
      "---  ------          --------------  -----  \n",
      " 0   Area            3185 non-null   object \n",
      " 1   Year            3185 non-null   int64  \n",
      " 2   Item            3185 non-null   object \n",
      " 3   Area Harvested  3185 non-null   int64  \n",
      " 4   Yield           3185 non-null   int64  \n",
      " 5   Humidity        2105 non-null   float64\n",
      " 6   Wind Speed      2105 non-null   float64\n",
      " 7   Temperature     2105 non-null   float64\n",
      " 8   Production      3185 non-null   int64  \n",
      "dtypes: float64(3), int64(4), object(2)\n",
      "memory usage: 224.1+ KB\n"
     ]
    }
   ],
   "source": [
    "df.info()"
   ]
  },
  {
   "cell_type": "code",
   "execution_count": 38,
   "id": "2bd43847",
   "metadata": {},
   "outputs": [],
   "source": [
    "mean_temp=df['Temperature'].mean()\n",
    "mean_hum=df['Humidity'].mean()\n",
    "mean_wind=df['Wind Speed'].mean()\n",
    "df['Temperature'].fillna(value=mean_temp, inplace=True)\n",
    "df['Humidity'].fillna(value=mean_hum, inplace=True)\n",
    "df['Wind Speed'].fillna(value=mean_wind, inplace=True)"
   ]
  },
  {
   "cell_type": "code",
   "execution_count": 39,
   "id": "e77aef29",
   "metadata": {},
   "outputs": [
    {
     "data": {
      "text/html": [
       "<div>\n",
       "<style scoped>\n",
       "    .dataframe tbody tr th:only-of-type {\n",
       "        vertical-align: middle;\n",
       "    }\n",
       "\n",
       "    .dataframe tbody tr th {\n",
       "        vertical-align: top;\n",
       "    }\n",
       "\n",
       "    .dataframe thead th {\n",
       "        text-align: right;\n",
       "    }\n",
       "</style>\n",
       "<table border=\"1\" class=\"dataframe\">\n",
       "  <thead>\n",
       "    <tr style=\"text-align: right;\">\n",
       "      <th></th>\n",
       "      <th>Area</th>\n",
       "      <th>Year</th>\n",
       "      <th>Item</th>\n",
       "      <th>Area Harvested</th>\n",
       "      <th>Yield</th>\n",
       "      <th>Humidity</th>\n",
       "      <th>Wind Speed</th>\n",
       "      <th>Temperature</th>\n",
       "      <th>Production</th>\n",
       "    </tr>\n",
       "  </thead>\n",
       "  <tbody>\n",
       "    <tr>\n",
       "      <th>0</th>\n",
       "      <td>Bangladesh</td>\n",
       "      <td>1961</td>\n",
       "      <td>Areca nuts</td>\n",
       "      <td>82600</td>\n",
       "      <td>7627</td>\n",
       "      <td>14.404385</td>\n",
       "      <td>162.94838</td>\n",
       "      <td>26.311311</td>\n",
       "      <td>62995</td>\n",
       "    </tr>\n",
       "    <tr>\n",
       "      <th>1</th>\n",
       "      <td>Bangladesh</td>\n",
       "      <td>1961</td>\n",
       "      <td>Bananas</td>\n",
       "      <td>33600</td>\n",
       "      <td>132738</td>\n",
       "      <td>14.404385</td>\n",
       "      <td>162.94838</td>\n",
       "      <td>26.311311</td>\n",
       "      <td>446000</td>\n",
       "    </tr>\n",
       "    <tr>\n",
       "      <th>2</th>\n",
       "      <td>Bangladesh</td>\n",
       "      <td>1961</td>\n",
       "      <td>Barley</td>\n",
       "      <td>29947</td>\n",
       "      <td>5768</td>\n",
       "      <td>14.404385</td>\n",
       "      <td>162.94838</td>\n",
       "      <td>26.311311</td>\n",
       "      <td>17272</td>\n",
       "    </tr>\n",
       "    <tr>\n",
       "      <th>3</th>\n",
       "      <td>Bangladesh</td>\n",
       "      <td>1961</td>\n",
       "      <td>Bastfibres, others</td>\n",
       "      <td>30900</td>\n",
       "      <td>11117</td>\n",
       "      <td>14.404385</td>\n",
       "      <td>162.94838</td>\n",
       "      <td>26.311311</td>\n",
       "      <td>34350</td>\n",
       "    </tr>\n",
       "    <tr>\n",
       "      <th>4</th>\n",
       "      <td>Bangladesh</td>\n",
       "      <td>1961</td>\n",
       "      <td>Beans, dry</td>\n",
       "      <td>68798</td>\n",
       "      <td>7236</td>\n",
       "      <td>14.404385</td>\n",
       "      <td>162.94838</td>\n",
       "      <td>26.311311</td>\n",
       "      <td>49784</td>\n",
       "    </tr>\n",
       "  </tbody>\n",
       "</table>\n",
       "</div>"
      ],
      "text/plain": [
       "         Area  Year                Item  Area Harvested   Yield   Humidity  \\\n",
       "0  Bangladesh  1961          Areca nuts           82600    7627  14.404385   \n",
       "1  Bangladesh  1961             Bananas           33600  132738  14.404385   \n",
       "2  Bangladesh  1961              Barley           29947    5768  14.404385   \n",
       "3  Bangladesh  1961  Bastfibres, others           30900   11117  14.404385   \n",
       "4  Bangladesh  1961          Beans, dry           68798    7236  14.404385   \n",
       "\n",
       "   Wind Speed  Temperature  Production  \n",
       "0   162.94838    26.311311       62995  \n",
       "1   162.94838    26.311311      446000  \n",
       "2   162.94838    26.311311       17272  \n",
       "3   162.94838    26.311311       34350  \n",
       "4   162.94838    26.311311       49784  "
      ]
     },
     "execution_count": 39,
     "metadata": {},
     "output_type": "execute_result"
    }
   ],
   "source": [
    "df.head()"
   ]
  },
  {
   "cell_type": "markdown",
   "id": "ca98f2a8",
   "metadata": {},
   "source": [
    "## OneHotEncoding using sklearn"
   ]
  },
  {
   "cell_type": "code",
   "execution_count": 40,
   "id": "8df1ff6e",
   "metadata": {},
   "outputs": [],
   "source": [
    "from sklearn.model_selection import train_test_split\n",
    "# first 5 cols as train as input, last col as output\n",
    "X_train,X_test,y_train,y_test = train_test_split(df.iloc[:,0:8],df.iloc[:,-1],test_size=0.2,random_state=2)"
   ]
  },
  {
   "cell_type": "code",
   "execution_count": 41,
   "id": "d93c8546",
   "metadata": {},
   "outputs": [
    {
     "data": {
      "text/html": [
       "<div>\n",
       "<style scoped>\n",
       "    .dataframe tbody tr th:only-of-type {\n",
       "        vertical-align: middle;\n",
       "    }\n",
       "\n",
       "    .dataframe tbody tr th {\n",
       "        vertical-align: top;\n",
       "    }\n",
       "\n",
       "    .dataframe thead th {\n",
       "        text-align: right;\n",
       "    }\n",
       "</style>\n",
       "<table border=\"1\" class=\"dataframe\">\n",
       "  <thead>\n",
       "    <tr style=\"text-align: right;\">\n",
       "      <th></th>\n",
       "      <th>Area</th>\n",
       "      <th>Year</th>\n",
       "      <th>Item</th>\n",
       "      <th>Area Harvested</th>\n",
       "      <th>Yield</th>\n",
       "      <th>Humidity</th>\n",
       "      <th>Wind Speed</th>\n",
       "      <th>Temperature</th>\n",
       "    </tr>\n",
       "  </thead>\n",
       "  <tbody>\n",
       "    <tr>\n",
       "      <th>3064</th>\n",
       "      <td>Bangladesh</td>\n",
       "      <td>2017</td>\n",
       "      <td>Spices nes</td>\n",
       "      <td>47332</td>\n",
       "      <td>35494</td>\n",
       "      <td>16.420000</td>\n",
       "      <td>170.19000</td>\n",
       "      <td>25.360000</td>\n",
       "    </tr>\n",
       "    <tr>\n",
       "      <th>761</th>\n",
       "      <td>Bangladesh</td>\n",
       "      <td>1975</td>\n",
       "      <td>Beans, green</td>\n",
       "      <td>6632</td>\n",
       "      <td>39704</td>\n",
       "      <td>14.404385</td>\n",
       "      <td>162.94838</td>\n",
       "      <td>26.311311</td>\n",
       "    </tr>\n",
       "    <tr>\n",
       "      <th>2692</th>\n",
       "      <td>Bangladesh</td>\n",
       "      <td>2010</td>\n",
       "      <td>Tea</td>\n",
       "      <td>52236</td>\n",
       "      <td>11486</td>\n",
       "      <td>15.500000</td>\n",
       "      <td>172.75000</td>\n",
       "      <td>26.020000</td>\n",
       "    </tr>\n",
       "    <tr>\n",
       "      <th>2940</th>\n",
       "      <td>Bangladesh</td>\n",
       "      <td>2015</td>\n",
       "      <td>Linseed</td>\n",
       "      <td>7009</td>\n",
       "      <td>6941</td>\n",
       "      <td>15.440000</td>\n",
       "      <td>188.19000</td>\n",
       "      <td>25.920000</td>\n",
       "    </tr>\n",
       "    <tr>\n",
       "      <th>1901</th>\n",
       "      <td>Bangladesh</td>\n",
       "      <td>1996</td>\n",
       "      <td>Coconuts</td>\n",
       "      <td>29200</td>\n",
       "      <td>30479</td>\n",
       "      <td>13.000000</td>\n",
       "      <td>174.75000</td>\n",
       "      <td>28.000000</td>\n",
       "    </tr>\n",
       "  </tbody>\n",
       "</table>\n",
       "</div>"
      ],
      "text/plain": [
       "            Area  Year          Item  Area Harvested  Yield   Humidity  \\\n",
       "3064  Bangladesh  2017    Spices nes           47332  35494  16.420000   \n",
       "761   Bangladesh  1975  Beans, green            6632  39704  14.404385   \n",
       "2692  Bangladesh  2010           Tea           52236  11486  15.500000   \n",
       "2940  Bangladesh  2015       Linseed            7009   6941  15.440000   \n",
       "1901  Bangladesh  1996      Coconuts           29200  30479  13.000000   \n",
       "\n",
       "      Wind Speed  Temperature  \n",
       "3064   170.19000    25.360000  \n",
       "761    162.94838    26.311311  \n",
       "2692   172.75000    26.020000  \n",
       "2940   188.19000    25.920000  \n",
       "1901   174.75000    28.000000  "
      ]
     },
     "execution_count": 41,
     "metadata": {},
     "output_type": "execute_result"
    }
   ],
   "source": [
    "X_test.head()"
   ]
  },
  {
   "cell_type": "code",
   "execution_count": 42,
   "id": "d1c39908",
   "metadata": {},
   "outputs": [],
   "source": [
    "from sklearn.preprocessing import OneHotEncoder"
   ]
  },
  {
   "cell_type": "code",
   "execution_count": 43,
   "id": "8c6ce87b",
   "metadata": {},
   "outputs": [],
   "source": [
    "# object\n",
    "# multicollinearity removal\n",
    "# removing the catagories from the columns with drop first\n",
    "ohe = OneHotEncoder(drop='first',sparse=False,dtype=np.int32)"
   ]
  },
  {
   "cell_type": "code",
   "execution_count": 44,
   "id": "a497d213",
   "metadata": {},
   "outputs": [
    {
     "data": {
      "text/plain": [
       "array([[0, 0, 0, ..., 0, 0, 0],\n",
       "       [0, 0, 0, ..., 0, 0, 0],\n",
       "       [0, 0, 0, ..., 0, 1, 0],\n",
       "       ...,\n",
       "       [0, 0, 0, ..., 0, 0, 0],\n",
       "       [0, 0, 0, ..., 0, 0, 0],\n",
       "       [0, 0, 0, ..., 0, 0, 0]])"
      ]
     },
     "execution_count": 44,
     "metadata": {},
     "output_type": "execute_result"
    }
   ],
   "source": [
    "X_train_new = ohe.fit_transform(X_train[['Item']])\n",
    "# we get the no. of cols depending on the categories\n",
    "X_train_new"
   ]
  },
  {
   "cell_type": "code",
   "execution_count": 45,
   "id": "c35e8425",
   "metadata": {},
   "outputs": [],
   "source": [
    "X_test_new = ohe.transform(X_test[['Item']])"
   ]
  },
  {
   "cell_type": "code",
   "execution_count": 46,
   "id": "f9ef2cfa",
   "metadata": {},
   "outputs": [
    {
     "data": {
      "text/plain": [
       "array([[0, 0, 0, ..., 0, 0, 0],\n",
       "       [0, 0, 0, ..., 0, 0, 0],\n",
       "       [0, 0, 0, ..., 0, 0, 0],\n",
       "       ...,\n",
       "       [0, 0, 0, ..., 0, 0, 0],\n",
       "       [0, 0, 0, ..., 0, 0, 0],\n",
       "       [0, 0, 1, ..., 0, 0, 0]])"
      ]
     },
     "execution_count": 46,
     "metadata": {},
     "output_type": "execute_result"
    }
   ],
   "source": [
    "X_test_new"
   ]
  },
  {
   "cell_type": "code",
   "execution_count": 47,
   "id": "7a58c9ce",
   "metadata": {},
   "outputs": [
    {
     "data": {
      "text/plain": [
       "array([[2.008000e+03, 7.258100e+04, 9.856000e+03, ..., 0.000000e+00,\n",
       "        0.000000e+00, 0.000000e+00],\n",
       "       [2.011000e+03, 7.087230e+05, 2.149400e+04, ..., 0.000000e+00,\n",
       "        0.000000e+00, 0.000000e+00],\n",
       "       [1.985000e+03, 7.702300e+04, 6.218100e+04, ..., 0.000000e+00,\n",
       "        1.000000e+00, 0.000000e+00],\n",
       "       ...,\n",
       "       [1.990000e+03, 4.014000e+03, 4.527900e+04, ..., 0.000000e+00,\n",
       "        0.000000e+00, 0.000000e+00],\n",
       "       [2.008000e+03, 4.648200e+04, 8.547000e+03, ..., 0.000000e+00,\n",
       "        0.000000e+00, 0.000000e+00],\n",
       "       [2.008000e+03, 1.127915e+07, 4.144100e+04, ..., 0.000000e+00,\n",
       "        0.000000e+00, 0.000000e+00]])"
      ]
     },
     "execution_count": 47,
     "metadata": {},
     "output_type": "execute_result"
    }
   ],
   "source": [
    "# now to append everything together\n",
    "data = np.hstack((X_train[['Year','Area Harvested','Yield','Humidity','Wind Speed','Temperature']].values,X_train_new))\n",
    "data"
   ]
  },
  {
   "cell_type": "markdown",
   "id": "9fe52006",
   "metadata": {},
   "source": [
    "## Random Forest"
   ]
  },
  {
   "cell_type": "code",
   "execution_count": 48,
   "id": "7d0c84cc",
   "metadata": {},
   "outputs": [
    {
     "data": {
      "text/plain": [
       "(2548, 59)"
      ]
     },
     "execution_count": 48,
     "metadata": {},
     "output_type": "execute_result"
    }
   ],
   "source": [
    "data.shape"
   ]
  },
  {
   "cell_type": "code",
   "execution_count": 49,
   "id": "eb50f50b",
   "metadata": {},
   "outputs": [],
   "source": [
    "x = data[:,0:8]\n",
    "y = data[:,-1]"
   ]
  },
  {
   "cell_type": "code",
   "execution_count": 50,
   "id": "05b1aa22",
   "metadata": {},
   "outputs": [
    {
     "data": {
      "text/plain": [
       "array([0., 0., 0., ..., 0., 0., 0.])"
      ]
     },
     "execution_count": 50,
     "metadata": {},
     "output_type": "execute_result"
    }
   ],
   "source": [
    "y"
   ]
  },
  {
   "cell_type": "code",
   "execution_count": 51,
   "id": "41f8b73d",
   "metadata": {},
   "outputs": [],
   "source": [
    "\n",
    "X_train_new, X_test_new, y_train, y_test = train_test_split(x, y, test_size=0.25, random_state=42,stratify=y)"
   ]
  },
  {
   "cell_type": "code",
   "execution_count": 52,
   "id": "5e1d5dac",
   "metadata": {},
   "outputs": [
    {
     "data": {
      "text/plain": [
       "RandomForestClassifier()"
      ]
     },
     "execution_count": 52,
     "metadata": {},
     "output_type": "execute_result"
    }
   ],
   "source": [
    "# Instantiate and fit the RandomForestClassifier\n",
    "from sklearn.ensemble import RandomForestClassifier\n",
    "forest = RandomForestClassifier()\n",
    "forest.fit(X_train_new, y_train)"
   ]
  },
  {
   "cell_type": "code",
   "execution_count": 53,
   "id": "6b67fd5e",
   "metadata": {},
   "outputs": [],
   "source": [
    "# Make predictions for the test set\n",
    "y_pred_test = forest.predict(X_test_new)"
   ]
  },
  {
   "cell_type": "code",
   "execution_count": 54,
   "id": "01f5f041",
   "metadata": {},
   "outputs": [
    {
     "data": {
      "text/plain": [
       "0.9968602825745683"
      ]
     },
     "execution_count": 54,
     "metadata": {},
     "output_type": "execute_result"
    }
   ],
   "source": [
    "# View accuracy score\n",
    "from sklearn.metrics import accuracy_score, confusion_matrix, classification_report\n",
    "accuracy_score(y_test, y_pred_test)"
   ]
  },
  {
   "cell_type": "markdown",
   "id": "6bdf7faa",
   "metadata": {},
   "source": [
    "#### Confusion Matrix"
   ]
  },
  {
   "cell_type": "code",
   "execution_count": 55,
   "id": "237af440",
   "metadata": {
    "scrolled": false
   },
   "outputs": [
    {
     "data": {
      "text/plain": [
       "array([[626,   0],\n",
       "       [  2,   9]], dtype=int64)"
      ]
     },
     "execution_count": 55,
     "metadata": {},
     "output_type": "execute_result"
    }
   ],
   "source": [
    "# View confusion matrix for test data and predictions\n",
    "confusion_matrix(y_test, y_pred_test)"
   ]
  },
  {
   "cell_type": "markdown",
   "id": "120610b6",
   "metadata": {},
   "source": [
    "#### Classification Report"
   ]
  },
  {
   "cell_type": "code",
   "execution_count": 56,
   "id": "f97068ae",
   "metadata": {},
   "outputs": [
    {
     "name": "stdout",
     "output_type": "stream",
     "text": [
      "              precision    recall  f1-score   support\n",
      "\n",
      "         0.0       1.00      1.00      1.00       626\n",
      "         1.0       1.00      0.82      0.90        11\n",
      "\n",
      "    accuracy                           1.00       637\n",
      "   macro avg       1.00      0.91      0.95       637\n",
      "weighted avg       1.00      1.00      1.00       637\n",
      "\n"
     ]
    }
   ],
   "source": [
    "# View the classification report for test data and predictions\n",
    "print(classification_report(y_test, y_pred_test))"
   ]
  },
  {
   "cell_type": "code",
   "execution_count": null,
   "id": "a47272f7",
   "metadata": {},
   "outputs": [],
   "source": []
  }
 ],
 "metadata": {
  "kernelspec": {
   "display_name": "Python 3 (ipykernel)",
   "language": "python",
   "name": "python3"
  },
  "language_info": {
   "codemirror_mode": {
    "name": "ipython",
    "version": 3
   },
   "file_extension": ".py",
   "mimetype": "text/x-python",
   "name": "python",
   "nbconvert_exporter": "python",
   "pygments_lexer": "ipython3",
   "version": "3.10.0"
  }
 },
 "nbformat": 4,
 "nbformat_minor": 5
}
