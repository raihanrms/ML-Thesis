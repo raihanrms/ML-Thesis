{
 "cells": [
  {
   "cell_type": "markdown",
   "id": "50ef3f19",
   "metadata": {},
   "source": [
    "### KNN with user input"
   ]
  },
  {
   "cell_type": "code",
   "execution_count": 2,
   "id": "c07aa719",
   "metadata": {},
   "outputs": [],
   "source": [
    "from collections import Counter\n",
    "import math"
   ]
  },
  {
   "cell_type": "code",
   "execution_count": 4,
   "id": "fd69b25b",
   "metadata": {},
   "outputs": [],
   "source": [
    "def knn(data, query, k, distance_fn, choice_fn):\n",
    "    neighbor_distances_and_indices = []\n",
    "    \n",
    "    # 3. For each example in the data\n",
    "    for index, example in enumerate(data):\n",
    "        # 3.1 Calculate the distance between the query example and the current\n",
    "        # example from the data.\n",
    "        distance = distance_fn(example[:-1], query)\n",
    "        \n",
    "        # 3.2 Add the distance and the index of the example to an ordered collection\n",
    "        neighbor_distances_and_indices.append((distance, index))\n",
    "    \n",
    "    # 4. Sort the ordered collection of distances and indices from\n",
    "    # smallest to largest (in ascending order) by the distances\n",
    "    sorted_neighbor_distances_and_indices = sorted(neighbor_distances_and_indices)\n",
    "    \n",
    "    # 5. Pick the first K entries from the sorted collection\n",
    "    k_nearest_distances_and_indices = sorted_neighbor_distances_and_indices[:k]\n",
    "    \n",
    "    # 6. Get the labels of the selected K entries\n",
    "    k_nearest_labels = [data[i][-1] for distance, i in k_nearest_distances_and_indices]\n",
    "\n",
    "    # 7. If regression (choice_fn = mean), return the average of the K labels\n",
    "    # 8. If classification (choice_fn = mode), return the mode of the K labels\n",
    "    return k_nearest_distances_and_indices , choice_fn(k_nearest_labels)"
   ]
  },
  {
   "cell_type": "code",
   "execution_count": 5,
   "id": "5f58d3d5",
   "metadata": {},
   "outputs": [],
   "source": [
    "def mean(labels):\n",
    "    return sum(labels) / len(labels)"
   ]
  },
  {
   "cell_type": "code",
   "execution_count": 6,
   "id": "651333e6",
   "metadata": {},
   "outputs": [],
   "source": [
    "def mode(labels):\n",
    "    return Counter(labels).most_common(1)[0][0]"
   ]
  },
  {
   "cell_type": "code",
   "execution_count": 7,
   "id": "476903bb",
   "metadata": {},
   "outputs": [],
   "source": [
    "def euclidean_distance(point1, point2):\n",
    "    sum_squared_distance = 0\n",
    "    for i in range(len(point1)):\n",
    "        sum_squared_distance += math.pow(point1[i] - point2[i], 2)\n",
    "    return math.sqrt(sum_squared_distance)"
   ]
  },
  {
   "cell_type": "code",
   "execution_count": 8,
   "id": "11a2e4cd",
   "metadata": {},
   "outputs": [],
   "source": [
    "def main():\n",
    "    '''\n",
    "    # Regression Data\n",
    "    # \n",
    "    # Column 0: height (inches)\n",
    "    # Column 1: weight (pounds)\n",
    "    '''\n",
    "    reg_data = [\n",
    "       [65.75, 112.99],\n",
    "       [71.52, 136.49],\n",
    "       [69.40, 153.03],\n",
    "       [68.22, 142.34],\n",
    "       [67.79, 144.30],\n",
    "       [68.70, 123.30],\n",
    "       [69.80, 141.49],\n",
    "       [70.01, 136.46],\n",
    "       [67.90, 112.37],\n",
    "       [66.49, 127.45],\n",
    "    ]\n",
    "    \n",
    "    # Question:\n",
    "    # Given the data we have, what's the best-guess at someone's weight if they are 60 inches tall?\n",
    "    reg_query = [60]\n",
    "    reg_k_nearest_neighbors, reg_prediction = knn(\n",
    "        reg_data, reg_query, k=3, distance_fn=euclidean_distance, choice_fn=mean\n",
    "    )\n",
    "    \n",
    "    '''\n",
    "    # Classification Data\n",
    "    # \n",
    "    # Column 0: age\n",
    "    # Column 1: likes pineapple\n",
    "    '''\n",
    "    clf_data = [\n",
    "       [22, 1],\n",
    "       [23, 1],\n",
    "       [21, 1],\n",
    "       [18, 1],\n",
    "       [19, 1],\n",
    "       [25, 0],\n",
    "       [27, 0],\n",
    "       [29, 0],\n",
    "       [31, 0],\n",
    "       [45, 0],\n",
    "    ]\n",
    "    # Question:\n",
    "    # Given the data we have, does a 33 year old like pineapples on their pizza?\n",
    "    clf_query = [33]\n",
    "    clf_k_nearest_neighbors, clf_prediction = knn(\n",
    "        clf_data, clf_query, k=3, distance_fn=euclidean_distance, choice_fn=mode\n",
    "    )\n",
    "\n",
    "if __name__ == '__main__':\n",
    "    main()"
   ]
  },
  {
   "cell_type": "code",
   "execution_count": null,
   "id": "d8affd47",
   "metadata": {},
   "outputs": [],
   "source": [
    "r = int(input(\"Number of rows in reg_data: \"))\n",
    "c = int(input(\"Number of columns in reg_data: \"))\n",
    "\n",
    "print(\"Enter reg_data in a single line separated with space: \")\n",
    "reg_data = list(map(int, input()))"
   ]
  },
  {
   "cell_type": "code",
   "execution_count": null,
   "id": "1776663d",
   "metadata": {},
   "outputs": [],
   "source": []
  }
 ],
 "metadata": {
  "kernelspec": {
   "display_name": "Python 3 (ipykernel)",
   "language": "python",
   "name": "python3"
  },
  "language_info": {
   "codemirror_mode": {
    "name": "ipython",
    "version": 3
   },
   "file_extension": ".py",
   "mimetype": "text/x-python",
   "name": "python",
   "nbconvert_exporter": "python",
   "pygments_lexer": "ipython3",
   "version": "3.10.0"
  }
 },
 "nbformat": 4,
 "nbformat_minor": 5
}
