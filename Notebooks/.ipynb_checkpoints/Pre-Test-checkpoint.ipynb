{
 "cells": [
  {
   "cell_type": "code",
   "execution_count": 1,
   "id": "10612c9a",
   "metadata": {},
   "outputs": [],
   "source": [
    "import numpy as np\n",
    "import pandas as pd\n",
    "from numpy import math\n",
    "\n",
    "from sklearn.preprocessing import MinMaxScaler\n",
    "from sklearn.model_selection import train_test_split\n",
    "from sklearn.linear_model import LinearRegression\n",
    "from sklearn.metrics import r2_score\n",
    "from sklearn.metrics import mean_squared_error\n",
    "\n",
    "import matplotlib.pyplot as plt"
   ]
  },
  {
   "cell_type": "code",
   "execution_count": 2,
   "id": "f750fb4f",
   "metadata": {},
   "outputs": [],
   "source": [
    "dataset = pd.read_csv('Dataset_Dec.csv')"
   ]
  },
  {
   "cell_type": "code",
   "execution_count": 1,
   "id": "5b3e2d41",
   "metadata": {},
   "outputs": [
    {
     "ename": "NameError",
     "evalue": "name 'dataset' is not defined",
     "output_type": "error",
     "traceback": [
      "\u001b[1;31m---------------------------------------------------------------------------\u001b[0m",
      "\u001b[1;31mNameError\u001b[0m                                 Traceback (most recent call last)",
      "\u001b[1;32m~\\AppData\\Local\\Temp/ipykernel_8612/2410214830.py\u001b[0m in \u001b[0;36m<module>\u001b[1;34m\u001b[0m\n\u001b[1;32m----> 1\u001b[1;33m \u001b[0mdataset\u001b[0m\u001b[1;33m.\u001b[0m\u001b[0mhead\u001b[0m\u001b[1;33m(\u001b[0m\u001b[1;33m)\u001b[0m\u001b[1;33m\u001b[0m\u001b[1;33m\u001b[0m\u001b[0m\n\u001b[0m",
      "\u001b[1;31mNameError\u001b[0m: name 'dataset' is not defined"
     ]
    }
   ],
   "source": [
    "dataset.head()"
   ]
  },
  {
   "cell_type": "code",
   "execution_count": 4,
   "id": "9de421bb",
   "metadata": {},
   "outputs": [
    {
     "data": {
      "text/plain": [
       "54"
      ]
     },
     "execution_count": 4,
     "metadata": {},
     "output_type": "execute_result"
    }
   ],
   "source": [
    "# df['Item'].value_counts()\n",
    "dataset['Item'].nunique()"
   ]
  },
  {
   "cell_type": "code",
   "execution_count": 8,
   "id": "fb838e67",
   "metadata": {},
   "outputs": [
    {
     "data": {
      "text/plain": [
       "Text(0, 0.5, 'Production')"
      ]
     },
     "execution_count": 8,
     "metadata": {},
     "output_type": "execute_result"
    },
    {
     "data": {
      "image/png": "[encoded data removed]",
      "text/plain": [
       "<Figure size 720x360 with 1 Axes>"
      ]
     },
     "metadata": {
      "needs_background": "light"
     },
     "output_type": "display_data"
    }
   ],
   "source": [
    "# create the figure object\n",
    "ax = dataset.groupby(['Year'])['Production'].mean().plot.bar(\n",
    "    figsize = (10,5),\n",
    "    fontsize = 14\n",
    ")\n",
    "\n",
    "# set title\n",
    "ax.set_title(\"Yearwise crop production\")\n",
    "\n",
    "# set x and y label\n",
    "ax.set_xlabel(\"Year\", fontsize = 15)\n",
    "ax.set_ylabel(\"Production\", fontsize = 15)"
   ]
  },
  {
   "cell_type": "markdown",
   "id": "ca98f2a8",
   "metadata": {},
   "source": [
    "## OneHotEncoding using sklearn"
   ]
  },
  {
   "cell_type": "code",
   "execution_count": 9,
   "id": "8df1ff6e",
   "metadata": {},
   "outputs": [],
   "source": [
    "from sklearn.model_selection import train_test_split\n",
    "# first 5 cols as train as input, last col as output\n",
    "X_train,X_test,y_train,y_test = train_test_split(dataset.iloc[:,0:5],dataset.iloc[:,-1],test_size=0.2,random_state=2)"
   ]
  },
  {
   "cell_type": "code",
   "execution_count": 10,
   "id": "d93c8546",
   "metadata": {},
   "outputs": [
    {
     "data": {
      "text/html": [
       "<div>\n",
       "<style scoped>\n",
       "    .dataframe tbody tr th:only-of-type {\n",
       "        vertical-align: middle;\n",
       "    }\n",
       "\n",
       "    .dataframe tbody tr th {\n",
       "        vertical-align: top;\n",
       "    }\n",
       "\n",
       "    .dataframe thead th {\n",
       "        text-align: right;\n",
       "    }\n",
       "</style>\n",
       "<table border=\"1\" class=\"dataframe\">\n",
       "  <thead>\n",
       "    <tr style=\"text-align: right;\">\n",
       "      <th></th>\n",
       "      <th>Area</th>\n",
       "      <th>Year</th>\n",
       "      <th>Item</th>\n",
       "      <th>Area Harvested</th>\n",
       "      <th>Yield</th>\n",
       "    </tr>\n",
       "  </thead>\n",
       "  <tbody>\n",
       "    <tr>\n",
       "      <th>3064</th>\n",
       "      <td>Bangladesh</td>\n",
       "      <td>2017</td>\n",
       "      <td>Spices nes</td>\n",
       "      <td>47332</td>\n",
       "      <td>35494</td>\n",
       "    </tr>\n",
       "    <tr>\n",
       "      <th>761</th>\n",
       "      <td>Bangladesh</td>\n",
       "      <td>1975</td>\n",
       "      <td>Beans, green</td>\n",
       "      <td>6632</td>\n",
       "      <td>39704</td>\n",
       "    </tr>\n",
       "    <tr>\n",
       "      <th>2692</th>\n",
       "      <td>Bangladesh</td>\n",
       "      <td>2010</td>\n",
       "      <td>Tea</td>\n",
       "      <td>52236</td>\n",
       "      <td>11486</td>\n",
       "    </tr>\n",
       "    <tr>\n",
       "      <th>2940</th>\n",
       "      <td>Bangladesh</td>\n",
       "      <td>2015</td>\n",
       "      <td>Linseed</td>\n",
       "      <td>7009</td>\n",
       "      <td>6941</td>\n",
       "    </tr>\n",
       "    <tr>\n",
       "      <th>1901</th>\n",
       "      <td>Bangladesh</td>\n",
       "      <td>1996</td>\n",
       "      <td>Coconuts</td>\n",
       "      <td>29200</td>\n",
       "      <td>30479</td>\n",
       "    </tr>\n",
       "  </tbody>\n",
       "</table>\n",
       "</div>"
      ],
      "text/plain": [
       "            Area  Year          Item  Area Harvested  Yield\n",
       "3064  Bangladesh  2017    Spices nes           47332  35494\n",
       "761   Bangladesh  1975  Beans, green            6632  39704\n",
       "2692  Bangladesh  2010           Tea           52236  11486\n",
       "2940  Bangladesh  2015       Linseed            7009   6941\n",
       "1901  Bangladesh  1996      Coconuts           29200  30479"
      ]
     },
     "execution_count": 10,
     "metadata": {},
     "output_type": "execute_result"
    }
   ],
   "source": [
    "X_test.head()"
   ]
  },
  {
   "cell_type": "code",
   "execution_count": 11,
   "id": "c2be4bb9",
   "metadata": {},
   "outputs": [
    {
     "data": {
      "text/html": [
       "<div>\n",
       "<style scoped>\n",
       "    .dataframe tbody tr th:only-of-type {\n",
       "        vertical-align: middle;\n",
       "    }\n",
       "\n",
       "    .dataframe tbody tr th {\n",
       "        vertical-align: top;\n",
       "    }\n",
       "\n",
       "    .dataframe thead th {\n",
       "        text-align: right;\n",
       "    }\n",
       "</style>\n",
       "<table border=\"1\" class=\"dataframe\">\n",
       "  <thead>\n",
       "    <tr style=\"text-align: right;\">\n",
       "      <th></th>\n",
       "      <th>Area</th>\n",
       "      <th>Year</th>\n",
       "      <th>Item</th>\n",
       "      <th>Area Harvested</th>\n",
       "      <th>Yield</th>\n",
       "    </tr>\n",
       "  </thead>\n",
       "  <tbody>\n",
       "    <tr>\n",
       "      <th>2560</th>\n",
       "      <td>Bangladesh</td>\n",
       "      <td>2008</td>\n",
       "      <td>Lentils</td>\n",
       "      <td>72581</td>\n",
       "      <td>9856</td>\n",
       "    </tr>\n",
       "    <tr>\n",
       "      <th>2720</th>\n",
       "      <td>Bangladesh</td>\n",
       "      <td>2011</td>\n",
       "      <td>Jute</td>\n",
       "      <td>708723</td>\n",
       "      <td>21494</td>\n",
       "    </tr>\n",
       "    <tr>\n",
       "      <th>1346</th>\n",
       "      <td>Bangladesh</td>\n",
       "      <td>1985</td>\n",
       "      <td>Vegetables, fresh nes</td>\n",
       "      <td>77023</td>\n",
       "      <td>62181</td>\n",
       "    </tr>\n",
       "    <tr>\n",
       "      <th>148</th>\n",
       "      <td>Bangladesh</td>\n",
       "      <td>1963</td>\n",
       "      <td>Sorghum</td>\n",
       "      <td>809</td>\n",
       "      <td>12559</td>\n",
       "    </tr>\n",
       "    <tr>\n",
       "      <th>2473</th>\n",
       "      <td>Bangladesh</td>\n",
       "      <td>2006</td>\n",
       "      <td>Sugar crops nes</td>\n",
       "      <td>20234</td>\n",
       "      <td>191756</td>\n",
       "    </tr>\n",
       "  </tbody>\n",
       "</table>\n",
       "</div>"
      ],
      "text/plain": [
       "            Area  Year                   Item  Area Harvested   Yield\n",
       "2560  Bangladesh  2008                Lentils           72581    9856\n",
       "2720  Bangladesh  2011                   Jute          708723   21494\n",
       "1346  Bangladesh  1985  Vegetables, fresh nes           77023   62181\n",
       "148   Bangladesh  1963                Sorghum             809   12559\n",
       "2473  Bangladesh  2006        Sugar crops nes           20234  191756"
      ]
     },
     "execution_count": 11,
     "metadata": {},
     "output_type": "execute_result"
    }
   ],
   "source": [
    "X_train.head()"
   ]
  },
  {
   "cell_type": "code",
   "execution_count": 12,
   "id": "d1c39908",
   "metadata": {},
   "outputs": [],
   "source": [
    "from sklearn.preprocessing import OneHotEncoder"
   ]
  },
  {
   "cell_type": "code",
   "execution_count": 13,
   "id": "8c6ce87b",
   "metadata": {},
   "outputs": [],
   "source": [
    "# object\n",
    "# multicollinearity removal\n",
    "# removing the catagories from the columns with drop first\n",
    "ohe = OneHotEncoder(drop='first',sparse=False,dtype=np.int32)"
   ]
  },
  {
   "cell_type": "code",
   "execution_count": 14,
   "id": "a497d213",
   "metadata": {},
   "outputs": [
    {
     "data": {
      "text/plain": [
       "array([[0, 0, 0, ..., 0, 0, 0],\n",
       "       [0, 0, 0, ..., 0, 0, 0],\n",
       "       [0, 0, 0, ..., 0, 1, 0],\n",
       "       ...,\n",
       "       [0, 0, 0, ..., 0, 0, 0],\n",
       "       [0, 0, 0, ..., 0, 0, 0],\n",
       "       [0, 0, 0, ..., 0, 0, 0]])"
      ]
     },
     "execution_count": 14,
     "metadata": {},
     "output_type": "execute_result"
    }
   ],
   "source": [
    "X_train_new = ohe.fit_transform(X_train[['Area','Item']])\n",
    "# we get the no. of cols depending on the categories\n",
    "X_train_new"
   ]
  },
  {
   "cell_type": "code",
   "execution_count": 15,
   "id": "c35e8425",
   "metadata": {},
   "outputs": [],
   "source": [
    "X_test_new = ohe.transform(X_test[['Area','Item']])"
   ]
  },
  {
   "cell_type": "code",
   "execution_count": 16,
   "id": "f9ef2cfa",
   "metadata": {},
   "outputs": [
    {
     "data": {
      "text/plain": [
       "array([[0, 0, 0, ..., 0, 0, 0],\n",
       "       [0, 0, 0, ..., 0, 0, 0],\n",
       "       [0, 0, 0, ..., 0, 0, 0],\n",
       "       ...,\n",
       "       [0, 0, 0, ..., 0, 0, 0],\n",
       "       [0, 0, 0, ..., 0, 0, 0],\n",
       "       [0, 0, 1, ..., 0, 0, 0]])"
      ]
     },
     "execution_count": 16,
     "metadata": {},
     "output_type": "execute_result"
    }
   ],
   "source": [
    "X_test_new"
   ]
  },
  {
   "cell_type": "code",
   "execution_count": 17,
   "id": "7a58c9ce",
   "metadata": {},
   "outputs": [
    {
     "data": {
      "text/plain": [
       "array([[    2008,    72581,     9856, ...,        0,        0,        0],\n",
       "       [    2011,   708723,    21494, ...,        0,        0,        0],\n",
       "       [    1985,    77023,    62181, ...,        0,        1,        0],\n",
       "       ...,\n",
       "       [    1990,     4014,    45279, ...,        0,        0,        0],\n",
       "       [    2008,    46482,     8547, ...,        0,        0,        0],\n",
       "       [    2008, 11279150,    41441, ...,        0,        0,        0]],\n",
       "      dtype=int64)"
      ]
     },
     "execution_count": 17,
     "metadata": {},
     "output_type": "execute_result"
    }
   ],
   "source": [
    "# now to append everything together\n",
    "data = np.hstack((X_train[['Year','Area Harvested','Yield']].values,X_train_new))\n",
    "data"
   ]
  },
  {
   "cell_type": "code",
   "execution_count": 18,
   "id": "5ffff98a",
   "metadata": {},
   "outputs": [
    {
     "data": {
      "text/plain": [
       "(2548, 56)"
      ]
     },
     "execution_count": 18,
     "metadata": {},
     "output_type": "execute_result"
    }
   ],
   "source": [
    "data.shape"
   ]
  },
  {
   "cell_type": "code",
   "execution_count": 19,
   "id": "a297cf7b",
   "metadata": {},
   "outputs": [],
   "source": [
    "# independent variables, everything else\n",
    "x = data[:,0:5]\n",
    "\n",
    "# dependent variable, production\n",
    "y = data[:,-1]\n",
    "\n",
    "X_train_new, X_test_new, y_train, y_test = train_test_split(x,y,test_size=0.2, random_state=0)"
   ]
  },
  {
   "cell_type": "code",
   "execution_count": 20,
   "id": "6941da87",
   "metadata": {},
   "outputs": [
    {
     "data": {
      "text/plain": [
       "array([0, 0, 0, ..., 0, 0, 0], dtype=int64)"
      ]
     },
     "execution_count": 20,
     "metadata": {},
     "output_type": "execute_result"
    }
   ],
   "source": [
    "y"
   ]
  },
  {
   "cell_type": "code",
   "execution_count": 21,
   "id": "d062e925",
   "metadata": {},
   "outputs": [
    {
     "data": {
      "text/plain": [
       "array([[    2008,    72581,     9856,        0,        0],\n",
       "       [    2011,   708723,    21494,        0,        0],\n",
       "       [    1985,    77023,    62181,        0,        0],\n",
       "       ...,\n",
       "       [    1990,     4014,    45279,        0,        0],\n",
       "       [    2008,    46482,     8547,        0,        0],\n",
       "       [    2008, 11279150,    41441,        0,        0]], dtype=int64)"
      ]
     },
     "execution_count": 21,
     "metadata": {},
     "output_type": "execute_result"
    }
   ],
   "source": [
    "x"
   ]
  },
  {
   "cell_type": "markdown",
   "id": "8077a845",
   "metadata": {},
   "source": [
    "### Transformation on the values\n",
    "- So all the independent variables are in the range of 0 to 1\n",
    "- Using MinMaxScaler() to do this\n",
    "- The goal is to bring all the big values in the dataset to the scale them to the same range.\n",
    "- As a result the model will able to learn better\n",
    "\n",
    "#### Formula\n",
    "- x_scaled = (x - x_min)/(x_max - x_min)"
   ]
  },
  {
   "cell_type": "code",
   "execution_count": 22,
   "id": "b4592437",
   "metadata": {},
   "outputs": [],
   "source": [
    "# Transforming the data\n",
    "scalar = MinMaxScaler()\n",
    "X_train_new = scalar.fit_transform(X_train_new)\n",
    "X_test_new = scalar.transform(X_test_new)"
   ]
  },
  {
   "cell_type": "code",
   "execution_count": 23,
   "id": "b7c92d7d",
   "metadata": {},
   "outputs": [
    {
     "data": {
      "text/plain": [
       "array([[7.06896552e-01, 1.78097546e-02, 2.85131507e-03, 0.00000000e+00,\n",
       "        0.00000000e+00],\n",
       "       [3.96551724e-01, 2.76523477e-03, 4.45560605e-03, 0.00000000e+00,\n",
       "        0.00000000e+00],\n",
       "       [5.86206897e-01, 3.41173044e-03, 8.28040782e-02, 1.00000000e+00,\n",
       "        0.00000000e+00],\n",
       "       [6.20689655e-01, 1.73483656e-04, 3.16871076e-04, 0.00000000e+00,\n",
       "        0.00000000e+00],\n",
       "       [8.27586207e-01, 4.75827356e-03, 3.62408178e-03, 0.00000000e+00,\n",
       "        0.00000000e+00],\n",
       "       [6.89655172e-02, 5.10291627e-04, 8.64601619e-02, 0.00000000e+00,\n",
       "        0.00000000e+00],\n",
       "       [5.34482759e-01, 2.95800395e-03, 2.09711994e-02, 0.00000000e+00,\n",
       "        0.00000000e+00],\n",
       "       [3.96551724e-01, 1.91451914e-03, 5.10760501e-02, 0.00000000e+00,\n",
       "        0.00000000e+00],\n",
       "       [4.31034483e-01, 3.67630378e-05, 2.17088165e-03, 0.00000000e+00,\n",
       "        0.00000000e+00],\n",
       "       [7.75862069e-01, 1.46595842e-03, 7.68957966e-02, 0.00000000e+00,\n",
       "        0.00000000e+00]])"
      ]
     },
     "execution_count": 23,
     "metadata": {},
     "output_type": "execute_result"
    }
   ],
   "source": [
    "# printed the first 10 rows from X_train_new\n",
    "X_train_new[0:10]"
   ]
  },
  {
   "cell_type": "code",
   "execution_count": 24,
   "id": "1a490647",
   "metadata": {},
   "outputs": [
    {
     "data": {
      "text/plain": [
       "LinearRegression()"
      ]
     },
     "execution_count": 24,
     "metadata": {},
     "output_type": "execute_result"
    }
   ],
   "source": [
    "# Fitting Multiple Linear Regression to the training set\n",
    "regressor = LinearRegression()\n",
    "regressor.fit(X_train_new, y_train)"
   ]
  },
  {
   "cell_type": "code",
   "execution_count": 25,
   "id": "9813bb3d",
   "metadata": {},
   "outputs": [
    {
     "data": {
      "text/plain": [
       "array([ 5.53230408e-02,  4.24333726e-02, -1.47896487e-02,  1.66275001e-04,\n",
       "       -1.12465638e-03,  4.94979030e-02,  7.76768036e-03, -8.29909676e-03,\n",
       "       -9.05418920e-03, -1.21797820e-02, -2.55598923e-03, -1.68120962e-03,\n",
       "       -1.27722226e-02,  1.43343863e-02,  2.64334140e-02, -2.10662057e-02,\n",
       "        1.04319760e-02, -1.86778267e-02,  2.78479400e-01, -9.99547661e-03,\n",
       "       -8.21378833e-03, -3.23622437e-02, -9.13232949e-03, -4.70833000e-03,\n",
       "       -2.84116991e-02, -1.32827099e-02,  2.88511018e-01,  2.38548241e-02,\n",
       "       -3.07868058e-02,  2.83184082e-02, -2.36170811e-02, -2.23384132e-02,\n",
       "        6.85808073e-03, -3.12142213e-02,  2.47119772e-02, -7.81720546e-03,\n",
       "       -2.88349407e-02,  5.25032447e-03, -1.66488890e-02,  8.15657671e-03,\n",
       "        2.61625129e-02, -5.31699924e-03, -1.81891789e-02,  7.61399043e-02,\n",
       "        2.25418383e-02,  1.28877798e-02,  4.04286402e-02,  2.83963711e-02,\n",
       "        1.74938209e-02, -2.93518227e-02, -1.07490090e-02,  8.04352124e-01,\n",
       "       -4.63408748e-03, -2.39953850e-02, -2.99041842e-02, -1.33225424e-02,\n",
       "       -2.05924206e-02, -1.14917723e-02, -1.65826684e-03, -2.28764786e-02,\n",
       "       -2.46067199e-02, -7.26734066e-03, -2.42165361e-03, -1.38607418e-02,\n",
       "       -1.57241089e-02,  2.30720303e-02, -2.82198990e-02, -2.11287846e-02,\n",
       "        2.55222870e-02, -2.95136682e-02, -3.37233664e-04,  4.74160109e-02,\n",
       "       -1.43101822e-02,  3.52848546e-02, -1.13225375e-02, -2.20142822e-02,\n",
       "       -7.93213722e-03, -1.26752736e-02,  9.13438153e-03,  4.96017388e-01,\n",
       "       -1.30968819e-02,  4.62488999e-02, -2.53288444e-02,  1.11064342e-02,\n",
       "       -6.23550263e-03,  7.56467399e-02, -1.71466096e-02,  3.34072802e-02,\n",
       "        1.41508627e-02,  1.38696449e-02,  9.80858488e-03,  3.64795875e-02,\n",
       "       -2.35499935e-02, -1.96944069e-02, -4.71944717e-03, -3.01134124e-02,\n",
       "        2.23762214e-02, -1.18325157e-02,  2.11319431e-02, -9.31178666e-03,\n",
       "       -5.02953280e-03,  1.06904024e-01, -2.05971775e-02, -1.72836919e-02,\n",
       "        2.61060880e-02,  4.99509305e-02, -2.14212617e-02,  4.46200717e-02,\n",
       "        2.02376600e-01, -6.21612045e-04, -2.19265170e-03, -9.69849234e-03,\n",
       "       -7.21410736e-03, -1.38528967e-02,  2.67463691e-02, -5.56031091e-03,\n",
       "       -1.06820123e-02, -1.22493117e-02, -2.80066677e-02, -1.83783692e-02,\n",
       "        1.84499322e-02,  6.79097485e-01, -1.52716772e-02,  2.32957644e-02,\n",
       "        9.10725842e-02, -2.72889090e-02, -1.03318232e-02, -8.23105980e-03,\n",
       "        2.12353387e-02,  1.07002815e-02, -1.14580313e-02, -2.02275211e-02,\n",
       "       -1.69943931e-02, -7.06052769e-03,  1.92645226e-02, -1.15921537e-02,\n",
       "       -1.36789142e-02, -5.67895226e-03,  2.38131580e-03, -1.05948682e-02,\n",
       "        2.21544115e-01,  2.78093290e-02, -8.60687846e-03, -2.27077946e-02,\n",
       "       -1.15503473e-02,  7.91239270e-03,  8.22501338e-02, -1.77858551e-02,\n",
       "       -1.52562538e-02,  8.51253600e-02, -2.69666972e-02, -1.72565100e-02,\n",
       "        3.94624757e-02,  2.28819959e-02, -2.37899723e-02, -1.48613017e-02,\n",
       "        1.71145962e-02,  3.98187408e-02, -2.64512972e-02,  4.28032579e-02,\n",
       "       -7.60170075e-03,  2.91898003e-02, -1.85329843e-02,  7.54616238e-02,\n",
       "        4.24966336e-02, -2.53260814e-02,  1.93751229e-02, -1.45851770e-02,\n",
       "       -8.50499941e-03,  4.66485128e-02,  2.13665162e-02, -9.49168887e-03,\n",
       "        9.10041631e-03, -1.45054787e-02,  5.09926483e-02,  8.92062188e-02,\n",
       "       -7.29406065e-03,  2.97132510e-01, -1.46558644e-02,  3.80451839e-03,\n",
       "       -5.54567403e-03,  1.22421061e-03,  1.14304022e-01, -2.26396283e-02,\n",
       "       -2.76611159e-02,  4.90119356e-02,  2.10996268e-03,  4.42089958e-02,\n",
       "       -2.10085992e-02, -2.54575343e-02, -2.00599587e-02, -1.62632248e-02,\n",
       "       -9.07694110e-03,  1.29409361e-02,  1.43710895e-02, -2.12033418e-02,\n",
       "        2.14738984e-03, -6.19899263e-03, -2.17910842e-03, -1.56608637e-02,\n",
       "       -1.66894729e-02,  4.01508998e-03, -2.19986171e-02,  1.15405698e-02,\n",
       "       -9.04553220e-03,  1.38188239e-04, -3.06968455e-02,  1.35752967e-03,\n",
       "       -8.48342923e-03,  4.55732614e-04, -2.12909303e-02,  3.51201468e-03,\n",
       "        3.77971530e-03, -2.09984765e-02,  6.47829078e-01, -2.35543604e-03,\n",
       "        3.52181203e-02,  3.12207020e-02, -1.69177998e-02,  3.26005421e-02,\n",
       "       -1.30822216e-03,  2.19508522e-01, -2.59479956e-02, -8.31438057e-03,\n",
       "        3.38955849e-02, -2.15298818e-02, -1.30870821e-02,  6.83591130e-02,\n",
       "        3.97276673e-03,  2.40704642e-02, -1.17178061e-02, -2.54074736e-02,\n",
       "       -1.42061937e-02, -9.79158558e-03, -9.69895248e-04, -5.17364050e-03,\n",
       "        3.19899964e-02,  2.59584218e-01,  5.27847112e-03, -2.03092062e-02,\n",
       "        2.43154086e-02,  8.99788006e-03, -9.25367866e-03,  2.80858102e-03,\n",
       "       -1.59842223e-02, -1.83599608e-02,  2.35866754e-02,  1.01568112e-02,\n",
       "       -3.05342611e-03, -2.97177831e-02,  6.54851787e-03, -5.21214242e-04,\n",
       "       -7.62860784e-03,  3.26834561e-02,  3.84367439e-03, -1.87343226e-02,\n",
       "        2.17189988e-02,  9.07047955e-03,  5.03221930e-02,  4.98177062e-02,\n",
       "        1.89716768e-02,  2.36286460e-02, -4.07808554e-03, -8.66554072e-03,\n",
       "        1.13066833e-02, -1.29821670e-02, -1.15279423e-02,  1.57223884e-02,\n",
       "       -2.14854630e-02,  1.86242717e-02, -3.26268636e-02, -2.02513262e-02,\n",
       "       -1.86984019e-02,  4.27100077e-01,  2.18301354e-02, -1.12302656e-02,\n",
       "       -2.38627767e-02,  3.27173877e-02,  2.56037899e-02, -1.55174335e-02,\n",
       "        4.93056910e-03, -1.86400732e-02, -2.18298096e-02,  2.25455756e-01,\n",
       "        6.84206273e-02, -1.15678515e-02, -1.72209541e-02,  1.13193485e-02,\n",
       "       -2.45248137e-02, -2.20620091e-02,  2.77014134e-02, -9.33096623e-03,\n",
       "       -6.96627853e-03, -2.63749316e-02, -3.27713240e-02,  2.51521572e-02,\n",
       "        2.09141672e-02, -1.08521965e-02,  9.10934034e-03, -1.74683990e-02,\n",
       "        7.35600133e-03, -1.08718418e-02, -1.58570197e-02,  3.64355640e-02,\n",
       "        1.63633654e-02,  9.15393730e-02, -3.42163469e-02, -8.44979418e-03,\n",
       "        1.62860667e-04, -1.79276690e-02, -2.43191123e-02, -2.75062428e-02,\n",
       "        1.92073666e-04,  4.47220857e-03,  6.50889173e-03,  1.30220162e-02,\n",
       "        4.33855474e-02, -1.29077748e-02,  5.76738548e-02, -3.07797358e-02,\n",
       "       -1.10360009e-02,  1.95779520e-02,  2.38173011e-02,  3.15135370e-03,\n",
       "       -1.76815456e-02,  1.01630968e-02,  8.71282813e-02, -9.35135729e-03,\n",
       "       -6.77551143e-03, -2.56215419e-02, -1.85373037e-02, -1.96308610e-02,\n",
       "       -4.92542591e-03, -2.61043052e-02,  7.97093236e-03, -1.48461754e-02,\n",
       "       -1.72613044e-02, -6.61036168e-03,  5.21166530e-03, -1.98606139e-02,\n",
       "       -1.21234310e-02,  3.24813999e-02,  1.79457278e-02,  5.37552592e-02,\n",
       "       -1.99420958e-02,  7.31091804e-02,  1.11463792e-01, -8.19761757e-04,\n",
       "        5.82586843e-01, -3.33139267e-02, -2.56407366e-02, -9.54654580e-03,\n",
       "       -1.30971440e-02, -1.06507928e-02, -3.25173537e-02, -2.68992292e-02,\n",
       "       -2.81966657e-02,  1.02181055e-02, -7.63664196e-03, -1.67203364e-02,\n",
       "        1.05635527e-02,  5.52928259e-02, -8.77905524e-04,  1.81118360e-02,\n",
       "       -8.27425961e-03,  6.05336803e-03,  5.95860382e-01, -1.81997199e-03,\n",
       "       -1.64624177e-02, -6.25509734e-03, -1.75015873e-02, -3.09337702e-02,\n",
       "       -1.48042993e-02, -2.73804975e-02,  2.80605294e-02,  2.27465733e-03,\n",
       "        2.81350409e-02, -9.72949515e-03, -7.68461666e-03,  1.00411491e-02,\n",
       "        3.69776037e-02, -1.42122548e-02, -2.47193918e-02,  1.96358045e-02,\n",
       "        1.81797439e-02,  4.05133752e-02,  2.79825799e-02, -1.51347773e-02,\n",
       "       -3.05797329e-02, -1.81861226e-02, -1.45232841e-02, -3.14302718e-02,\n",
       "        3.44529584e-02,  2.86671411e-03,  9.10649136e-03,  5.02059205e-03,\n",
       "       -2.30929624e-02,  1.36528046e-03, -1.02674631e-02,  1.91452703e-03,\n",
       "        9.53232963e-03,  1.55120151e-02,  3.17719866e-02,  8.48792241e-03,\n",
       "       -2.43506051e-02, -1.34976439e-02, -1.12373064e-02,  4.20849077e-02,\n",
       "        2.23585228e-01,  2.31081185e-03,  9.69280329e-03, -4.08148187e-03,\n",
       "       -2.58130592e-02,  4.75020616e-03, -1.03267011e-02,  6.13370404e-01,\n",
       "       -1.93473139e-02,  2.60536866e-02,  2.98429107e-02, -5.59275747e-03,\n",
       "       -7.35801264e-03, -1.37726683e-02,  4.02948789e-02,  2.13130693e-02,\n",
       "       -7.68704833e-03,  1.02001338e-01,  2.09498397e-02, -2.63089909e-02,\n",
       "       -1.33349938e-03, -6.86802492e-03,  9.80949483e-04,  1.86354395e-02,\n",
       "        8.78189528e-03,  4.66246050e-03,  9.63412057e-03,  4.72085165e-02,\n",
       "        8.04997119e-02,  4.89762235e-03, -1.24274061e-02,  2.95503877e-02,\n",
       "        4.13347266e-02,  2.84530469e-03, -1.55416442e-02,  9.44027963e-03,\n",
       "        2.82354325e-02,  6.76615014e-02, -1.21663538e-02,  7.80617008e-01,\n",
       "        4.25999257e-02,  7.50163712e-03, -7.58454948e-03,  1.90759850e-02,\n",
       "       -1.50787628e-03,  6.36838940e-02,  2.37663273e-01, -1.88353260e-02,\n",
       "       -1.60765649e-02,  1.15348809e-02,  4.39215618e-02, -4.45734935e-03,\n",
       "        3.02607216e-02, -2.06060192e-02,  5.61121900e-03,  5.86192721e-04,\n",
       "       -9.52693495e-03, -2.43867168e-02,  1.18097679e-02, -1.78704712e-02,\n",
       "        5.24342675e-03, -8.98860916e-03,  2.22448711e-03, -2.84389273e-02,\n",
       "       -1.21193026e-02,  1.31625236e-02,  8.23515739e-03,  4.72273028e-03,\n",
       "       -7.76808261e-03, -2.97705290e-02, -6.67735644e-03,  3.24742802e-02,\n",
       "       -3.06680847e-03, -1.63964437e-02, -1.00359560e-03,  1.11451358e-02,\n",
       "       -2.04517763e-02,  5.18086140e-02,  7.44868335e-03,  2.97316800e-04,\n",
       "       -1.90322640e-02, -3.12524157e-02, -1.45938376e-02, -2.14265493e-02,\n",
       "        2.78182397e-02,  4.68574770e-02, -2.63688360e-02, -3.06182470e-02,\n",
       "        8.47611662e-03, -1.92082851e-02, -2.84475885e-02,  2.86066440e-02,\n",
       "        4.70520420e-02, -7.98109657e-03,  2.13809560e-02, -9.54630924e-03,\n",
       "       -6.06856187e-03,  2.76699826e-02, -3.07613693e-02, -2.85925122e-02,\n",
       "       -2.61955417e-02,  2.27184537e-02])"
      ]
     },
     "execution_count": 25,
     "metadata": {},
     "output_type": "execute_result"
    }
   ],
   "source": [
    "# Predicting the test set results\n",
    "y_pred = regressor.predict(X_test_new)\n",
    "y_pred"
   ]
  },
  {
   "cell_type": "code",
   "execution_count": 26,
   "id": "5383391a",
   "metadata": {},
   "outputs": [
    {
     "data": {
      "text/plain": [
       "0.11232568706621252"
      ]
     },
     "execution_count": 26,
     "metadata": {},
     "output_type": "execute_result"
    }
   ],
   "source": [
    "# performance evaluation, how much error is there on an average in the pred\n",
    "math.sqrt(mean_squared_error(y_test, y_pred))"
   ]
  },
  {
   "cell_type": "code",
   "execution_count": 27,
   "id": "5a97a58d",
   "metadata": {},
   "outputs": [
    {
     "data": {
      "text/plain": [
       "0.5274053428181694"
      ]
     },
     "execution_count": 27,
     "metadata": {},
     "output_type": "execute_result"
    }
   ],
   "source": [
    "r2_score(y_test, y_pred)"
   ]
  },
  {
   "cell_type": "markdown",
   "id": "3107cfe5",
   "metadata": {},
   "source": [
    "## Evaluation of the model"
   ]
  },
  {
   "cell_type": "markdown",
   "id": "b321d40a",
   "metadata": {},
   "source": [
    "#### R-Squared"
   ]
  },
  {
   "cell_type": "code",
   "execution_count": 28,
   "id": "6ad86b71",
   "metadata": {},
   "outputs": [
    {
     "name": "stdout",
     "output_type": "stream",
     "text": [
      "0.5274053428181694\n"
     ]
    }
   ],
   "source": [
    "from sklearn.metrics import r2_score\n",
    "r2 = r2_score(y_test, y_pred)\n",
    "print(r2)"
   ]
  },
  {
   "cell_type": "markdown",
   "id": "1f160dd9",
   "metadata": {},
   "source": [
    "#### Mean Absolute Error"
   ]
  },
  {
   "cell_type": "code",
   "execution_count": 29,
   "id": "d03576d0",
   "metadata": {},
   "outputs": [
    {
     "data": {
      "text/plain": [
       "0.038961763528756146"
      ]
     },
     "execution_count": 29,
     "metadata": {},
     "output_type": "execute_result"
    }
   ],
   "source": [
    "from sklearn.metrics import mean_absolute_error\n",
    "mean_absolute_error(y_test, y_pred)"
   ]
  },
  {
   "cell_type": "markdown",
   "id": "f3af4382",
   "metadata": {},
   "source": [
    "#### Mean Squared Error"
   ]
  },
  {
   "cell_type": "code",
   "execution_count": 30,
   "id": "6b41a1d8",
   "metadata": {},
   "outputs": [
    {
     "data": {
      "text/plain": [
       "0.012617059974896701"
      ]
     },
     "execution_count": 30,
     "metadata": {},
     "output_type": "execute_result"
    }
   ],
   "source": [
    "from sklearn.metrics import mean_squared_error\n",
    "mean_squared_error(y_test, y_pred)"
   ]
  },
  {
   "cell_type": "markdown",
   "id": "cea2ba01",
   "metadata": {},
   "source": [
    "#### AUC-ROC Curve"
   ]
  },
  {
   "cell_type": "code",
   "execution_count": 31,
   "id": "b42a7e98",
   "metadata": {},
   "outputs": [
    {
     "data": {
      "text/plain": [
       "0.9625576036866359"
      ]
     },
     "execution_count": 31,
     "metadata": {},
     "output_type": "execute_result"
    }
   ],
   "source": [
    "from sklearn.metrics import roc_auc_score\n",
    "roc_auc_score(y_test, y_pred)"
   ]
  },
  {
   "cell_type": "markdown",
   "id": "1ca8112c",
   "metadata": {},
   "source": [
    "### Residual analysis of the trained data"
   ]
  },
  {
   "cell_type": "code",
   "execution_count": 32,
   "id": "a80869fe",
   "metadata": {},
   "outputs": [
    {
     "data": {
      "text/html": [
       "<table class=\"simpletable\">\n",
       "<caption>OLS Regression Results</caption>\n",
       "<tr>\n",
       "  <th>Dep. Variable:</th>            <td>y</td>        <th>  R-squared:         </th> <td>   0.468</td> \n",
       "</tr>\n",
       "<tr>\n",
       "  <th>Model:</th>                   <td>OLS</td>       <th>  Adj. R-squared:    </th> <td>   0.466</td> \n",
       "</tr>\n",
       "<tr>\n",
       "  <th>Method:</th>             <td>Least Squares</td>  <th>  F-statistic:       </th> <td>   357.2</td> \n",
       "</tr>\n",
       "<tr>\n",
       "  <th>Date:</th>             <td>Thu, 23 Dec 2021</td> <th>  Prob (F-statistic):</th> <td>3.82e-275</td>\n",
       "</tr>\n",
       "<tr>\n",
       "  <th>Time:</th>                 <td>21:01:04</td>     <th>  Log-Likelihood:    </th> <td>  2031.8</td> \n",
       "</tr>\n",
       "<tr>\n",
       "  <th>No. Observations:</th>      <td>  2038</td>      <th>  AIC:               </th> <td>  -4052.</td> \n",
       "</tr>\n",
       "<tr>\n",
       "  <th>Df Residuals:</th>          <td>  2032</td>      <th>  BIC:               </th> <td>  -4018.</td> \n",
       "</tr>\n",
       "<tr>\n",
       "  <th>Df Model:</th>              <td>     5</td>      <th>                     </th>     <td> </td>    \n",
       "</tr>\n",
       "<tr>\n",
       "  <th>Covariance Type:</th>      <td>nonrobust</td>    <th>                     </th>     <td> </td>    \n",
       "</tr>\n",
       "</table>\n",
       "<table class=\"simpletable\">\n",
       "<tr>\n",
       "    <td></td>       <th>coef</th>     <th>std err</th>      <th>t</th>      <th>P>|t|</th>  <th>[0.025</th>    <th>0.975]</th>  \n",
       "</tr>\n",
       "<tr>\n",
       "  <th>const</th> <td>   -0.0103</td> <td>    0.004</td> <td>   -2.573</td> <td> 0.010</td> <td>   -0.018</td> <td>   -0.002</td>\n",
       "</tr>\n",
       "<tr>\n",
       "  <th>x1</th>    <td>   -0.0271</td> <td>    0.007</td> <td>   -3.977</td> <td> 0.000</td> <td>   -0.040</td> <td>   -0.014</td>\n",
       "</tr>\n",
       "<tr>\n",
       "  <th>x2</th>    <td>    0.0153</td> <td>    0.017</td> <td>    0.918</td> <td> 0.359</td> <td>   -0.017</td> <td>    0.048</td>\n",
       "</tr>\n",
       "<tr>\n",
       "  <th>x3</th>    <td>    1.1884</td> <td>    0.028</td> <td>   42.227</td> <td> 0.000</td> <td>    1.133</td> <td>    1.244</td>\n",
       "</tr>\n",
       "<tr>\n",
       "  <th>x4</th>    <td>   -0.0747</td> <td>    0.014</td> <td>   -5.390</td> <td> 0.000</td> <td>   -0.102</td> <td>   -0.048</td>\n",
       "</tr>\n",
       "<tr>\n",
       "  <th>x5</th>    <td>    0.0208</td> <td>    0.016</td> <td>    1.322</td> <td> 0.186</td> <td>   -0.010</td> <td>    0.052</td>\n",
       "</tr>\n",
       "</table>\n",
       "<table class=\"simpletable\">\n",
       "<tr>\n",
       "  <th>Omnibus:</th>       <td>2571.529</td> <th>  Durbin-Watson:     </th>  <td>   2.004</td> \n",
       "</tr>\n",
       "<tr>\n",
       "  <th>Prob(Omnibus):</th>  <td> 0.000</td>  <th>  Jarque-Bera (JB):  </th> <td>445591.355</td>\n",
       "</tr>\n",
       "<tr>\n",
       "  <th>Skew:</th>           <td> 6.723</td>  <th>  Prob(JB):          </th>  <td>    0.00</td> \n",
       "</tr>\n",
       "<tr>\n",
       "  <th>Kurtosis:</th>       <td>74.180</td>  <th>  Cond. No.          </th>  <td>    16.0</td> \n",
       "</tr>\n",
       "</table><br/><br/>Notes:<br/>[1] Standard Errors assume that the covariance matrix of the errors is correctly specified."
      ],
      "text/plain": [
       "<class 'statsmodels.iolib.summary.Summary'>\n",
       "\"\"\"\n",
       "                            OLS Regression Results                            \n",
       "==============================================================================\n",
       "Dep. Variable:                      y   R-squared:                       0.468\n",
       "Model:                            OLS   Adj. R-squared:                  0.466\n",
       "Method:                 Least Squares   F-statistic:                     357.2\n",
       "Date:                Thu, 23 Dec 2021   Prob (F-statistic):          3.82e-275\n",
       "Time:                        21:01:04   Log-Likelihood:                 2031.8\n",
       "No. Observations:                2038   AIC:                            -4052.\n",
       "Df Residuals:                    2032   BIC:                            -4018.\n",
       "Df Model:                           5                                         \n",
       "Covariance Type:            nonrobust                                         \n",
       "==============================================================================\n",
       "                 coef    std err          t      P>|t|      [0.025      0.975]\n",
       "------------------------------------------------------------------------------\n",
       "const         -0.0103      0.004     -2.573      0.010      -0.018      -0.002\n",
       "x1            -0.0271      0.007     -3.977      0.000      -0.040      -0.014\n",
       "x2             0.0153      0.017      0.918      0.359      -0.017       0.048\n",
       "x3             1.1884      0.028     42.227      0.000       1.133       1.244\n",
       "x4            -0.0747      0.014     -5.390      0.000      -0.102      -0.048\n",
       "x5             0.0208      0.016      1.322      0.186      -0.010       0.052\n",
       "==============================================================================\n",
       "Omnibus:                     2571.529   Durbin-Watson:                   2.004\n",
       "Prob(Omnibus):                  0.000   Jarque-Bera (JB):           445591.355\n",
       "Skew:                           6.723   Prob(JB):                         0.00\n",
       "Kurtosis:                      74.180   Cond. No.                         16.0\n",
       "==============================================================================\n",
       "\n",
       "Notes:\n",
       "[1] Standard Errors assume that the covariance matrix of the errors is correctly specified.\n",
       "\"\"\""
      ]
     },
     "execution_count": 32,
     "metadata": {},
     "output_type": "execute_result"
    }
   ],
   "source": [
    "import statsmodels.api as sm\n",
    "\n",
    "X_train_lm = sm.add_constant(X_train_new)\n",
    "ML1 = sm.OLS(y_train, X_train_lm).fit()\n",
    "ML1.summary()"
   ]
  },
  {
   "cell_type": "code",
   "execution_count": 33,
   "id": "95048b6e",
   "metadata": {},
   "outputs": [
    {
     "data": {
      "text/plain": [
       "Text(0.5, 6.79999999999999, 'Errors')"
      ]
     },
     "execution_count": 33,
     "metadata": {},
     "output_type": "execute_result"
    },
    {
     "data": {
      "text/plain": [
       "<Figure size 432x288 with 0 Axes>"
      ]
     },
     "metadata": {},
     "output_type": "display_data"
    },
    {
     "data": {
      "image/png": "[encoded data removed]",
      "text/plain": [
       "<Figure size 360x360 with 1 Axes>"
      ]
     },
     "metadata": {
      "needs_background": "light"
     },
     "output_type": "display_data"
    }
   ],
   "source": [
    "import seaborn as sns\n",
    "y_train_prod = ML1.predict(X_train_lm)\n",
    "\n",
    "# plot\n",
    "fig = plt.figure()\n",
    "sns.displot((y_train - y_train_prod), bins = 20)\n",
    "fig.suptitle('Error Terms', fontsize = 20)\n",
    "plt.xlabel('Errors',fontsize = 18)"
   ]
  }
 ],
 "metadata": {
  "kernelspec": {
   "display_name": "Python 3 (ipykernel)",
   "language": "python",
   "name": "python3"
  },
  "language_info": {
   "codemirror_mode": {
    "name": "ipython",
    "version": 3
   },
   "file_extension": ".py",
   "mimetype": "text/x-python",
   "name": "python",
   "nbconvert_exporter": "python",
   "pygments_lexer": "ipython3",
   "version": "3.10.0"
  }
 },
 "nbformat": 4,
 "nbformat_minor": 5
}
