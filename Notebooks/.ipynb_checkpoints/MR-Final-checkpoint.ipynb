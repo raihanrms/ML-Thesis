{
 "cells": [
  {
   "cell_type": "code",
   "execution_count": 54,
   "id": "10612c9a",
   "metadata": {},
   "outputs": [],
   "source": [
    "import numpy as np\n",
    "import pandas as pd\n",
    "from numpy import math\n",
    "\n",
    "from sklearn.preprocessing import MinMaxScaler\n",
    "from sklearn.model_selection import train_test_split\n",
    "from sklearn.linear_model import LinearRegression\n",
    "from sklearn.metrics import r2_score\n",
    "from sklearn.metrics import mean_squared_error\n",
    "\n",
    "import matplotlib.pyplot as plt"
   ]
  },
  {
   "cell_type": "code",
   "execution_count": 25,
   "id": "f750fb4f",
   "metadata": {},
   "outputs": [],
   "source": [
    "df = pd.read_csv('Dataset_Jan.csv')"
   ]
  },
  {
   "cell_type": "code",
   "execution_count": 26,
   "id": "5b3e2d41",
   "metadata": {},
   "outputs": [
    {
     "data": {
      "text/html": [
       "<div>\n",
       "<style scoped>\n",
       "    .dataframe tbody tr th:only-of-type {\n",
       "        vertical-align: middle;\n",
       "    }\n",
       "\n",
       "    .dataframe tbody tr th {\n",
       "        vertical-align: top;\n",
       "    }\n",
       "\n",
       "    .dataframe thead th {\n",
       "        text-align: right;\n",
       "    }\n",
       "</style>\n",
       "<table border=\"1\" class=\"dataframe\">\n",
       "  <thead>\n",
       "    <tr style=\"text-align: right;\">\n",
       "      <th></th>\n",
       "      <th>Area</th>\n",
       "      <th>Year</th>\n",
       "      <th>Item</th>\n",
       "      <th>Area Harvested</th>\n",
       "      <th>Yield</th>\n",
       "      <th>Humidity</th>\n",
       "      <th>Wind Speed</th>\n",
       "      <th>Temperature</th>\n",
       "      <th>Production</th>\n",
       "    </tr>\n",
       "  </thead>\n",
       "  <tbody>\n",
       "    <tr>\n",
       "      <th>0</th>\n",
       "      <td>Bangladesh</td>\n",
       "      <td>1961</td>\n",
       "      <td>Areca nuts</td>\n",
       "      <td>82600</td>\n",
       "      <td>7627</td>\n",
       "      <td>NaN</td>\n",
       "      <td>NaN</td>\n",
       "      <td>NaN</td>\n",
       "      <td>62995</td>\n",
       "    </tr>\n",
       "    <tr>\n",
       "      <th>1</th>\n",
       "      <td>Bangladesh</td>\n",
       "      <td>1961</td>\n",
       "      <td>Bananas</td>\n",
       "      <td>33600</td>\n",
       "      <td>132738</td>\n",
       "      <td>NaN</td>\n",
       "      <td>NaN</td>\n",
       "      <td>NaN</td>\n",
       "      <td>446000</td>\n",
       "    </tr>\n",
       "    <tr>\n",
       "      <th>2</th>\n",
       "      <td>Bangladesh</td>\n",
       "      <td>1961</td>\n",
       "      <td>Barley</td>\n",
       "      <td>29947</td>\n",
       "      <td>5768</td>\n",
       "      <td>NaN</td>\n",
       "      <td>NaN</td>\n",
       "      <td>NaN</td>\n",
       "      <td>17272</td>\n",
       "    </tr>\n",
       "    <tr>\n",
       "      <th>3</th>\n",
       "      <td>Bangladesh</td>\n",
       "      <td>1961</td>\n",
       "      <td>Bastfibres, others</td>\n",
       "      <td>30900</td>\n",
       "      <td>11117</td>\n",
       "      <td>NaN</td>\n",
       "      <td>NaN</td>\n",
       "      <td>NaN</td>\n",
       "      <td>34350</td>\n",
       "    </tr>\n",
       "    <tr>\n",
       "      <th>4</th>\n",
       "      <td>Bangladesh</td>\n",
       "      <td>1961</td>\n",
       "      <td>Beans, dry</td>\n",
       "      <td>68798</td>\n",
       "      <td>7236</td>\n",
       "      <td>NaN</td>\n",
       "      <td>NaN</td>\n",
       "      <td>NaN</td>\n",
       "      <td>49784</td>\n",
       "    </tr>\n",
       "  </tbody>\n",
       "</table>\n",
       "</div>"
      ],
      "text/plain": [
       "         Area  Year                Item  Area Harvested   Yield  Humidity  \\\n",
       "0  Bangladesh  1961          Areca nuts           82600    7627       NaN   \n",
       "1  Bangladesh  1961             Bananas           33600  132738       NaN   \n",
       "2  Bangladesh  1961              Barley           29947    5768       NaN   \n",
       "3  Bangladesh  1961  Bastfibres, others           30900   11117       NaN   \n",
       "4  Bangladesh  1961          Beans, dry           68798    7236       NaN   \n",
       "\n",
       "   Wind Speed  Temperature  Production  \n",
       "0         NaN          NaN       62995  \n",
       "1         NaN          NaN      446000  \n",
       "2         NaN          NaN       17272  \n",
       "3         NaN          NaN       34350  \n",
       "4         NaN          NaN       49784  "
      ]
     },
     "execution_count": 26,
     "metadata": {},
     "output_type": "execute_result"
    }
   ],
   "source": [
    "df.head()"
   ]
  },
  {
   "cell_type": "code",
   "execution_count": 27,
   "id": "9de421bb",
   "metadata": {},
   "outputs": [
    {
     "data": {
      "text/plain": [
       "54"
      ]
     },
     "execution_count": 27,
     "metadata": {},
     "output_type": "execute_result"
    }
   ],
   "source": [
    "# df['Item'].value_counts()\n",
    "df['Item'].nunique()"
   ]
  },
  {
   "cell_type": "code",
   "execution_count": 28,
   "id": "67c95da5",
   "metadata": {},
   "outputs": [
    {
     "data": {
      "text/plain": [
       "(3185, 9)"
      ]
     },
     "execution_count": 28,
     "metadata": {},
     "output_type": "execute_result"
    }
   ],
   "source": [
    "df.shape"
   ]
  },
  {
   "cell_type": "code",
   "execution_count": 29,
   "id": "8851f890",
   "metadata": {},
   "outputs": [
    {
     "name": "stdout",
     "output_type": "stream",
     "text": [
      "<class 'pandas.core.frame.DataFrame'>\n",
      "RangeIndex: 3185 entries, 0 to 3184\n",
      "Data columns (total 9 columns):\n",
      " #   Column          Non-Null Count  Dtype  \n",
      "---  ------          --------------  -----  \n",
      " 0   Area            3185 non-null   object \n",
      " 1   Year            3185 non-null   int64  \n",
      " 2   Item            3185 non-null   object \n",
      " 3   Area Harvested  3185 non-null   int64  \n",
      " 4   Yield           3185 non-null   int64  \n",
      " 5   Humidity        2105 non-null   float64\n",
      " 6   Wind Speed      2105 non-null   float64\n",
      " 7   Temperature     2105 non-null   float64\n",
      " 8   Production      3185 non-null   int64  \n",
      "dtypes: float64(3), int64(4), object(2)\n",
      "memory usage: 224.1+ KB\n"
     ]
    }
   ],
   "source": [
    "df.info()"
   ]
  },
  {
   "cell_type": "code",
   "execution_count": 30,
   "id": "2bd43847",
   "metadata": {},
   "outputs": [],
   "source": [
    "mean_temp=df['Temperature'].mean()\n",
    "mean_hum=df['Humidity'].mean()\n",
    "mean_wind=df['Wind Speed'].mean()\n",
    "df['Temperature'].fillna(value=mean_temp, inplace=True)\n",
    "df['Humidity'].fillna(value=mean_hum, inplace=True)\n",
    "df['Wind Speed'].fillna(value=mean_wind, inplace=True)"
   ]
  },
  {
   "cell_type": "code",
   "execution_count": 31,
   "id": "e77aef29",
   "metadata": {},
   "outputs": [
    {
     "data": {
      "text/html": [
       "<div>\n",
       "<style scoped>\n",
       "    .dataframe tbody tr th:only-of-type {\n",
       "        vertical-align: middle;\n",
       "    }\n",
       "\n",
       "    .dataframe tbody tr th {\n",
       "        vertical-align: top;\n",
       "    }\n",
       "\n",
       "    .dataframe thead th {\n",
       "        text-align: right;\n",
       "    }\n",
       "</style>\n",
       "<table border=\"1\" class=\"dataframe\">\n",
       "  <thead>\n",
       "    <tr style=\"text-align: right;\">\n",
       "      <th></th>\n",
       "      <th>Area</th>\n",
       "      <th>Year</th>\n",
       "      <th>Item</th>\n",
       "      <th>Area Harvested</th>\n",
       "      <th>Yield</th>\n",
       "      <th>Humidity</th>\n",
       "      <th>Wind Speed</th>\n",
       "      <th>Temperature</th>\n",
       "      <th>Production</th>\n",
       "    </tr>\n",
       "  </thead>\n",
       "  <tbody>\n",
       "    <tr>\n",
       "      <th>0</th>\n",
       "      <td>Bangladesh</td>\n",
       "      <td>1961</td>\n",
       "      <td>Areca nuts</td>\n",
       "      <td>82600</td>\n",
       "      <td>7627</td>\n",
       "      <td>14.404385</td>\n",
       "      <td>162.94838</td>\n",
       "      <td>26.311311</td>\n",
       "      <td>62995</td>\n",
       "    </tr>\n",
       "    <tr>\n",
       "      <th>1</th>\n",
       "      <td>Bangladesh</td>\n",
       "      <td>1961</td>\n",
       "      <td>Bananas</td>\n",
       "      <td>33600</td>\n",
       "      <td>132738</td>\n",
       "      <td>14.404385</td>\n",
       "      <td>162.94838</td>\n",
       "      <td>26.311311</td>\n",
       "      <td>446000</td>\n",
       "    </tr>\n",
       "    <tr>\n",
       "      <th>2</th>\n",
       "      <td>Bangladesh</td>\n",
       "      <td>1961</td>\n",
       "      <td>Barley</td>\n",
       "      <td>29947</td>\n",
       "      <td>5768</td>\n",
       "      <td>14.404385</td>\n",
       "      <td>162.94838</td>\n",
       "      <td>26.311311</td>\n",
       "      <td>17272</td>\n",
       "    </tr>\n",
       "    <tr>\n",
       "      <th>3</th>\n",
       "      <td>Bangladesh</td>\n",
       "      <td>1961</td>\n",
       "      <td>Bastfibres, others</td>\n",
       "      <td>30900</td>\n",
       "      <td>11117</td>\n",
       "      <td>14.404385</td>\n",
       "      <td>162.94838</td>\n",
       "      <td>26.311311</td>\n",
       "      <td>34350</td>\n",
       "    </tr>\n",
       "    <tr>\n",
       "      <th>4</th>\n",
       "      <td>Bangladesh</td>\n",
       "      <td>1961</td>\n",
       "      <td>Beans, dry</td>\n",
       "      <td>68798</td>\n",
       "      <td>7236</td>\n",
       "      <td>14.404385</td>\n",
       "      <td>162.94838</td>\n",
       "      <td>26.311311</td>\n",
       "      <td>49784</td>\n",
       "    </tr>\n",
       "  </tbody>\n",
       "</table>\n",
       "</div>"
      ],
      "text/plain": [
       "         Area  Year                Item  Area Harvested   Yield   Humidity  \\\n",
       "0  Bangladesh  1961          Areca nuts           82600    7627  14.404385   \n",
       "1  Bangladesh  1961             Bananas           33600  132738  14.404385   \n",
       "2  Bangladesh  1961              Barley           29947    5768  14.404385   \n",
       "3  Bangladesh  1961  Bastfibres, others           30900   11117  14.404385   \n",
       "4  Bangladesh  1961          Beans, dry           68798    7236  14.404385   \n",
       "\n",
       "   Wind Speed  Temperature  Production  \n",
       "0   162.94838    26.311311       62995  \n",
       "1   162.94838    26.311311      446000  \n",
       "2   162.94838    26.311311       17272  \n",
       "3   162.94838    26.311311       34350  \n",
       "4   162.94838    26.311311       49784  "
      ]
     },
     "execution_count": 31,
     "metadata": {},
     "output_type": "execute_result"
    }
   ],
   "source": [
    "df.head()"
   ]
  },
  {
   "cell_type": "markdown",
   "id": "ca98f2a8",
   "metadata": {},
   "source": [
    "## OneHotEncoding using sklearn"
   ]
  },
  {
   "cell_type": "code",
   "execution_count": 32,
   "id": "8df1ff6e",
   "metadata": {},
   "outputs": [],
   "source": [
    "from sklearn.model_selection import train_test_split\n",
    "# first 5 cols as train as input, last col as output\n",
    "X_train,X_test,y_train,y_test = train_test_split(df.iloc[:,0:8],df.iloc[:,-1],test_size=0.2,random_state=2)"
   ]
  },
  {
   "cell_type": "code",
   "execution_count": 33,
   "id": "d93c8546",
   "metadata": {},
   "outputs": [
    {
     "data": {
      "text/html": [
       "<div>\n",
       "<style scoped>\n",
       "    .dataframe tbody tr th:only-of-type {\n",
       "        vertical-align: middle;\n",
       "    }\n",
       "\n",
       "    .dataframe tbody tr th {\n",
       "        vertical-align: top;\n",
       "    }\n",
       "\n",
       "    .dataframe thead th {\n",
       "        text-align: right;\n",
       "    }\n",
       "</style>\n",
       "<table border=\"1\" class=\"dataframe\">\n",
       "  <thead>\n",
       "    <tr style=\"text-align: right;\">\n",
       "      <th></th>\n",
       "      <th>Area</th>\n",
       "      <th>Year</th>\n",
       "      <th>Item</th>\n",
       "      <th>Area Harvested</th>\n",
       "      <th>Yield</th>\n",
       "      <th>Humidity</th>\n",
       "      <th>Wind Speed</th>\n",
       "      <th>Temperature</th>\n",
       "    </tr>\n",
       "  </thead>\n",
       "  <tbody>\n",
       "    <tr>\n",
       "      <th>3064</th>\n",
       "      <td>Bangladesh</td>\n",
       "      <td>2017</td>\n",
       "      <td>Spices nes</td>\n",
       "      <td>47332</td>\n",
       "      <td>35494</td>\n",
       "      <td>16.420000</td>\n",
       "      <td>170.19000</td>\n",
       "      <td>25.360000</td>\n",
       "    </tr>\n",
       "    <tr>\n",
       "      <th>761</th>\n",
       "      <td>Bangladesh</td>\n",
       "      <td>1975</td>\n",
       "      <td>Beans, green</td>\n",
       "      <td>6632</td>\n",
       "      <td>39704</td>\n",
       "      <td>14.404385</td>\n",
       "      <td>162.94838</td>\n",
       "      <td>26.311311</td>\n",
       "    </tr>\n",
       "    <tr>\n",
       "      <th>2692</th>\n",
       "      <td>Bangladesh</td>\n",
       "      <td>2010</td>\n",
       "      <td>Tea</td>\n",
       "      <td>52236</td>\n",
       "      <td>11486</td>\n",
       "      <td>15.500000</td>\n",
       "      <td>172.75000</td>\n",
       "      <td>26.020000</td>\n",
       "    </tr>\n",
       "    <tr>\n",
       "      <th>2940</th>\n",
       "      <td>Bangladesh</td>\n",
       "      <td>2015</td>\n",
       "      <td>Linseed</td>\n",
       "      <td>7009</td>\n",
       "      <td>6941</td>\n",
       "      <td>15.440000</td>\n",
       "      <td>188.19000</td>\n",
       "      <td>25.920000</td>\n",
       "    </tr>\n",
       "    <tr>\n",
       "      <th>1901</th>\n",
       "      <td>Bangladesh</td>\n",
       "      <td>1996</td>\n",
       "      <td>Coconuts</td>\n",
       "      <td>29200</td>\n",
       "      <td>30479</td>\n",
       "      <td>13.000000</td>\n",
       "      <td>174.75000</td>\n",
       "      <td>28.000000</td>\n",
       "    </tr>\n",
       "  </tbody>\n",
       "</table>\n",
       "</div>"
      ],
      "text/plain": [
       "            Area  Year          Item  Area Harvested  Yield   Humidity  \\\n",
       "3064  Bangladesh  2017    Spices nes           47332  35494  16.420000   \n",
       "761   Bangladesh  1975  Beans, green            6632  39704  14.404385   \n",
       "2692  Bangladesh  2010           Tea           52236  11486  15.500000   \n",
       "2940  Bangladesh  2015       Linseed            7009   6941  15.440000   \n",
       "1901  Bangladesh  1996      Coconuts           29200  30479  13.000000   \n",
       "\n",
       "      Wind Speed  Temperature  \n",
       "3064   170.19000    25.360000  \n",
       "761    162.94838    26.311311  \n",
       "2692   172.75000    26.020000  \n",
       "2940   188.19000    25.920000  \n",
       "1901   174.75000    28.000000  "
      ]
     },
     "execution_count": 33,
     "metadata": {},
     "output_type": "execute_result"
    }
   ],
   "source": [
    "X_test.head()"
   ]
  },
  {
   "cell_type": "code",
   "execution_count": 34,
   "id": "d1c39908",
   "metadata": {},
   "outputs": [],
   "source": [
    "from sklearn.preprocessing import OneHotEncoder"
   ]
  },
  {
   "cell_type": "code",
   "execution_count": 35,
   "id": "8c6ce87b",
   "metadata": {},
   "outputs": [],
   "source": [
    "# object\n",
    "# multicollinearity removal\n",
    "# removing the catagories from the columns with drop first\n",
    "ohe = OneHotEncoder(drop='first',sparse=False,dtype=np.int32)"
   ]
  },
  {
   "cell_type": "code",
   "execution_count": 36,
   "id": "a497d213",
   "metadata": {},
   "outputs": [
    {
     "data": {
      "text/plain": [
       "array([[0, 0, 0, ..., 0, 0, 0],\n",
       "       [0, 0, 0, ..., 0, 0, 0],\n",
       "       [0, 0, 0, ..., 0, 1, 0],\n",
       "       ...,\n",
       "       [0, 0, 0, ..., 0, 0, 0],\n",
       "       [0, 0, 0, ..., 0, 0, 0],\n",
       "       [0, 0, 0, ..., 0, 0, 0]])"
      ]
     },
     "execution_count": 36,
     "metadata": {},
     "output_type": "execute_result"
    }
   ],
   "source": [
    "X_train_new = ohe.fit_transform(X_train[['Item']])\n",
    "# we get the no. of cols depending on the categories\n",
    "X_train_new"
   ]
  },
  {
   "cell_type": "code",
   "execution_count": 37,
   "id": "c35e8425",
   "metadata": {},
   "outputs": [],
   "source": [
    "X_test_new = ohe.transform(X_test[['Item']])"
   ]
  },
  {
   "cell_type": "code",
   "execution_count": 38,
   "id": "f9ef2cfa",
   "metadata": {},
   "outputs": [
    {
     "data": {
      "text/plain": [
       "array([[0, 0, 0, ..., 0, 0, 0],\n",
       "       [0, 0, 0, ..., 0, 0, 0],\n",
       "       [0, 0, 0, ..., 0, 0, 0],\n",
       "       ...,\n",
       "       [0, 0, 0, ..., 0, 0, 0],\n",
       "       [0, 0, 0, ..., 0, 0, 0],\n",
       "       [0, 0, 1, ..., 0, 0, 0]])"
      ]
     },
     "execution_count": 38,
     "metadata": {},
     "output_type": "execute_result"
    }
   ],
   "source": [
    "X_test_new"
   ]
  },
  {
   "cell_type": "code",
   "execution_count": 39,
   "id": "7a58c9ce",
   "metadata": {},
   "outputs": [
    {
     "data": {
      "text/plain": [
       "array([[2.008000e+03, 7.258100e+04, 9.856000e+03, ..., 0.000000e+00,\n",
       "        0.000000e+00, 0.000000e+00],\n",
       "       [2.011000e+03, 7.087230e+05, 2.149400e+04, ..., 0.000000e+00,\n",
       "        0.000000e+00, 0.000000e+00],\n",
       "       [1.985000e+03, 7.702300e+04, 6.218100e+04, ..., 0.000000e+00,\n",
       "        1.000000e+00, 0.000000e+00],\n",
       "       ...,\n",
       "       [1.990000e+03, 4.014000e+03, 4.527900e+04, ..., 0.000000e+00,\n",
       "        0.000000e+00, 0.000000e+00],\n",
       "       [2.008000e+03, 4.648200e+04, 8.547000e+03, ..., 0.000000e+00,\n",
       "        0.000000e+00, 0.000000e+00],\n",
       "       [2.008000e+03, 1.127915e+07, 4.144100e+04, ..., 0.000000e+00,\n",
       "        0.000000e+00, 0.000000e+00]])"
      ]
     },
     "execution_count": 39,
     "metadata": {},
     "output_type": "execute_result"
    }
   ],
   "source": [
    "# now to append everything together\n",
    "data = np.hstack((X_train[['Year','Area Harvested','Yield','Humidity','Wind Speed','Temperature']].values,X_train_new))\n",
    "data"
   ]
  },
  {
   "cell_type": "markdown",
   "id": "9fe52006",
   "metadata": {},
   "source": [
    "## Multiple Linear Regression"
   ]
  },
  {
   "cell_type": "code",
   "execution_count": 40,
   "id": "7d0c84cc",
   "metadata": {},
   "outputs": [
    {
     "data": {
      "text/plain": [
       "(2548, 59)"
      ]
     },
     "execution_count": 40,
     "metadata": {},
     "output_type": "execute_result"
    }
   ],
   "source": [
    "data.shape"
   ]
  },
  {
   "cell_type": "code",
   "execution_count": 41,
   "id": "eb50f50b",
   "metadata": {},
   "outputs": [],
   "source": [
    "# independent variables, everything else\n",
    "x = data[:,0:5]\n",
    "\n",
    "# dependent variable, production\n",
    "y = data[:,-1]\n",
    "\n",
    "X_train_new, X_test_new, y_train, y_test = train_test_split(x,y,test_size=0.2, random_state=0)"
   ]
  },
  {
   "cell_type": "code",
   "execution_count": 42,
   "id": "05b1aa22",
   "metadata": {},
   "outputs": [
    {
     "data": {
      "text/plain": [
       "array([0., 0., 0., ..., 0., 0., 0.])"
      ]
     },
     "execution_count": 42,
     "metadata": {},
     "output_type": "execute_result"
    }
   ],
   "source": [
    "y"
   ]
  },
  {
   "cell_type": "code",
   "execution_count": 43,
   "id": "41f8b73d",
   "metadata": {},
   "outputs": [
    {
     "data": {
      "text/plain": [
       "array([[2.008000e+03, 7.258100e+04, 9.856000e+03, 1.508000e+01,\n",
       "        1.510600e+02],\n",
       "       [2.011000e+03, 7.087230e+05, 2.149400e+04, 1.501000e+01,\n",
       "        1.431900e+02],\n",
       "       [1.985000e+03, 7.702300e+04, 6.218100e+04, 1.312000e+01,\n",
       "        1.578800e+02],\n",
       "       ...,\n",
       "       [1.990000e+03, 4.014000e+03, 4.527900e+04, 1.373000e+01,\n",
       "        1.539400e+02],\n",
       "       [2.008000e+03, 4.648200e+04, 8.547000e+03, 1.508000e+01,\n",
       "        1.510600e+02],\n",
       "       [2.008000e+03, 1.127915e+07, 4.144100e+04, 1.508000e+01,\n",
       "        1.510600e+02]])"
      ]
     },
     "execution_count": 43,
     "metadata": {},
     "output_type": "execute_result"
    }
   ],
   "source": [
    "x"
   ]
  },
  {
   "cell_type": "markdown",
   "id": "a45010dc",
   "metadata": {},
   "source": [
    "### Transformation on the values\n",
    "- So all the independent variables are in the range of 0 to 1\n",
    "- Using MinMaxScaler() to do this\n",
    "- The goal is to bring all the big values in the dataset to the scale them to the same range.\n",
    "- As a result the model will able to learn better\n",
    "\n",
    "#### Formula\n",
    "- x_scaled = (x - x_min)/(x_max - x_min)"
   ]
  },
  {
   "cell_type": "code",
   "execution_count": 44,
   "id": "5e1d5dac",
   "metadata": {},
   "outputs": [],
   "source": [
    "# Transforming the data\n",
    "scalar = MinMaxScaler()\n",
    "X_train_new = scalar.fit_transform(X_train_new)\n",
    "X_test_new = scalar.transform(X_test_new)"
   ]
  },
  {
   "cell_type": "code",
   "execution_count": 46,
   "id": "6b67fd5e",
   "metadata": {},
   "outputs": [
    {
     "data": {
      "text/plain": [
       "array([[7.06896552e-01, 1.78097546e-02, 2.85131507e-03, 6.95961995e-01,\n",
       "        7.51236466e-02],\n",
       "       [3.96551724e-01, 2.76523477e-03, 4.45560605e-03, 2.89786223e-01,\n",
       "        4.39379762e-01],\n",
       "       [5.86206897e-01, 3.41173044e-03, 8.28040782e-02, 2.61282660e-01,\n",
       "        5.01269884e-01],\n",
       "       [6.20689655e-01, 1.73483656e-04, 3.16871076e-04, 3.46793349e-01,\n",
       "        5.48857105e-01],\n",
       "       [8.27586207e-01, 4.75827356e-03, 3.62408178e-03, 6.65083135e-01,\n",
       "        2.80711135e-01],\n",
       "       [6.89655172e-02, 5.10291627e-04, 8.64601619e-02, 5.21231543e-01,\n",
       "        4.14495122e-01],\n",
       "       [5.34482759e-01, 2.95800395e-03, 2.09711994e-02, 0.00000000e+00,\n",
       "        3.28298356e-01],\n",
       "       [3.96551724e-01, 1.91451914e-03, 5.10760501e-02, 2.89786223e-01,\n",
       "        4.39379762e-01],\n",
       "       [4.31034483e-01, 3.67630378e-05, 2.17088165e-03, 2.61282660e-01,\n",
       "        4.60366261e-01],\n",
       "       [7.75862069e-01, 1.46595842e-03, 7.68957966e-02, 6.81710214e-01,\n",
       "        0.00000000e+00]])"
      ]
     },
     "execution_count": 46,
     "metadata": {},
     "output_type": "execute_result"
    }
   ],
   "source": [
    "# printed the first 10 rows from X_train_new\n",
    "X_train_new[0:10]"
   ]
  },
  {
   "cell_type": "code",
   "execution_count": 49,
   "id": "01f5f041",
   "metadata": {},
   "outputs": [
    {
     "data": {
      "text/plain": [
       "LinearRegression()"
      ]
     },
     "execution_count": 49,
     "metadata": {},
     "output_type": "execute_result"
    }
   ],
   "source": [
    "# Fitting Multiple Linear Regression to the training set\n",
    "regressor = LinearRegression()\n",
    "regressor.fit(X_train_new, y_train)"
   ]
  },
  {
   "cell_type": "code",
   "execution_count": 50,
   "id": "237af440",
   "metadata": {
    "scrolled": false
   },
   "outputs": [
    {
     "data": {
      "text/plain": [
       "array([ 5.49366919e-02,  4.04646744e-02, -1.57612008e-02, -1.51066353e-03,\n",
       "       -2.96046341e-03,  4.64036235e-02,  9.63632817e-03, -9.53573395e-03,\n",
       "       -9.98577728e-03, -1.32036642e-02, -2.63142301e-03, -1.92530568e-03,\n",
       "       -1.38329891e-02,  1.23393359e-02,  2.59260740e-02, -2.10643209e-02,\n",
       "        9.17695980e-03, -1.97868976e-02,  2.73117639e-01, -1.11741017e-02,\n",
       "       -9.48336329e-03, -3.21369013e-02, -1.03639171e-02, -4.79833833e-03,\n",
       "       -2.75973901e-02, -1.33921426e-02,  2.83127453e-01,  2.22999980e-02,\n",
       "       -3.07740195e-02,  2.65439457e-02, -2.46510063e-02, -2.19708751e-02,\n",
       "        5.38623168e-03, -3.10601883e-02,  2.30955631e-02, -9.10847117e-03,\n",
       "       -2.80126379e-02,  5.39414202e-03, -1.68954523e-02,  6.83593003e-03,\n",
       "        2.53196355e-02, -6.30333581e-03, -1.82243505e-02,  7.36947050e-02,\n",
       "        2.09227954e-02,  1.25916766e-02,  3.97162368e-02,  2.46993506e-02,\n",
       "        1.58641346e-02, -3.05184618e-02, -1.17649240e-02,  7.90085966e-01,\n",
       "       -5.85097600e-03, -2.45538122e-02, -2.97137135e-02, -1.46481790e-02,\n",
       "       -2.10068674e-02, -1.26201568e-02, -2.76716882e-03, -2.19392711e-02,\n",
       "       -2.57548824e-02, -8.52594201e-03, -3.77228502e-03, -1.38148460e-02,\n",
       "       -1.66606516e-02,  2.13333231e-02, -2.80538393e-02, -2.10782763e-02,\n",
       "        2.38173861e-02, -3.26780203e-02, -2.18631684e-03,  4.34308107e-02,\n",
       "       -1.53327313e-02,  3.44505588e-02, -1.26732256e-02, -2.30985096e-02,\n",
       "       -9.21051912e-03, -1.37977961e-02,  7.65533887e-03,  4.88526393e-01,\n",
       "       -1.23016748e-02,  4.43274945e-02, -2.57724220e-02,  1.06758230e-02,\n",
       "       -5.74631925e-03,  7.32880840e-02, -1.86696812e-02,  3.26481412e-02,\n",
       "        1.07298999e-02,  1.03926164e-02,  8.48814388e-03,  3.63385517e-02,\n",
       "       -2.46008926e-02, -1.97065492e-02, -2.60683107e-02, -3.21679068e-02,\n",
       "        2.28862712e-02, -1.29241044e-02,  1.96080076e-02, -8.33232248e-03,\n",
       "       -5.76701070e-03,  1.02964488e-01, -2.05880898e-02, -1.81830506e-02,\n",
       "        2.44065806e-02,  4.79206905e-02, -2.13832139e-02,  4.25790706e-02,\n",
       "        1.98239099e-01, -2.13660080e-04, -2.26158154e-02, -1.01620561e-02,\n",
       "       -8.52693590e-03, -1.48681215e-02,  2.49274414e-02, -5.07630505e-03,\n",
       "       -1.16007019e-02, -1.33515618e-02, -2.65684398e-02, -1.76584842e-02,\n",
       "        1.67786389e-02,  6.69217540e-01, -1.61978830e-02,  2.15466823e-02,\n",
       "        8.83473489e-02, -2.71510223e-02, -1.13677530e-02, -8.08341266e-03,\n",
       "        1.95969361e-02,  9.33929034e-03, -1.25827972e-02, -2.05365668e-02,\n",
       "       -1.79214769e-02, -7.11690848e-03,  1.75669409e-02, -1.26822851e-02,\n",
       "       -1.47048458e-02, -5.84155433e-03,  1.00168043e-03, -1.40466561e-02,\n",
       "        2.16903069e-01,  2.55917352e-02, -9.73842077e-03, -2.34684314e-02,\n",
       "       -1.26116824e-02,  7.85730237e-03,  7.74924130e-02, -1.93235365e-02,\n",
       "       -1.68847138e-02,  8.36062891e-02, -2.67224050e-02, -1.80056973e-02,\n",
       "        3.70754635e-02,  2.12911095e-02, -2.49616185e-02, -1.49119680e-02,\n",
       "        1.32558563e-02,  3.81016158e-02, -2.56667673e-02,  4.09567453e-02,\n",
       "       -8.89446308e-03,  2.73603130e-02, -1.96613750e-02,  7.48158209e-02,\n",
       "        4.06685968e-02, -2.49484311e-02,  1.65928287e-02, -1.55706287e-02,\n",
       "       -9.50902499e-03,  4.54724196e-02,  1.97786368e-02, -8.32509511e-03,\n",
       "        7.47873755e-03, -1.54633578e-02,  4.89702316e-02,  8.65644068e-02,\n",
       "       -8.61022723e-03,  2.91440651e-01, -1.56818374e-02,  2.35870095e-03,\n",
       "       -7.27349522e-03,  9.03084437e-04,  1.09334606e-01, -2.34400343e-02,\n",
       "       -2.68527071e-02,  4.68782629e-02,  1.76838979e-03,  4.21352847e-02,\n",
       "       -2.09711515e-02, -2.60183974e-02, -2.04834070e-02, -1.73451801e-02,\n",
       "       -1.03326130e-02,  1.13919268e-02,  1.08709293e-02, -2.11638356e-02,\n",
       "        1.05561304e-03, -7.31523585e-03, -1.74415845e-03, -1.50370249e-02,\n",
       "       -1.82968427e-02,  5.76753596e-03, -2.15597356e-02,  1.00540748e-02,\n",
       "       -1.01568375e-02, -2.10681255e-02, -3.06976191e-02, -7.75040557e-05,\n",
       "       -2.84412284e-02, -4.90621626e-04, -2.12850525e-02,  2.32752344e-03,\n",
       "        2.56110995e-03, -2.06872567e-02,  6.37888970e-01, -1.71945460e-03,\n",
       "        3.31801011e-02,  3.06434508e-02, -1.84784617e-02,  2.88332748e-02,\n",
       "       -2.69686872e-03,  2.15063105e-01, -2.47086567e-02, -9.43567387e-03,\n",
       "        3.19812289e-02, -2.25975821e-02, -1.40542115e-02,  6.71952815e-02,\n",
       "        2.51629683e-03,  2.13718877e-02, -1.11435257e-02, -2.52805593e-02,\n",
       "       -1.52077263e-02, -9.24351056e-03, -3.32345242e-03, -2.49753875e-02,\n",
       "        3.07049883e-02,  2.54610934e-01,  4.18339708e-03, -2.02843471e-02,\n",
       "        2.36817593e-02,  8.87538828e-03, -9.42110242e-03,  2.04001290e-03,\n",
       "       -1.74235498e-02, -1.86960499e-02,  2.20494798e-02,  1.10405839e-02,\n",
       "       -4.42193074e-03, -3.28927184e-02, -1.52423899e-02,  5.13727564e-04,\n",
       "       -1.00132232e-02,  3.08297538e-02,  2.76870119e-03, -1.87663260e-02,\n",
       "        1.98712419e-02,  8.71889224e-03,  4.82550964e-02,  4.88886031e-02,\n",
       "        1.73942905e-02,  2.20426650e-02,  6.81853253e-02, -9.91796639e-03,\n",
       "        9.65978678e-03, -1.40610194e-02, -1.25602688e-02,  1.58861962e-02,\n",
       "       -2.21097611e-02,  1.69739927e-02, -3.24661242e-02, -2.13686663e-02,\n",
       "       -1.89217547e-02,  4.21712303e-01,  2.00952600e-02, -1.23954600e-02,\n",
       "       -2.57876100e-02,  3.09620039e-02,  2.39669864e-02, -1.64522211e-02,\n",
       "        3.54473271e-03, -1.90932413e-02, -2.29168227e-02,  2.21889247e-01,\n",
       "        6.60193560e-02, -1.23377204e-02, -1.86285114e-02,  9.86402624e-03,\n",
       "       -2.33258506e-02, -2.20140639e-02,  2.73179356e-02, -1.05101792e-02,\n",
       "       -8.29171521e-03, -2.53857745e-02, -3.46583569e-02,  2.56342551e-02,\n",
       "        1.92758501e-02, -1.06897947e-02,  6.60641679e-03, -1.90012844e-02,\n",
       "        5.86252607e-03, -1.16505538e-02, -1.67867271e-02,  3.56464280e-02,\n",
       "        1.58731258e-02,  8.87932995e-02, -3.40328477e-02, -9.71856147e-03,\n",
       "       -1.03054285e-03, -1.94735952e-02, -2.53586108e-02, -2.62568528e-02,\n",
       "        2.12017360e-04,  1.13595211e-03,  7.05459734e-03,  1.21036237e-02,\n",
       "        4.19704925e-02, -1.21130463e-02,  5.77160777e-02, -3.39397261e-02,\n",
       "       -1.22160773e-02,  1.79592715e-02,  1.98576927e-02,  2.61115775e-03,\n",
       "       -1.88363003e-02,  8.58630968e-03,  8.68760480e-02, -1.04297045e-02,\n",
       "       -2.61285028e-02, -2.52391490e-02, -1.98610355e-02, -2.03976093e-02,\n",
       "       -2.53291332e-02, -2.51176241e-02,  6.43022288e-03, -1.57928874e-02,\n",
       "       -1.86719007e-02, -8.10733276e-03,  5.84921966e-03, -1.98405504e-02,\n",
       "       -1.32197124e-02,  3.24009310e-02,  8.99769615e-02,  5.16931293e-02,\n",
       "       -2.11908127e-02,  7.08019853e-02,  1.09848758e-01, -2.15615830e-02,\n",
       "        5.72238657e-01, -3.24273223e-02, -2.48672127e-02, -1.08124608e-02,\n",
       "       -1.35080045e-02, -9.46396762e-03, -3.53275995e-02, -2.61024145e-02,\n",
       "       -3.02667433e-02, -1.17386734e-02, -7.84465828e-03, -1.74116478e-02,\n",
       "        8.80997626e-03,  5.32222449e-02, -4.14430127e-03,  1.64870322e-02,\n",
       "       -9.54778914e-03,  4.89990971e-03,  5.86822671e-01, -1.95247251e-03,\n",
       "       -1.78604874e-02, -7.43432386e-03, -1.90879255e-02, -2.94522941e-02,\n",
       "       -1.50416114e-02, -2.72457557e-02,  2.68373740e-02,  8.68547201e-04,\n",
       "        2.74726694e-02, -9.70575089e-03, -9.94001479e-03,  8.67470999e-03,\n",
       "        3.61736122e-02, -1.52640171e-02, -2.43273842e-02,  1.80307353e-02,\n",
       "        1.46494062e-02,  3.91969862e-02,  2.63667691e-02, -1.60895564e-02,\n",
       "       -3.16430036e-02, -1.89370270e-02, -1.55059776e-02, -3.12144088e-02,\n",
       "        3.26910089e-02,  2.83732342e-03,  1.00147943e-02,  5.80279733e-03,\n",
       "       -2.41292619e-02,  2.82302739e-04, -1.14354552e-02,  5.55729761e-04,\n",
       "        7.86948140e-03,  1.41440116e-02,  3.17097079e-02,  7.01187198e-03,\n",
       "       -2.55871639e-02, -1.29048562e-02, -1.06777953e-02,  4.11906717e-02,\n",
       "        2.20014848e-01,  1.99971474e-03,  8.01719003e-03, -5.43603746e-03,\n",
       "       -2.48111598e-02,  5.80845937e-03, -1.15189898e-02,  6.03699442e-01,\n",
       "       -1.93396033e-02,  2.41398095e-02,  2.87985070e-02, -5.11185329e-03,\n",
       "       -7.55745135e-03, -1.48170669e-02,  3.97264736e-02,  1.77302814e-02,\n",
       "       -8.73671399e-03,  9.95630964e-02,  1.93530697e-02, -2.55258855e-02,\n",
       "       -2.98835283e-03,  6.44765739e-02, -3.36171580e-04,  1.71007331e-02,\n",
       "        6.29485638e-03,  3.23694265e-03,  7.91847937e-03,  4.62470921e-02,\n",
       "        7.90673843e-02, -1.68278583e-02, -1.35280576e-02,  2.88516041e-02,\n",
       "        3.90551519e-02,  2.30681382e-03, -1.65245796e-02,  8.09749418e-03,\n",
       "        2.76621161e-02,  6.50690065e-02, -1.52667417e-02,  7.67660095e-01,\n",
       "        4.06440452e-02,  5.34333077e-03, -8.89337539e-03,  1.91983515e-02,\n",
       "       -2.64715662e-03,  6.14106111e-02,  2.32775643e-01, -1.96171639e-02,\n",
       "       -1.75134335e-02,  8.89433446e-03,  4.19052194e-02, -5.79662172e-03,\n",
       "        2.84809297e-02, -2.02797562e-02,  4.28251744e-03, -2.70525939e-03,\n",
       "       -1.07026383e-02, -2.54307907e-02,  1.02219472e-02, -1.94617283e-02,\n",
       "        4.76896804e-03, -1.01949551e-02,  1.12718652e-03, -2.82617785e-02,\n",
       "       -1.30744872e-02,  1.21548391e-02,  6.44549078e-03,  3.44908193e-03,\n",
       "       -7.77324877e-03, -2.89351603e-02, -7.99000021e-03,  3.20025278e-02,\n",
       "       -4.23711713e-03, -1.73184272e-02, -1.48701050e-03,  1.18409506e-02,\n",
       "       -1.96570497e-02,  4.98166930e-02,  7.95780377e-02,  1.70996420e-05,\n",
       "       -1.98077426e-02, -3.32795268e-02, -1.56047812e-02, -2.13886507e-02,\n",
       "        2.71723181e-02,  4.38031302e-02, -2.53697437e-02, -3.16999723e-02,\n",
       "        7.05051895e-03, -1.92023587e-02, -2.82800188e-02,  2.85846601e-02,\n",
       "        4.60914209e-02, -7.44961264e-03,  1.97218008e-02, -1.04821241e-02,\n",
       "       -6.47774596e-03,  2.59960791e-02, -3.28054407e-02, -2.83310066e-02,\n",
       "       -2.60797515e-02,  2.11800346e-02])"
      ]
     },
     "execution_count": 50,
     "metadata": {},
     "output_type": "execute_result"
    }
   ],
   "source": [
    "# Predicting the test set results\n",
    "y_pred = regressor.predict(X_test_new)\n",
    "y_pred"
   ]
  },
  {
   "cell_type": "code",
   "execution_count": 55,
   "id": "e6e451b1",
   "metadata": {},
   "outputs": [
    {
     "data": {
      "text/plain": [
       "0.11301215876983534"
      ]
     },
     "execution_count": 55,
     "metadata": {},
     "output_type": "execute_result"
    }
   ],
   "source": [
    "# performance evaluation, how much error is there on an average in the pred\n",
    "math.sqrt(mean_squared_error(y_test, y_pred))"
   ]
  },
  {
   "cell_type": "code",
   "execution_count": 56,
   "id": "f97068ae",
   "metadata": {},
   "outputs": [
    {
     "data": {
      "text/plain": [
       "0.5216112237102847"
      ]
     },
     "execution_count": 56,
     "metadata": {},
     "output_type": "execute_result"
    }
   ],
   "source": [
    "r2_score(y_test, y_pred)"
   ]
  },
  {
   "cell_type": "markdown",
   "id": "95f9519a",
   "metadata": {},
   "source": [
    "## Evaluation of the model"
   ]
  },
  {
   "cell_type": "markdown",
   "id": "d1da5763",
   "metadata": {},
   "source": [
    "#### R-Squared"
   ]
  },
  {
   "cell_type": "code",
   "execution_count": 58,
   "id": "dee2f64b",
   "metadata": {},
   "outputs": [
    {
     "name": "stdout",
     "output_type": "stream",
     "text": [
      "0.5216112237102847\n"
     ]
    }
   ],
   "source": [
    "from sklearn.metrics import r2_score\n",
    "r2 = r2_score(y_test, y_pred)\n",
    "print(r2)"
   ]
  },
  {
   "cell_type": "markdown",
   "id": "1de9e58e",
   "metadata": {},
   "source": [
    "#### Mean Absolute Error (MAE)"
   ]
  },
  {
   "cell_type": "code",
   "execution_count": 60,
   "id": "24501b8a",
   "metadata": {},
   "outputs": [
    {
     "data": {
      "text/plain": [
       "0.03974154430113939"
      ]
     },
     "execution_count": 60,
     "metadata": {},
     "output_type": "execute_result"
    }
   ],
   "source": [
    "from sklearn.metrics import mean_absolute_error\n",
    "mean_absolute_error(y_test, y_pred)"
   ]
  },
  {
   "cell_type": "markdown",
   "id": "f1fe1a93",
   "metadata": {},
   "source": [
    "#### Mean squared error"
   ]
  },
  {
   "cell_type": "code",
   "execution_count": 61,
   "id": "decd254f",
   "metadata": {},
   "outputs": [
    {
     "data": {
      "text/plain": [
       "0.012771748029818468"
      ]
     },
     "execution_count": 61,
     "metadata": {},
     "output_type": "execute_result"
    }
   ],
   "source": [
    "from sklearn.metrics import mean_squared_error\n",
    "mean_squared_error(y_test, y_pred)"
   ]
  },
  {
   "cell_type": "markdown",
   "id": "98f6220c",
   "metadata": {},
   "source": [
    "#### AUC-ROC Curve"
   ]
  },
  {
   "cell_type": "code",
   "execution_count": 62,
   "id": "a2451540",
   "metadata": {},
   "outputs": [
    {
     "data": {
      "text/plain": [
       "0.9602534562211982"
      ]
     },
     "execution_count": 62,
     "metadata": {},
     "output_type": "execute_result"
    }
   ],
   "source": [
    "from sklearn.metrics import roc_auc_score\n",
    "roc_auc_score(y_test, y_pred)"
   ]
  },
  {
   "cell_type": "markdown",
   "id": "6c2e067f",
   "metadata": {},
   "source": [
    "### Residual analysis of the trained data"
   ]
  },
  {
   "cell_type": "markdown",
   "id": "5ccf2edf",
   "metadata": {},
   "source": [
    "#### Confusion Matrix and related Metrics"
   ]
  },
  {
   "cell_type": "code",
   "execution_count": 63,
   "id": "55b040fc",
   "metadata": {},
   "outputs": [
    {
     "data": {
      "text/html": [
       "<table class=\"simpletable\">\n",
       "<caption>OLS Regression Results</caption>\n",
       "<tr>\n",
       "  <th>Dep. Variable:</th>            <td>y</td>        <th>  R-squared:         </th> <td>   0.460</td> \n",
       "</tr>\n",
       "<tr>\n",
       "  <th>Model:</th>                   <td>OLS</td>       <th>  Adj. R-squared:    </th> <td>   0.458</td> \n",
       "</tr>\n",
       "<tr>\n",
       "  <th>Method:</th>             <td>Least Squares</td>  <th>  F-statistic:       </th> <td>   345.8</td> \n",
       "</tr>\n",
       "<tr>\n",
       "  <th>Date:</th>             <td>Sun, 23 Jan 2022</td> <th>  Prob (F-statistic):</th> <td>1.61e-268</td>\n",
       "</tr>\n",
       "<tr>\n",
       "  <th>Time:</th>                 <td>02:05:34</td>     <th>  Log-Likelihood:    </th> <td>  2016.5</td> \n",
       "</tr>\n",
       "<tr>\n",
       "  <th>No. Observations:</th>      <td>  2038</td>      <th>  AIC:               </th> <td>  -4021.</td> \n",
       "</tr>\n",
       "<tr>\n",
       "  <th>Df Residuals:</th>          <td>  2032</td>      <th>  BIC:               </th> <td>  -3987.</td> \n",
       "</tr>\n",
       "<tr>\n",
       "  <th>Df Model:</th>              <td>     5</td>      <th>                     </th>     <td> </td>    \n",
       "</tr>\n",
       "<tr>\n",
       "  <th>Covariance Type:</th>      <td>nonrobust</td>    <th>                     </th>     <td> </td>    \n",
       "</tr>\n",
       "</table>\n",
       "<table class=\"simpletable\">\n",
       "<tr>\n",
       "    <td></td>       <th>coef</th>     <th>std err</th>      <th>t</th>      <th>P>|t|</th>  <th>[0.025</th>    <th>0.975]</th>  \n",
       "</tr>\n",
       "<tr>\n",
       "  <th>const</th> <td>   -0.0091</td> <td>    0.007</td> <td>   -1.263</td> <td> 0.207</td> <td>   -0.023</td> <td>    0.005</td>\n",
       "</tr>\n",
       "<tr>\n",
       "  <th>x1</th>    <td>   -0.0259</td> <td>    0.008</td> <td>   -3.406</td> <td> 0.001</td> <td>   -0.041</td> <td>   -0.011</td>\n",
       "</tr>\n",
       "<tr>\n",
       "  <th>x2</th>    <td>    0.0167</td> <td>    0.017</td> <td>    0.993</td> <td> 0.321</td> <td>   -0.016</td> <td>    0.050</td>\n",
       "</tr>\n",
       "<tr>\n",
       "  <th>x3</th>    <td>    1.1709</td> <td>    0.028</td> <td>   41.563</td> <td> 0.000</td> <td>    1.116</td> <td>    1.226</td>\n",
       "</tr>\n",
       "<tr>\n",
       "  <th>x4</th>    <td>   -0.0009</td> <td>    0.011</td> <td>   -0.083</td> <td> 0.934</td> <td>   -0.022</td> <td>    0.020</td>\n",
       "</tr>\n",
       "<tr>\n",
       "  <th>x5</th>    <td>   -0.0048</td> <td>    0.010</td> <td>   -0.453</td> <td> 0.651</td> <td>   -0.025</td> <td>    0.016</td>\n",
       "</tr>\n",
       "</table>\n",
       "<table class=\"simpletable\">\n",
       "<tr>\n",
       "  <th>Omnibus:</th>       <td>2558.351</td> <th>  Durbin-Watson:     </th>  <td>   2.002</td> \n",
       "</tr>\n",
       "<tr>\n",
       "  <th>Prob(Omnibus):</th>  <td> 0.000</td>  <th>  Jarque-Bera (JB):  </th> <td>427920.751</td>\n",
       "</tr>\n",
       "<tr>\n",
       "  <th>Skew:</th>           <td> 6.673</td>  <th>  Prob(JB):          </th>  <td>    0.00</td> \n",
       "</tr>\n",
       "<tr>\n",
       "  <th>Kurtosis:</th>       <td>72.722</td>  <th>  Cond. No.          </th>  <td>    18.5</td> \n",
       "</tr>\n",
       "</table><br/><br/>Notes:<br/>[1] Standard Errors assume that the covariance matrix of the errors is correctly specified."
      ],
      "text/plain": [
       "<class 'statsmodels.iolib.summary.Summary'>\n",
       "\"\"\"\n",
       "                            OLS Regression Results                            \n",
       "==============================================================================\n",
       "Dep. Variable:                      y   R-squared:                       0.460\n",
       "Model:                            OLS   Adj. R-squared:                  0.458\n",
       "Method:                 Least Squares   F-statistic:                     345.8\n",
       "Date:                Sun, 23 Jan 2022   Prob (F-statistic):          1.61e-268\n",
       "Time:                        02:05:34   Log-Likelihood:                 2016.5\n",
       "No. Observations:                2038   AIC:                            -4021.\n",
       "Df Residuals:                    2032   BIC:                            -3987.\n",
       "Df Model:                           5                                         \n",
       "Covariance Type:            nonrobust                                         \n",
       "==============================================================================\n",
       "                 coef    std err          t      P>|t|      [0.025      0.975]\n",
       "------------------------------------------------------------------------------\n",
       "const         -0.0091      0.007     -1.263      0.207      -0.023       0.005\n",
       "x1            -0.0259      0.008     -3.406      0.001      -0.041      -0.011\n",
       "x2             0.0167      0.017      0.993      0.321      -0.016       0.050\n",
       "x3             1.1709      0.028     41.563      0.000       1.116       1.226\n",
       "x4            -0.0009      0.011     -0.083      0.934      -0.022       0.020\n",
       "x5            -0.0048      0.010     -0.453      0.651      -0.025       0.016\n",
       "==============================================================================\n",
       "Omnibus:                     2558.351   Durbin-Watson:                   2.002\n",
       "Prob(Omnibus):                  0.000   Jarque-Bera (JB):           427920.751\n",
       "Skew:                           6.673   Prob(JB):                         0.00\n",
       "Kurtosis:                      72.722   Cond. No.                         18.5\n",
       "==============================================================================\n",
       "\n",
       "Notes:\n",
       "[1] Standard Errors assume that the covariance matrix of the errors is correctly specified.\n",
       "\"\"\""
      ]
     },
     "execution_count": 63,
     "metadata": {},
     "output_type": "execute_result"
    }
   ],
   "source": [
    "import statsmodels.api as sm\n",
    "\n",
    "X_train_lm = sm.add_constant(X_train_new)\n",
    "ML1 = sm.OLS(y_train, X_train_lm).fit()\n",
    "ML1.summary()"
   ]
  },
  {
   "cell_type": "code",
   "execution_count": 64,
   "id": "8282d244",
   "metadata": {},
   "outputs": [
    {
     "data": {
      "text/plain": [
       "Text(0.5, 6.79999999999999, 'Errors')"
      ]
     },
     "execution_count": 64,
     "metadata": {},
     "output_type": "execute_result"
    },
    {
     "data": {
      "text/plain": [
       "<Figure size 432x288 with 0 Axes>"
      ]
     },
     "metadata": {},
     "output_type": "display_data"
    },
    {
     "data": {
      "image/png": "[encoded data removed]",
      "text/plain": [
       "<Figure size 360x360 with 1 Axes>"
      ]
     },
     "metadata": {
      "needs_background": "light"
     },
     "output_type": "display_data"
    }
   ],
   "source": [
    "import seaborn as sns\n",
    "y_train_prod = ML1.predict(X_train_lm)\n",
    "\n",
    "# plot\n",
    "fig = plt.figure()\n",
    "sns.displot((y_train - y_train_prod), bins = 20)\n",
    "fig.suptitle('Error Terms', fontsize = 20)\n",
    "plt.xlabel('Errors',fontsize = 18)"
   ]
  }
 ],
 "metadata": {
  "kernelspec": {
   "display_name": "Python 3 (ipykernel)",
   "language": "python",
   "name": "python3"
  },
  "language_info": {
   "codemirror_mode": {
    "name": "ipython",
    "version": 3
   },
   "file_extension": ".py",
   "mimetype": "text/x-python",
   "name": "python",
   "nbconvert_exporter": "python",
   "pygments_lexer": "ipython3",
   "version": "3.10.0"
  }
 },
 "nbformat": 4,
 "nbformat_minor": 5
}
