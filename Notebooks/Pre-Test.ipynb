{
 "cells": [
  {
   "cell_type": "code",
   "execution_count": 2,
   "id": "10612c9a",
   "metadata": {},
   "outputs": [],
   "source": [
    "import numpy as np\n",
    "import pandas as pd\n",
    "from numpy import math\n",
    "\n",
    "from sklearn.preprocessing import MinMaxScaler\n",
    "from sklearn.model_selection import train_test_split\n",
    "from sklearn.linear_model import LinearRegression\n",
    "from sklearn.metrics import r2_score\n",
    "from sklearn.metrics import mean_squared_error\n",
    "\n",
    "import matplotlib.pyplot as plt"
   ]
  },
  {
   "cell_type": "code",
   "execution_count": 3,
   "id": "f750fb4f",
   "metadata": {},
   "outputs": [],
   "source": [
    "dataset = pd.read_csv('Dataset_Dec.csv')"
   ]
  },
  {
   "cell_type": "code",
   "execution_count": 6,
   "id": "5b3e2d41",
   "metadata": {},
   "outputs": [
    {
     "data": {
      "text/html": [
       "<div>\n",
       "<style scoped>\n",
       "    .dataframe tbody tr th:only-of-type {\n",
       "        vertical-align: middle;\n",
       "    }\n",
       "\n",
       "    .dataframe tbody tr th {\n",
       "        vertical-align: top;\n",
       "    }\n",
       "\n",
       "    .dataframe thead th {\n",
       "        text-align: right;\n",
       "    }\n",
       "</style>\n",
       "<table border=\"1\" class=\"dataframe\">\n",
       "  <thead>\n",
       "    <tr style=\"text-align: right;\">\n",
       "      <th></th>\n",
       "      <th>Area</th>\n",
       "      <th>Year</th>\n",
       "      <th>Item</th>\n",
       "      <th>Area Harvested</th>\n",
       "      <th>Yield</th>\n",
       "      <th>Production</th>\n",
       "    </tr>\n",
       "  </thead>\n",
       "  <tbody>\n",
       "    <tr>\n",
       "      <th>0</th>\n",
       "      <td>Bangladesh</td>\n",
       "      <td>1961</td>\n",
       "      <td>Areca nuts</td>\n",
       "      <td>82600</td>\n",
       "      <td>7627</td>\n",
       "      <td>62995</td>\n",
       "    </tr>\n",
       "    <tr>\n",
       "      <th>1</th>\n",
       "      <td>Bangladesh</td>\n",
       "      <td>1961</td>\n",
       "      <td>Bananas</td>\n",
       "      <td>33600</td>\n",
       "      <td>132738</td>\n",
       "      <td>446000</td>\n",
       "    </tr>\n",
       "    <tr>\n",
       "      <th>2</th>\n",
       "      <td>Bangladesh</td>\n",
       "      <td>1961</td>\n",
       "      <td>Barley</td>\n",
       "      <td>29947</td>\n",
       "      <td>5768</td>\n",
       "      <td>17272</td>\n",
       "    </tr>\n",
       "    <tr>\n",
       "      <th>3</th>\n",
       "      <td>Bangladesh</td>\n",
       "      <td>1961</td>\n",
       "      <td>Bastfibres, others</td>\n",
       "      <td>30900</td>\n",
       "      <td>11117</td>\n",
       "      <td>34350</td>\n",
       "    </tr>\n",
       "    <tr>\n",
       "      <th>4</th>\n",
       "      <td>Bangladesh</td>\n",
       "      <td>1961</td>\n",
       "      <td>Beans, dry</td>\n",
       "      <td>68798</td>\n",
       "      <td>7236</td>\n",
       "      <td>49784</td>\n",
       "    </tr>\n",
       "  </tbody>\n",
       "</table>\n",
       "</div>"
      ],
      "text/plain": [
       "         Area  Year                Item  Area Harvested   Yield  Production\n",
       "0  Bangladesh  1961          Areca nuts           82600    7627       62995\n",
       "1  Bangladesh  1961             Bananas           33600  132738      446000\n",
       "2  Bangladesh  1961              Barley           29947    5768       17272\n",
       "3  Bangladesh  1961  Bastfibres, others           30900   11117       34350\n",
       "4  Bangladesh  1961          Beans, dry           68798    7236       49784"
      ]
     },
     "execution_count": 6,
     "metadata": {},
     "output_type": "execute_result"
    }
   ],
   "source": [
    "# preview of dataframe\n",
    "dataset.head()"
   ]
  },
  {
   "cell_type": "code",
   "execution_count": 7,
   "id": "9de421bb",
   "metadata": {},
   "outputs": [
    {
     "data": {
      "text/plain": [
       "3185"
      ]
     },
     "execution_count": 7,
     "metadata": {},
     "output_type": "execute_result"
    }
   ],
   "source": [
    "len(dataset)"
   ]
  },
  {
   "cell_type": "code",
   "execution_count": 8,
   "id": "fb838e67",
   "metadata": {},
   "outputs": [
    {
     "data": {
      "text/plain": [
       "Text(0, 0.5, 'Production')"
      ]
     },
     "execution_count": 8,
     "metadata": {},
     "output_type": "execute_result"
    },
    {
     "data": {
      "image/png": "[encoded data removed]",
      "text/plain": [
       "<Figure size 720x360 with 1 Axes>"
      ]
     },
     "metadata": {
      "needs_background": "light"
     },
     "output_type": "display_data"
    }
   ],
   "source": [
    "# create the figure object\n",
    "ax = dataset.groupby(['Year'])['Production'].mean().plot.bar(\n",
    "    figsize = (10,5),\n",
    "    fontsize = 14\n",
    ")\n",
    "\n",
    "# set title\n",
    "ax.set_title(\"Yearwise crop production\")\n",
    "\n",
    "# set x and y label\n",
    "ax.set_xlabel(\"Year\", fontsize = 15)\n",
    "ax.set_ylabel(\"Production\", fontsize = 15)"
   ]
  },
  {
   "cell_type": "markdown",
   "id": "ca98f2a8",
   "metadata": {},
   "source": [
    "## Train Test Validation"
   ]
  },
  {
   "cell_type": "code",
   "execution_count": 11,
   "id": "8df1ff6e",
   "metadata": {},
   "outputs": [],
   "source": [
    "from sklearn.model_selection import train_test_split\n",
    "# first 5 cols as train as input, last col as output\n",
    "X_train,X_test,y_train,y_test = train_test_split(dataset.iloc[:,0:5],dataset.iloc[:,-1],test_size=0.2,random_state=2)"
   ]
  },
  {
   "cell_type": "code",
   "execution_count": 12,
   "id": "d93c8546",
   "metadata": {},
   "outputs": [
    {
     "data": {
      "text/html": [
       "<div>\n",
       "<style scoped>\n",
       "    .dataframe tbody tr th:only-of-type {\n",
       "        vertical-align: middle;\n",
       "    }\n",
       "\n",
       "    .dataframe tbody tr th {\n",
       "        vertical-align: top;\n",
       "    }\n",
       "\n",
       "    .dataframe thead th {\n",
       "        text-align: right;\n",
       "    }\n",
       "</style>\n",
       "<table border=\"1\" class=\"dataframe\">\n",
       "  <thead>\n",
       "    <tr style=\"text-align: right;\">\n",
       "      <th></th>\n",
       "      <th>Area</th>\n",
       "      <th>Year</th>\n",
       "      <th>Item</th>\n",
       "      <th>Area Harvested</th>\n",
       "      <th>Yield</th>\n",
       "    </tr>\n",
       "  </thead>\n",
       "  <tbody>\n",
       "    <tr>\n",
       "      <th>3064</th>\n",
       "      <td>Bangladesh</td>\n",
       "      <td>2017</td>\n",
       "      <td>Spices nes</td>\n",
       "      <td>47332</td>\n",
       "      <td>35494</td>\n",
       "    </tr>\n",
       "    <tr>\n",
       "      <th>761</th>\n",
       "      <td>Bangladesh</td>\n",
       "      <td>1975</td>\n",
       "      <td>Beans, green</td>\n",
       "      <td>6632</td>\n",
       "      <td>39704</td>\n",
       "    </tr>\n",
       "    <tr>\n",
       "      <th>2692</th>\n",
       "      <td>Bangladesh</td>\n",
       "      <td>2010</td>\n",
       "      <td>Tea</td>\n",
       "      <td>52236</td>\n",
       "      <td>11486</td>\n",
       "    </tr>\n",
       "    <tr>\n",
       "      <th>2940</th>\n",
       "      <td>Bangladesh</td>\n",
       "      <td>2015</td>\n",
       "      <td>Linseed</td>\n",
       "      <td>7009</td>\n",
       "      <td>6941</td>\n",
       "    </tr>\n",
       "    <tr>\n",
       "      <th>1901</th>\n",
       "      <td>Bangladesh</td>\n",
       "      <td>1996</td>\n",
       "      <td>Coconuts</td>\n",
       "      <td>29200</td>\n",
       "      <td>30479</td>\n",
       "    </tr>\n",
       "  </tbody>\n",
       "</table>\n",
       "</div>"
      ],
      "text/plain": [
       "            Area  Year          Item  Area Harvested  Yield\n",
       "3064  Bangladesh  2017    Spices nes           47332  35494\n",
       "761   Bangladesh  1975  Beans, green            6632  39704\n",
       "2692  Bangladesh  2010           Tea           52236  11486\n",
       "2940  Bangladesh  2015       Linseed            7009   6941\n",
       "1901  Bangladesh  1996      Coconuts           29200  30479"
      ]
     },
     "execution_count": 12,
     "metadata": {},
     "output_type": "execute_result"
    }
   ],
   "source": [
    "X_test.head()"
   ]
  },
  {
   "cell_type": "code",
   "execution_count": 19,
   "id": "6d5077ea",
   "metadata": {},
   "outputs": [
    {
     "data": {
      "text/plain": [
       "2548"
      ]
     },
     "execution_count": 19,
     "metadata": {},
     "output_type": "execute_result"
    }
   ],
   "source": [
    "len(X_train)"
   ]
  },
  {
   "cell_type": "code",
   "execution_count": 14,
   "id": "c2be4bb9",
   "metadata": {},
   "outputs": [
    {
     "data": {
      "text/plain": [
       "637"
      ]
     },
     "execution_count": 14,
     "metadata": {},
     "output_type": "execute_result"
    }
   ],
   "source": [
    "len(X_test)"
   ]
  },
  {
   "cell_type": "code",
   "execution_count": 22,
   "id": "b6fb59ee",
   "metadata": {},
   "outputs": [
    {
     "data": {
      "text/html": [
       "<div>\n",
       "<style scoped>\n",
       "    .dataframe tbody tr th:only-of-type {\n",
       "        vertical-align: middle;\n",
       "    }\n",
       "\n",
       "    .dataframe tbody tr th {\n",
       "        vertical-align: top;\n",
       "    }\n",
       "\n",
       "    .dataframe thead th {\n",
       "        text-align: right;\n",
       "    }\n",
       "</style>\n",
       "<table border=\"1\" class=\"dataframe\">\n",
       "  <thead>\n",
       "    <tr style=\"text-align: right;\">\n",
       "      <th></th>\n",
       "      <th>Area</th>\n",
       "      <th>Year</th>\n",
       "      <th>Item</th>\n",
       "      <th>Area Harvested</th>\n",
       "      <th>Yield</th>\n",
       "    </tr>\n",
       "  </thead>\n",
       "  <tbody>\n",
       "    <tr>\n",
       "      <th>2560</th>\n",
       "      <td>Bangladesh</td>\n",
       "      <td>2008</td>\n",
       "      <td>Lentils</td>\n",
       "      <td>72581</td>\n",
       "      <td>9856</td>\n",
       "    </tr>\n",
       "    <tr>\n",
       "      <th>2720</th>\n",
       "      <td>Bangladesh</td>\n",
       "      <td>2011</td>\n",
       "      <td>Jute</td>\n",
       "      <td>708723</td>\n",
       "      <td>21494</td>\n",
       "    </tr>\n",
       "    <tr>\n",
       "      <th>1346</th>\n",
       "      <td>Bangladesh</td>\n",
       "      <td>1985</td>\n",
       "      <td>Vegetables, fresh nes</td>\n",
       "      <td>77023</td>\n",
       "      <td>62181</td>\n",
       "    </tr>\n",
       "    <tr>\n",
       "      <th>148</th>\n",
       "      <td>Bangladesh</td>\n",
       "      <td>1963</td>\n",
       "      <td>Sorghum</td>\n",
       "      <td>809</td>\n",
       "      <td>12559</td>\n",
       "    </tr>\n",
       "    <tr>\n",
       "      <th>2473</th>\n",
       "      <td>Bangladesh</td>\n",
       "      <td>2006</td>\n",
       "      <td>Sugar crops nes</td>\n",
       "      <td>20234</td>\n",
       "      <td>191756</td>\n",
       "    </tr>\n",
       "  </tbody>\n",
       "</table>\n",
       "</div>"
      ],
      "text/plain": [
       "            Area  Year                   Item  Area Harvested   Yield\n",
       "2560  Bangladesh  2008                Lentils           72581    9856\n",
       "2720  Bangladesh  2011                   Jute          708723   21494\n",
       "1346  Bangladesh  1985  Vegetables, fresh nes           77023   62181\n",
       "148   Bangladesh  1963                Sorghum             809   12559\n",
       "2473  Bangladesh  2006        Sugar crops nes           20234  191756"
      ]
     },
     "execution_count": 22,
     "metadata": {},
     "output_type": "execute_result"
    }
   ],
   "source": [
    "X_train.head()"
   ]
  },
  {
   "cell_type": "code",
   "execution_count": 21,
   "id": "6e4977cc",
   "metadata": {},
   "outputs": [
    {
     "data": {
      "text/plain": [
       "2560      71535\n",
       "2720    1523315\n",
       "1346     478940\n",
       "148        1016\n",
       "2473     388000\n",
       "Name: Production, dtype: int64"
      ]
     },
     "execution_count": 21,
     "metadata": {},
     "output_type": "execute_result"
    }
   ],
   "source": [
    "y_train.head()"
   ]
  },
  {
   "cell_type": "code",
   "execution_count": 23,
   "id": "668ac65f",
   "metadata": {},
   "outputs": [
    {
     "data": {
      "text/html": [
       "<div>\n",
       "<style scoped>\n",
       "    .dataframe tbody tr th:only-of-type {\n",
       "        vertical-align: middle;\n",
       "    }\n",
       "\n",
       "    .dataframe tbody tr th {\n",
       "        vertical-align: top;\n",
       "    }\n",
       "\n",
       "    .dataframe thead th {\n",
       "        text-align: right;\n",
       "    }\n",
       "</style>\n",
       "<table border=\"1\" class=\"dataframe\">\n",
       "  <thead>\n",
       "    <tr style=\"text-align: right;\">\n",
       "      <th></th>\n",
       "      <th>Area</th>\n",
       "      <th>Year</th>\n",
       "      <th>Item</th>\n",
       "      <th>Area Harvested</th>\n",
       "      <th>Yield</th>\n",
       "    </tr>\n",
       "  </thead>\n",
       "  <tbody>\n",
       "    <tr>\n",
       "      <th>3064</th>\n",
       "      <td>Bangladesh</td>\n",
       "      <td>2017</td>\n",
       "      <td>Spices nes</td>\n",
       "      <td>47332</td>\n",
       "      <td>35494</td>\n",
       "    </tr>\n",
       "    <tr>\n",
       "      <th>761</th>\n",
       "      <td>Bangladesh</td>\n",
       "      <td>1975</td>\n",
       "      <td>Beans, green</td>\n",
       "      <td>6632</td>\n",
       "      <td>39704</td>\n",
       "    </tr>\n",
       "    <tr>\n",
       "      <th>2692</th>\n",
       "      <td>Bangladesh</td>\n",
       "      <td>2010</td>\n",
       "      <td>Tea</td>\n",
       "      <td>52236</td>\n",
       "      <td>11486</td>\n",
       "    </tr>\n",
       "    <tr>\n",
       "      <th>2940</th>\n",
       "      <td>Bangladesh</td>\n",
       "      <td>2015</td>\n",
       "      <td>Linseed</td>\n",
       "      <td>7009</td>\n",
       "      <td>6941</td>\n",
       "    </tr>\n",
       "    <tr>\n",
       "      <th>1901</th>\n",
       "      <td>Bangladesh</td>\n",
       "      <td>1996</td>\n",
       "      <td>Coconuts</td>\n",
       "      <td>29200</td>\n",
       "      <td>30479</td>\n",
       "    </tr>\n",
       "  </tbody>\n",
       "</table>\n",
       "</div>"
      ],
      "text/plain": [
       "            Area  Year          Item  Area Harvested  Yield\n",
       "3064  Bangladesh  2017    Spices nes           47332  35494\n",
       "761   Bangladesh  1975  Beans, green            6632  39704\n",
       "2692  Bangladesh  2010           Tea           52236  11486\n",
       "2940  Bangladesh  2015       Linseed            7009   6941\n",
       "1901  Bangladesh  1996      Coconuts           29200  30479"
      ]
     },
     "execution_count": 23,
     "metadata": {},
     "output_type": "execute_result"
    }
   ],
   "source": [
    "X_test.head()"
   ]
  },
  {
   "cell_type": "code",
   "execution_count": 24,
   "id": "b6e4a213",
   "metadata": {},
   "outputs": [
    {
     "data": {
      "text/plain": [
       "3064    168000\n",
       "761      26332\n",
       "2692     60000\n",
       "2940      4865\n",
       "1901     89000\n",
       "Name: Production, dtype: int64"
      ]
     },
     "execution_count": 24,
     "metadata": {},
     "output_type": "execute_result"
    }
   ],
   "source": [
    "y_test.head()"
   ]
  },
  {
   "cell_type": "code",
   "execution_count": 30,
   "id": "7a70beb2",
   "metadata": {},
   "outputs": [],
   "source": [
    "# Validation Df\n",
    "train_validation, validation = train_test_split(X_train, test_size=0.2, random_state=2)"
   ]
  },
  {
   "cell_type": "code",
   "execution_count": 31,
   "id": "2fa1fd4e",
   "metadata": {},
   "outputs": [
    {
     "data": {
      "text/plain": [
       "2038"
      ]
     },
     "execution_count": 31,
     "metadata": {},
     "output_type": "execute_result"
    }
   ],
   "source": [
    "len(train_validation)"
   ]
  },
  {
   "cell_type": "code",
   "execution_count": 32,
   "id": "df9fc517",
   "metadata": {},
   "outputs": [
    {
     "data": {
      "text/plain": [
       "510"
      ]
     },
     "execution_count": 32,
     "metadata": {},
     "output_type": "execute_result"
    }
   ],
   "source": [
    "len(validation)"
   ]
  },
  {
   "cell_type": "code",
   "execution_count": 33,
   "id": "48901d0f",
   "metadata": {},
   "outputs": [
    {
     "data": {
      "text/html": [
       "<div>\n",
       "<style scoped>\n",
       "    .dataframe tbody tr th:only-of-type {\n",
       "        vertical-align: middle;\n",
       "    }\n",
       "\n",
       "    .dataframe tbody tr th {\n",
       "        vertical-align: top;\n",
       "    }\n",
       "\n",
       "    .dataframe thead th {\n",
       "        text-align: right;\n",
       "    }\n",
       "</style>\n",
       "<table border=\"1\" class=\"dataframe\">\n",
       "  <thead>\n",
       "    <tr style=\"text-align: right;\">\n",
       "      <th></th>\n",
       "      <th>Area</th>\n",
       "      <th>Year</th>\n",
       "      <th>Item</th>\n",
       "      <th>Area Harvested</th>\n",
       "      <th>Yield</th>\n",
       "    </tr>\n",
       "  </thead>\n",
       "  <tbody>\n",
       "    <tr>\n",
       "      <th>2943</th>\n",
       "      <td>Bangladesh</td>\n",
       "      <td>2015</td>\n",
       "      <td>Melons, other (inc.cantaloupes)</td>\n",
       "      <td>11740</td>\n",
       "      <td>233390</td>\n",
       "    </tr>\n",
       "    <tr>\n",
       "      <th>815</th>\n",
       "      <td>Bangladesh</td>\n",
       "      <td>1976</td>\n",
       "      <td>Beans, green</td>\n",
       "      <td>6989</td>\n",
       "      <td>41648</td>\n",
       "    </tr>\n",
       "    <tr>\n",
       "      <th>2258</th>\n",
       "      <td>Bangladesh</td>\n",
       "      <td>2002</td>\n",
       "      <td>Sweet potatoes</td>\n",
       "      <td>38056</td>\n",
       "      <td>90919</td>\n",
       "    </tr>\n",
       "    <tr>\n",
       "      <th>2936</th>\n",
       "      <td>Bangladesh</td>\n",
       "      <td>2015</td>\n",
       "      <td>Jute</td>\n",
       "      <td>677575</td>\n",
       "      <td>20647</td>\n",
       "    </tr>\n",
       "    <tr>\n",
       "      <th>2265</th>\n",
       "      <td>Bangladesh</td>\n",
       "      <td>2002</td>\n",
       "      <td>Roots and Tubers</td>\n",
       "      <td>275656</td>\n",
       "      <td>121166</td>\n",
       "    </tr>\n",
       "  </tbody>\n",
       "</table>\n",
       "</div>"
      ],
      "text/plain": [
       "            Area  Year                             Item  Area Harvested  \\\n",
       "2943  Bangladesh  2015  Melons, other (inc.cantaloupes)           11740   \n",
       "815   Bangladesh  1976                     Beans, green            6989   \n",
       "2258  Bangladesh  2002                   Sweet potatoes           38056   \n",
       "2936  Bangladesh  2015                             Jute          677575   \n",
       "2265  Bangladesh  2002                 Roots and Tubers          275656   \n",
       "\n",
       "       Yield  \n",
       "2943  233390  \n",
       "815    41648  \n",
       "2258   90919  \n",
       "2936   20647  \n",
       "2265  121166  "
      ]
     },
     "execution_count": 33,
     "metadata": {},
     "output_type": "execute_result"
    }
   ],
   "source": [
    "validation.head()"
   ]
  },
  {
   "cell_type": "code",
   "execution_count": 12,
   "id": "d1c39908",
   "metadata": {},
   "outputs": [],
   "source": [
    "from sklearn.preprocessing import OneHotEncoder"
   ]
  },
  {
   "cell_type": "code",
   "execution_count": 13,
   "id": "8c6ce87b",
   "metadata": {},
   "outputs": [],
   "source": [
    "# object\n",
    "# multicollinearity removal\n",
    "# removing the catagories from the columns with drop first\n",
    "ohe = OneHotEncoder(drop='first',sparse=False,dtype=np.int32)"
   ]
  },
  {
   "cell_type": "code",
   "execution_count": 14,
   "id": "a497d213",
   "metadata": {},
   "outputs": [
    {
     "data": {
      "text/plain": [
       "array([[0, 0, 0, ..., 0, 0, 0],\n",
       "       [0, 0, 0, ..., 0, 0, 0],\n",
       "       [0, 0, 0, ..., 0, 1, 0],\n",
       "       ...,\n",
       "       [0, 0, 0, ..., 0, 0, 0],\n",
       "       [0, 0, 0, ..., 0, 0, 0],\n",
       "       [0, 0, 0, ..., 0, 0, 0]])"
      ]
     },
     "execution_count": 14,
     "metadata": {},
     "output_type": "execute_result"
    }
   ],
   "source": [
    "X_train_new = ohe.fit_transform(X_train[['Area','Item']])\n",
    "# we get the no. of cols depending on the categories\n",
    "X_train_new"
   ]
  },
  {
   "cell_type": "code",
   "execution_count": 15,
   "id": "c35e8425",
   "metadata": {},
   "outputs": [],
   "source": [
    "X_test_new = ohe.transform(X_test[['Area','Item']])"
   ]
  },
  {
   "cell_type": "code",
   "execution_count": 16,
   "id": "f9ef2cfa",
   "metadata": {},
   "outputs": [
    {
     "data": {
      "text/plain": [
       "array([[0, 0, 0, ..., 0, 0, 0],\n",
       "       [0, 0, 0, ..., 0, 0, 0],\n",
       "       [0, 0, 0, ..., 0, 0, 0],\n",
       "       ...,\n",
       "       [0, 0, 0, ..., 0, 0, 0],\n",
       "       [0, 0, 0, ..., 0, 0, 0],\n",
       "       [0, 0, 1, ..., 0, 0, 0]])"
      ]
     },
     "execution_count": 16,
     "metadata": {},
     "output_type": "execute_result"
    }
   ],
   "source": [
    "X_test_new"
   ]
  },
  {
   "cell_type": "code",
   "execution_count": 17,
   "id": "7a58c9ce",
   "metadata": {},
   "outputs": [
    {
     "data": {
      "text/plain": [
       "array([[    2008,    72581,     9856, ...,        0,        0,        0],\n",
       "       [    2011,   708723,    21494, ...,        0,        0,        0],\n",
       "       [    1985,    77023,    62181, ...,        0,        1,        0],\n",
       "       ...,\n",
       "       [    1990,     4014,    45279, ...,        0,        0,        0],\n",
       "       [    2008,    46482,     8547, ...,        0,        0,        0],\n",
       "       [    2008, 11279150,    41441, ...,        0,        0,        0]],\n",
       "      dtype=int64)"
      ]
     },
     "execution_count": 17,
     "metadata": {},
     "output_type": "execute_result"
    }
   ],
   "source": [
    "# now to append everything together\n",
    "data = np.hstack((X_train[['Year','Area Harvested','Yield']].values,X_train_new))\n",
    "data"
   ]
  },
  {
   "cell_type": "code",
   "execution_count": 18,
   "id": "5ffff98a",
   "metadata": {},
   "outputs": [
    {
     "data": {
      "text/plain": [
       "(2548, 56)"
      ]
     },
     "execution_count": 18,
     "metadata": {},
     "output_type": "execute_result"
    }
   ],
   "source": [
    "data.shape"
   ]
  },
  {
   "cell_type": "code",
   "execution_count": 19,
   "id": "a297cf7b",
   "metadata": {},
   "outputs": [],
   "source": [
    "# independent variables, everything else\n",
    "x = data[:,0:5]\n",
    "\n",
    "# dependent variable, production\n",
    "y = data[:,-1]\n",
    "\n",
    "X_train_new, X_test_new, y_train, y_test = train_test_split(x,y,test_size=0.2, random_state=0)"
   ]
  },
  {
   "cell_type": "code",
   "execution_count": 1,
   "id": "8cca971d",
   "metadata": {},
   "outputs": [],
   "source": [
    "from sklearn.svm import SVC"
   ]
  }
 ],
 "metadata": {
  "kernelspec": {
   "display_name": "Python 3 (ipykernel)",
   "language": "python",
   "name": "python3"
  },
  "language_info": {
   "codemirror_mode": {
    "name": "ipython",
    "version": 3
   },
   "file_extension": ".py",
   "mimetype": "text/x-python",
   "name": "python",
   "nbconvert_exporter": "python",
   "pygments_lexer": "ipython3",
   "version": "3.10.0"
  }
 },
 "nbformat": 4,
 "nbformat_minor": 5
}
